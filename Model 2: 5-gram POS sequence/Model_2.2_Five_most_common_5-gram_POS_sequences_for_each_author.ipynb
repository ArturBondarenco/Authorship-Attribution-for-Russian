{
  "nbformat": 4,
  "nbformat_minor": 0,
  "metadata": {
    "colab": {
      "provenance": []
    },
    "kernelspec": {
      "name": "python3",
      "display_name": "Python 3"
    },
    "language_info": {
      "name": "python"
    }
  },
  "cells": [
    {
      "cell_type": "markdown",
      "source": [
        "# Preparing the data"
      ],
      "metadata": {
        "id": "5VUYi1CJI71O"
      }
    },
    {
      "cell_type": "markdown",
      "source": [
        "## Importing libraries, downloading the model"
      ],
      "metadata": {
        "id": "Q9CN2W-tJB7Z"
      }
    },
    {
      "cell_type": "code",
      "execution_count": 1,
      "metadata": {
        "colab": {
          "base_uri": "https://localhost:8080/"
        },
        "id": "KihGAH5wGt8M",
        "outputId": "f59edc10-c0a0-46bb-9b2b-3c2404143871"
      },
      "outputs": [
        {
          "output_type": "stream",
          "name": "stdout",
          "text": [
            "2.0.3\n",
            "1.2.2\n",
            "1.25.2\n"
          ]
        }
      ],
      "source": [
        "import pandas\n",
        "import sklearn\n",
        "import numpy\n",
        "import spacy\n",
        "from collections import Counter\n",
        "import sys\n",
        "from sklearn.linear_model import LogisticRegression\n",
        "import pickle\n",
        "from sklearn.metrics import classification_report\n",
        "\n",
        "#Besides modules, I will also import some functions written by me from my functions.py file\n",
        "from functions import predict_new, predict2, model_analysis2, fivegram_pos_extractor_from_sentence\n",
        "\n",
        "print(pandas.__version__)\n",
        "print(sklearn.__version__)\n",
        "print(numpy.__version__)"
      ]
    },
    {
      "cell_type": "code",
      "source": [
        "# Small Russian model:\n",
        "# !python -m spacy download ru_core_news_sm\n",
        "# nlp = spacy.load('ru_core_news_sm')\n",
        "\n",
        "# Large Russian model:\n",
        "!python -m spacy download ru_core_news_lg\n",
        "nlp = spacy.load('ru_core_news_lg')"
      ],
      "metadata": {
        "colab": {
          "base_uri": "https://localhost:8080/"
        },
        "id": "qnqaCaQNJJTG",
        "outputId": "483b2b88-e345-48f7-8fec-0a7635130a8a"
      },
      "execution_count": 2,
      "outputs": [
        {
          "output_type": "stream",
          "name": "stdout",
          "text": [
            "Collecting ru-core-news-lg==3.7.0\n",
            "  Downloading https://github.com/explosion/spacy-models/releases/download/ru_core_news_lg-3.7.0/ru_core_news_lg-3.7.0-py3-none-any.whl (513.4 MB)\n",
            "\u001b[2K     \u001b[90m━━━━━━━━━━━━━━━━━━━━━━━━━━━━━━━━━━━━━━━━\u001b[0m \u001b[32m513.4/513.4 MB\u001b[0m \u001b[31m908.3 kB/s\u001b[0m eta \u001b[36m0:00:00\u001b[0m\n",
            "\u001b[?25hRequirement already satisfied: spacy<3.8.0,>=3.7.0 in /usr/local/lib/python3.10/dist-packages (from ru-core-news-lg==3.7.0) (3.7.5)\n",
            "Collecting pymorphy3>=1.0.0 (from ru-core-news-lg==3.7.0)\n",
            "  Downloading pymorphy3-2.0.2-py3-none-any.whl (53 kB)\n",
            "\u001b[2K     \u001b[90m━━━━━━━━━━━━━━━━━━━━━━━━━━━━━━━━━━━━━━━━\u001b[0m \u001b[32m53.8/53.8 kB\u001b[0m \u001b[31m1.1 MB/s\u001b[0m eta \u001b[36m0:00:00\u001b[0m\n",
            "\u001b[?25hCollecting dawg-python>=0.7.1 (from pymorphy3>=1.0.0->ru-core-news-lg==3.7.0)\n",
            "  Downloading DAWG_Python-0.7.2-py2.py3-none-any.whl (11 kB)\n",
            "Collecting pymorphy3-dicts-ru (from pymorphy3>=1.0.0->ru-core-news-lg==3.7.0)\n",
            "  Downloading pymorphy3_dicts_ru-2.4.417150.4580142-py2.py3-none-any.whl (8.4 MB)\n",
            "\u001b[2K     \u001b[90m━━━━━━━━━━━━━━━━━━━━━━━━━━━━━━━━━━━━━━━━\u001b[0m \u001b[32m8.4/8.4 MB\u001b[0m \u001b[31m37.9 MB/s\u001b[0m eta \u001b[36m0:00:00\u001b[0m\n",
            "\u001b[?25hRequirement already satisfied: spacy-legacy<3.1.0,>=3.0.11 in /usr/local/lib/python3.10/dist-packages (from spacy<3.8.0,>=3.7.0->ru-core-news-lg==3.7.0) (3.0.12)\n",
            "Requirement already satisfied: spacy-loggers<2.0.0,>=1.0.0 in /usr/local/lib/python3.10/dist-packages (from spacy<3.8.0,>=3.7.0->ru-core-news-lg==3.7.0) (1.0.5)\n",
            "Requirement already satisfied: murmurhash<1.1.0,>=0.28.0 in /usr/local/lib/python3.10/dist-packages (from spacy<3.8.0,>=3.7.0->ru-core-news-lg==3.7.0) (1.0.10)\n",
            "Requirement already satisfied: cymem<2.1.0,>=2.0.2 in /usr/local/lib/python3.10/dist-packages (from spacy<3.8.0,>=3.7.0->ru-core-news-lg==3.7.0) (2.0.8)\n",
            "Requirement already satisfied: preshed<3.1.0,>=3.0.2 in /usr/local/lib/python3.10/dist-packages (from spacy<3.8.0,>=3.7.0->ru-core-news-lg==3.7.0) (3.0.9)\n",
            "Requirement already satisfied: thinc<8.3.0,>=8.2.2 in /usr/local/lib/python3.10/dist-packages (from spacy<3.8.0,>=3.7.0->ru-core-news-lg==3.7.0) (8.2.5)\n",
            "Requirement already satisfied: wasabi<1.2.0,>=0.9.1 in /usr/local/lib/python3.10/dist-packages (from spacy<3.8.0,>=3.7.0->ru-core-news-lg==3.7.0) (1.1.3)\n",
            "Requirement already satisfied: srsly<3.0.0,>=2.4.3 in /usr/local/lib/python3.10/dist-packages (from spacy<3.8.0,>=3.7.0->ru-core-news-lg==3.7.0) (2.4.8)\n",
            "Requirement already satisfied: catalogue<2.1.0,>=2.0.6 in /usr/local/lib/python3.10/dist-packages (from spacy<3.8.0,>=3.7.0->ru-core-news-lg==3.7.0) (2.0.10)\n",
            "Requirement already satisfied: weasel<0.5.0,>=0.1.0 in /usr/local/lib/python3.10/dist-packages (from spacy<3.8.0,>=3.7.0->ru-core-news-lg==3.7.0) (0.4.1)\n",
            "Requirement already satisfied: typer<1.0.0,>=0.3.0 in /usr/local/lib/python3.10/dist-packages (from spacy<3.8.0,>=3.7.0->ru-core-news-lg==3.7.0) (0.12.3)\n",
            "Requirement already satisfied: tqdm<5.0.0,>=4.38.0 in /usr/local/lib/python3.10/dist-packages (from spacy<3.8.0,>=3.7.0->ru-core-news-lg==3.7.0) (4.66.4)\n",
            "Requirement already satisfied: requests<3.0.0,>=2.13.0 in /usr/local/lib/python3.10/dist-packages (from spacy<3.8.0,>=3.7.0->ru-core-news-lg==3.7.0) (2.31.0)\n",
            "Requirement already satisfied: pydantic!=1.8,!=1.8.1,<3.0.0,>=1.7.4 in /usr/local/lib/python3.10/dist-packages (from spacy<3.8.0,>=3.7.0->ru-core-news-lg==3.7.0) (2.8.0)\n",
            "Requirement already satisfied: jinja2 in /usr/local/lib/python3.10/dist-packages (from spacy<3.8.0,>=3.7.0->ru-core-news-lg==3.7.0) (3.1.4)\n",
            "Requirement already satisfied: setuptools in /usr/local/lib/python3.10/dist-packages (from spacy<3.8.0,>=3.7.0->ru-core-news-lg==3.7.0) (67.7.2)\n",
            "Requirement already satisfied: packaging>=20.0 in /usr/local/lib/python3.10/dist-packages (from spacy<3.8.0,>=3.7.0->ru-core-news-lg==3.7.0) (24.1)\n",
            "Requirement already satisfied: langcodes<4.0.0,>=3.2.0 in /usr/local/lib/python3.10/dist-packages (from spacy<3.8.0,>=3.7.0->ru-core-news-lg==3.7.0) (3.4.0)\n",
            "Requirement already satisfied: numpy>=1.19.0 in /usr/local/lib/python3.10/dist-packages (from spacy<3.8.0,>=3.7.0->ru-core-news-lg==3.7.0) (1.25.2)\n",
            "Requirement already satisfied: language-data>=1.2 in /usr/local/lib/python3.10/dist-packages (from langcodes<4.0.0,>=3.2.0->spacy<3.8.0,>=3.7.0->ru-core-news-lg==3.7.0) (1.2.0)\n",
            "Requirement already satisfied: annotated-types>=0.4.0 in /usr/local/lib/python3.10/dist-packages (from pydantic!=1.8,!=1.8.1,<3.0.0,>=1.7.4->spacy<3.8.0,>=3.7.0->ru-core-news-lg==3.7.0) (0.7.0)\n",
            "Requirement already satisfied: pydantic-core==2.20.0 in /usr/local/lib/python3.10/dist-packages (from pydantic!=1.8,!=1.8.1,<3.0.0,>=1.7.4->spacy<3.8.0,>=3.7.0->ru-core-news-lg==3.7.0) (2.20.0)\n",
            "Requirement already satisfied: typing-extensions>=4.6.1 in /usr/local/lib/python3.10/dist-packages (from pydantic!=1.8,!=1.8.1,<3.0.0,>=1.7.4->spacy<3.8.0,>=3.7.0->ru-core-news-lg==3.7.0) (4.12.2)\n",
            "Requirement already satisfied: charset-normalizer<4,>=2 in /usr/local/lib/python3.10/dist-packages (from requests<3.0.0,>=2.13.0->spacy<3.8.0,>=3.7.0->ru-core-news-lg==3.7.0) (3.3.2)\n",
            "Requirement already satisfied: idna<4,>=2.5 in /usr/local/lib/python3.10/dist-packages (from requests<3.0.0,>=2.13.0->spacy<3.8.0,>=3.7.0->ru-core-news-lg==3.7.0) (3.7)\n",
            "Requirement already satisfied: urllib3<3,>=1.21.1 in /usr/local/lib/python3.10/dist-packages (from requests<3.0.0,>=2.13.0->spacy<3.8.0,>=3.7.0->ru-core-news-lg==3.7.0) (2.0.7)\n",
            "Requirement already satisfied: certifi>=2017.4.17 in /usr/local/lib/python3.10/dist-packages (from requests<3.0.0,>=2.13.0->spacy<3.8.0,>=3.7.0->ru-core-news-lg==3.7.0) (2024.6.2)\n",
            "Requirement already satisfied: blis<0.8.0,>=0.7.8 in /usr/local/lib/python3.10/dist-packages (from thinc<8.3.0,>=8.2.2->spacy<3.8.0,>=3.7.0->ru-core-news-lg==3.7.0) (0.7.11)\n",
            "Requirement already satisfied: confection<1.0.0,>=0.0.1 in /usr/local/lib/python3.10/dist-packages (from thinc<8.3.0,>=8.2.2->spacy<3.8.0,>=3.7.0->ru-core-news-lg==3.7.0) (0.1.5)\n",
            "Requirement already satisfied: click>=8.0.0 in /usr/local/lib/python3.10/dist-packages (from typer<1.0.0,>=0.3.0->spacy<3.8.0,>=3.7.0->ru-core-news-lg==3.7.0) (8.1.7)\n",
            "Requirement already satisfied: shellingham>=1.3.0 in /usr/local/lib/python3.10/dist-packages (from typer<1.0.0,>=0.3.0->spacy<3.8.0,>=3.7.0->ru-core-news-lg==3.7.0) (1.5.4)\n",
            "Requirement already satisfied: rich>=10.11.0 in /usr/local/lib/python3.10/dist-packages (from typer<1.0.0,>=0.3.0->spacy<3.8.0,>=3.7.0->ru-core-news-lg==3.7.0) (13.7.1)\n",
            "Requirement already satisfied: cloudpathlib<1.0.0,>=0.7.0 in /usr/local/lib/python3.10/dist-packages (from weasel<0.5.0,>=0.1.0->spacy<3.8.0,>=3.7.0->ru-core-news-lg==3.7.0) (0.18.1)\n",
            "Requirement already satisfied: smart-open<8.0.0,>=5.2.1 in /usr/local/lib/python3.10/dist-packages (from weasel<0.5.0,>=0.1.0->spacy<3.8.0,>=3.7.0->ru-core-news-lg==3.7.0) (7.0.4)\n",
            "Requirement already satisfied: MarkupSafe>=2.0 in /usr/local/lib/python3.10/dist-packages (from jinja2->spacy<3.8.0,>=3.7.0->ru-core-news-lg==3.7.0) (2.1.5)\n",
            "Requirement already satisfied: marisa-trie>=0.7.7 in /usr/local/lib/python3.10/dist-packages (from language-data>=1.2->langcodes<4.0.0,>=3.2.0->spacy<3.8.0,>=3.7.0->ru-core-news-lg==3.7.0) (1.2.0)\n",
            "Requirement already satisfied: markdown-it-py>=2.2.0 in /usr/local/lib/python3.10/dist-packages (from rich>=10.11.0->typer<1.0.0,>=0.3.0->spacy<3.8.0,>=3.7.0->ru-core-news-lg==3.7.0) (3.0.0)\n",
            "Requirement already satisfied: pygments<3.0.0,>=2.13.0 in /usr/local/lib/python3.10/dist-packages (from rich>=10.11.0->typer<1.0.0,>=0.3.0->spacy<3.8.0,>=3.7.0->ru-core-news-lg==3.7.0) (2.16.1)\n",
            "Requirement already satisfied: wrapt in /usr/local/lib/python3.10/dist-packages (from smart-open<8.0.0,>=5.2.1->weasel<0.5.0,>=0.1.0->spacy<3.8.0,>=3.7.0->ru-core-news-lg==3.7.0) (1.14.1)\n",
            "Requirement already satisfied: mdurl~=0.1 in /usr/local/lib/python3.10/dist-packages (from markdown-it-py>=2.2.0->rich>=10.11.0->typer<1.0.0,>=0.3.0->spacy<3.8.0,>=3.7.0->ru-core-news-lg==3.7.0) (0.1.2)\n",
            "Installing collected packages: pymorphy3-dicts-ru, dawg-python, pymorphy3, ru-core-news-lg\n",
            "Successfully installed dawg-python-0.7.2 pymorphy3-2.0.2 pymorphy3-dicts-ru-2.4.417150.4580142 ru-core-news-lg-3.7.0\n",
            "\u001b[38;5;2m✔ Download and installation successful\u001b[0m\n",
            "You can now load the package via spacy.load('ru_core_news_lg')\n",
            "\u001b[38;5;3m⚠ Restart to reload dependencies\u001b[0m\n",
            "If you are in a Jupyter or Colab notebook, you may need to restart Python in\n",
            "order to load all the package's dependencies. You can do this by selecting the\n",
            "'Restart kernel' or 'Restart runtime' option.\n"
          ]
        }
      ]
    },
    {
      "cell_type": "markdown",
      "source": [
        "## Making lists from csv files"
      ],
      "metadata": {
        "id": "ZkOq7P5lJOO3"
      }
    },
    {
      "cell_type": "code",
      "source": [
        "# Let's load the training data from a csv file\n",
        "train_set = pandas.read_csv('./train_data_2024.csv', encoding='utf-8')\n",
        "train_set.head()"
      ],
      "metadata": {
        "id": "J7YQL13sJLuK",
        "colab": {
          "base_uri": "https://localhost:8080/",
          "height": 206
        },
        "outputId": "82ed4b5c-60f9-4729-9fdd-a8fe16beaa4f"
      },
      "execution_count": 3,
      "outputs": [
        {
          "output_type": "execute_result",
          "data": {
            "text/plain": [
              "                                                text      author\n",
              "0  Он старался не развлекаться и не портить себе ...     Tolstoy\n",
              "1         Всегда этак у меня перед припадком бывает.     Chekhov\n",
              "2  Катерина Николаевна тут же и.   отказала ему, ...  Dostoevsky\n",
              "3                                    Анна Андреевна.       Gogol\n",
              "4  — То, что я видел сейчас, хуже всякой простуды...     Chekhov"
            ],
            "text/html": [
              "\n",
              "  <div id=\"df-3e430d0d-5be5-4647-aead-bdc67e6532b0\" class=\"colab-df-container\">\n",
              "    <div>\n",
              "<style scoped>\n",
              "    .dataframe tbody tr th:only-of-type {\n",
              "        vertical-align: middle;\n",
              "    }\n",
              "\n",
              "    .dataframe tbody tr th {\n",
              "        vertical-align: top;\n",
              "    }\n",
              "\n",
              "    .dataframe thead th {\n",
              "        text-align: right;\n",
              "    }\n",
              "</style>\n",
              "<table border=\"1\" class=\"dataframe\">\n",
              "  <thead>\n",
              "    <tr style=\"text-align: right;\">\n",
              "      <th></th>\n",
              "      <th>text</th>\n",
              "      <th>author</th>\n",
              "    </tr>\n",
              "  </thead>\n",
              "  <tbody>\n",
              "    <tr>\n",
              "      <th>0</th>\n",
              "      <td>Он старался не развлекаться и не портить себе ...</td>\n",
              "      <td>Tolstoy</td>\n",
              "    </tr>\n",
              "    <tr>\n",
              "      <th>1</th>\n",
              "      <td>Всегда этак у меня перед припадком бывает.</td>\n",
              "      <td>Chekhov</td>\n",
              "    </tr>\n",
              "    <tr>\n",
              "      <th>2</th>\n",
              "      <td>Катерина Николаевна тут же и.   отказала ему, ...</td>\n",
              "      <td>Dostoevsky</td>\n",
              "    </tr>\n",
              "    <tr>\n",
              "      <th>3</th>\n",
              "      <td>Анна Андреевна.</td>\n",
              "      <td>Gogol</td>\n",
              "    </tr>\n",
              "    <tr>\n",
              "      <th>4</th>\n",
              "      <td>— То, что я видел сейчас, хуже всякой простуды...</td>\n",
              "      <td>Chekhov</td>\n",
              "    </tr>\n",
              "  </tbody>\n",
              "</table>\n",
              "</div>\n",
              "    <div class=\"colab-df-buttons\">\n",
              "\n",
              "  <div class=\"colab-df-container\">\n",
              "    <button class=\"colab-df-convert\" onclick=\"convertToInteractive('df-3e430d0d-5be5-4647-aead-bdc67e6532b0')\"\n",
              "            title=\"Convert this dataframe to an interactive table.\"\n",
              "            style=\"display:none;\">\n",
              "\n",
              "  <svg xmlns=\"http://www.w3.org/2000/svg\" height=\"24px\" viewBox=\"0 -960 960 960\">\n",
              "    <path d=\"M120-120v-720h720v720H120Zm60-500h600v-160H180v160Zm220 220h160v-160H400v160Zm0 220h160v-160H400v160ZM180-400h160v-160H180v160Zm440 0h160v-160H620v160ZM180-180h160v-160H180v160Zm440 0h160v-160H620v160Z\"/>\n",
              "  </svg>\n",
              "    </button>\n",
              "\n",
              "  <style>\n",
              "    .colab-df-container {\n",
              "      display:flex;\n",
              "      gap: 12px;\n",
              "    }\n",
              "\n",
              "    .colab-df-convert {\n",
              "      background-color: #E8F0FE;\n",
              "      border: none;\n",
              "      border-radius: 50%;\n",
              "      cursor: pointer;\n",
              "      display: none;\n",
              "      fill: #1967D2;\n",
              "      height: 32px;\n",
              "      padding: 0 0 0 0;\n",
              "      width: 32px;\n",
              "    }\n",
              "\n",
              "    .colab-df-convert:hover {\n",
              "      background-color: #E2EBFA;\n",
              "      box-shadow: 0px 1px 2px rgba(60, 64, 67, 0.3), 0px 1px 3px 1px rgba(60, 64, 67, 0.15);\n",
              "      fill: #174EA6;\n",
              "    }\n",
              "\n",
              "    .colab-df-buttons div {\n",
              "      margin-bottom: 4px;\n",
              "    }\n",
              "\n",
              "    [theme=dark] .colab-df-convert {\n",
              "      background-color: #3B4455;\n",
              "      fill: #D2E3FC;\n",
              "    }\n",
              "\n",
              "    [theme=dark] .colab-df-convert:hover {\n",
              "      background-color: #434B5C;\n",
              "      box-shadow: 0px 1px 3px 1px rgba(0, 0, 0, 0.15);\n",
              "      filter: drop-shadow(0px 1px 2px rgba(0, 0, 0, 0.3));\n",
              "      fill: #FFFFFF;\n",
              "    }\n",
              "  </style>\n",
              "\n",
              "    <script>\n",
              "      const buttonEl =\n",
              "        document.querySelector('#df-3e430d0d-5be5-4647-aead-bdc67e6532b0 button.colab-df-convert');\n",
              "      buttonEl.style.display =\n",
              "        google.colab.kernel.accessAllowed ? 'block' : 'none';\n",
              "\n",
              "      async function convertToInteractive(key) {\n",
              "        const element = document.querySelector('#df-3e430d0d-5be5-4647-aead-bdc67e6532b0');\n",
              "        const dataTable =\n",
              "          await google.colab.kernel.invokeFunction('convertToInteractive',\n",
              "                                                    [key], {});\n",
              "        if (!dataTable) return;\n",
              "\n",
              "        const docLinkHtml = 'Like what you see? Visit the ' +\n",
              "          '<a target=\"_blank\" href=https://colab.research.google.com/notebooks/data_table.ipynb>data table notebook</a>'\n",
              "          + ' to learn more about interactive tables.';\n",
              "        element.innerHTML = '';\n",
              "        dataTable['output_type'] = 'display_data';\n",
              "        await google.colab.output.renderOutput(dataTable, element);\n",
              "        const docLink = document.createElement('div');\n",
              "        docLink.innerHTML = docLinkHtml;\n",
              "        element.appendChild(docLink);\n",
              "      }\n",
              "    </script>\n",
              "  </div>\n",
              "\n",
              "\n",
              "<div id=\"df-950077c0-b536-4edb-b605-bfd99a33fe2a\">\n",
              "  <button class=\"colab-df-quickchart\" onclick=\"quickchart('df-950077c0-b536-4edb-b605-bfd99a33fe2a')\"\n",
              "            title=\"Suggest charts\"\n",
              "            style=\"display:none;\">\n",
              "\n",
              "<svg xmlns=\"http://www.w3.org/2000/svg\" height=\"24px\"viewBox=\"0 0 24 24\"\n",
              "     width=\"24px\">\n",
              "    <g>\n",
              "        <path d=\"M19 3H5c-1.1 0-2 .9-2 2v14c0 1.1.9 2 2 2h14c1.1 0 2-.9 2-2V5c0-1.1-.9-2-2-2zM9 17H7v-7h2v7zm4 0h-2V7h2v10zm4 0h-2v-4h2v4z\"/>\n",
              "    </g>\n",
              "</svg>\n",
              "  </button>\n",
              "\n",
              "<style>\n",
              "  .colab-df-quickchart {\n",
              "      --bg-color: #E8F0FE;\n",
              "      --fill-color: #1967D2;\n",
              "      --hover-bg-color: #E2EBFA;\n",
              "      --hover-fill-color: #174EA6;\n",
              "      --disabled-fill-color: #AAA;\n",
              "      --disabled-bg-color: #DDD;\n",
              "  }\n",
              "\n",
              "  [theme=dark] .colab-df-quickchart {\n",
              "      --bg-color: #3B4455;\n",
              "      --fill-color: #D2E3FC;\n",
              "      --hover-bg-color: #434B5C;\n",
              "      --hover-fill-color: #FFFFFF;\n",
              "      --disabled-bg-color: #3B4455;\n",
              "      --disabled-fill-color: #666;\n",
              "  }\n",
              "\n",
              "  .colab-df-quickchart {\n",
              "    background-color: var(--bg-color);\n",
              "    border: none;\n",
              "    border-radius: 50%;\n",
              "    cursor: pointer;\n",
              "    display: none;\n",
              "    fill: var(--fill-color);\n",
              "    height: 32px;\n",
              "    padding: 0;\n",
              "    width: 32px;\n",
              "  }\n",
              "\n",
              "  .colab-df-quickchart:hover {\n",
              "    background-color: var(--hover-bg-color);\n",
              "    box-shadow: 0 1px 2px rgba(60, 64, 67, 0.3), 0 1px 3px 1px rgba(60, 64, 67, 0.15);\n",
              "    fill: var(--button-hover-fill-color);\n",
              "  }\n",
              "\n",
              "  .colab-df-quickchart-complete:disabled,\n",
              "  .colab-df-quickchart-complete:disabled:hover {\n",
              "    background-color: var(--disabled-bg-color);\n",
              "    fill: var(--disabled-fill-color);\n",
              "    box-shadow: none;\n",
              "  }\n",
              "\n",
              "  .colab-df-spinner {\n",
              "    border: 2px solid var(--fill-color);\n",
              "    border-color: transparent;\n",
              "    border-bottom-color: var(--fill-color);\n",
              "    animation:\n",
              "      spin 1s steps(1) infinite;\n",
              "  }\n",
              "\n",
              "  @keyframes spin {\n",
              "    0% {\n",
              "      border-color: transparent;\n",
              "      border-bottom-color: var(--fill-color);\n",
              "      border-left-color: var(--fill-color);\n",
              "    }\n",
              "    20% {\n",
              "      border-color: transparent;\n",
              "      border-left-color: var(--fill-color);\n",
              "      border-top-color: var(--fill-color);\n",
              "    }\n",
              "    30% {\n",
              "      border-color: transparent;\n",
              "      border-left-color: var(--fill-color);\n",
              "      border-top-color: var(--fill-color);\n",
              "      border-right-color: var(--fill-color);\n",
              "    }\n",
              "    40% {\n",
              "      border-color: transparent;\n",
              "      border-right-color: var(--fill-color);\n",
              "      border-top-color: var(--fill-color);\n",
              "    }\n",
              "    60% {\n",
              "      border-color: transparent;\n",
              "      border-right-color: var(--fill-color);\n",
              "    }\n",
              "    80% {\n",
              "      border-color: transparent;\n",
              "      border-right-color: var(--fill-color);\n",
              "      border-bottom-color: var(--fill-color);\n",
              "    }\n",
              "    90% {\n",
              "      border-color: transparent;\n",
              "      border-bottom-color: var(--fill-color);\n",
              "    }\n",
              "  }\n",
              "</style>\n",
              "\n",
              "  <script>\n",
              "    async function quickchart(key) {\n",
              "      const quickchartButtonEl =\n",
              "        document.querySelector('#' + key + ' button');\n",
              "      quickchartButtonEl.disabled = true;  // To prevent multiple clicks.\n",
              "      quickchartButtonEl.classList.add('colab-df-spinner');\n",
              "      try {\n",
              "        const charts = await google.colab.kernel.invokeFunction(\n",
              "            'suggestCharts', [key], {});\n",
              "      } catch (error) {\n",
              "        console.error('Error during call to suggestCharts:', error);\n",
              "      }\n",
              "      quickchartButtonEl.classList.remove('colab-df-spinner');\n",
              "      quickchartButtonEl.classList.add('colab-df-quickchart-complete');\n",
              "    }\n",
              "    (() => {\n",
              "      let quickchartButtonEl =\n",
              "        document.querySelector('#df-950077c0-b536-4edb-b605-bfd99a33fe2a button');\n",
              "      quickchartButtonEl.style.display =\n",
              "        google.colab.kernel.accessAllowed ? 'block' : 'none';\n",
              "    })();\n",
              "  </script>\n",
              "</div>\n",
              "    </div>\n",
              "  </div>\n"
            ],
            "application/vnd.google.colaboratory.intrinsic+json": {
              "type": "dataframe",
              "variable_name": "train_set",
              "summary": "{\n  \"name\": \"train_set\",\n  \"rows\": 10000,\n  \"fields\": [\n    {\n      \"column\": \"text\",\n      \"properties\": {\n        \"dtype\": \"string\",\n        \"num_unique_values\": 9852,\n        \"samples\": [\n          \"\\u041f\\u043e\\u0441\\u043b\\u044b\\u0448\\u0430\\u043b\\u0441\\u044f \\u043e\\u0434\\u0438\\u043d \\u0433\\u043e\\u043b\\u043e\\u0441: \\u00ab\\u0421\\u043c\\u0438\\u0440\\u043d\\u043e!\\u00bb \\u041f\\u043e\\u0442\\u043e\\u043c, \\u043a\\u0430\\u043a \\u043f\\u0435\\u0442\\u0443\\u0445\\u0438 \\u043d\\u0430 \\u0437\\u0430\\u0440\\u0435, \\u043f\\u043e\\u0432\\u0442\\u043e\\u0440\\u0438\\u043b\\u0438\\u0441\\u044c \\u0433\\u043e\\u043b\\u043e\\u0441\\u0430 \\u0432 \\u0440\\u0430\\u0437\\u043d\\u044b\\u0445 \\u043a\\u043e\\u043d\\u0446\\u0430\\u0445.\",\n          \"\\u041d\\u0430 \\u0441\\u0435\\u0431\\u044f \\u0442\\u043e\\u043b\\u044c\\u043a\\u043e \\u043f\\u0440\\u0438\\u043d\\u0438\\u043c\\u0430\\u043b \\u043e\\u043d \\u0442\\u0440\\u0443\\u0434 \\u0436\\u0435\\u0432\\u0430\\u0442\\u044c \\u0438 \\u043f\\u0440\\u043e\\u0433\\u043b\\u0430\\u0442\\u044b\\u0432\\u0430\\u0442\\u044c.. \\u00ab\\u0412\\u0438\\u0448\\u044c, \\u043a\\u0430\\u043a\\u043e\\u0435 \\u0434\\u0438\\u0432\\u043e!\\u00bb \\u2014 \\u043f\\u043e\\u0434\\u0443\\u043c\\u0430\\u043b \\u043a\\u0443\\u0437\\u043d\\u0435\\u0446, \\u0440\\u0430\\u0437\\u0438\\u043d\\u0443\\u0432 \\u043e\\u0442 \\u0443\\u0434\\u0438\\u0432\\u043b\\u0435\\u043d\\u0438\\u044f \\u0440\\u043e\\u0442, \\u0438 \\u0442\\u043e\\u0442 \\u0436\\u0435 \\u0447\\u0430\\u0441 \\u0437\\u0430\\u043c\\u0435\\u0442\\u0438\\u043b, \\u0447\\u0442\\u043e \\u0432\\u0430\\u0440\\u0435\\u043d\\u0438\\u043a \\u043b\\u0435\\u0437\\u0435\\u0442 \\u0438 \\u043a \\u043d\\u0435\\u043c\\u0443 \\u0432 \\u0440\\u043e\\u0442, \\u0438 \\u0443\\u0436\\u0435 \\u0432\\u044b\\u043c\\u0430\\u0437\\u0430\\u043b \\u0433\\u0443\\u0431\\u044b \\u0441\\u043c\\u0435\\u0442\\u0430\\u043d\\u043e\\u044e.\",\n          \"\\u041e\\u0434\\u0438\\u043d \\u0438\\u0437 \\u043d\\u0438\\u0445 \\u0432\\u044b\\u0441\\u0442\\u0440\\u0435\\u043b\\u0438\\u043b \\u043f\\u043e \\u0446\\u0435\\u043f\\u0438.\"\n        ],\n        \"semantic_type\": \"\",\n        \"description\": \"\"\n      }\n    },\n    {\n      \"column\": \"author\",\n      \"properties\": {\n        \"dtype\": \"category\",\n        \"num_unique_values\": 4,\n        \"samples\": [\n          \"Chekhov\",\n          \"Gogol\",\n          \"Tolstoy\"\n        ],\n        \"semantic_type\": \"\",\n        \"description\": \"\"\n      }\n    }\n  ]\n}"
            }
          },
          "metadata": {},
          "execution_count": 3
        }
      ]
    },
    {
      "cell_type": "code",
      "source": [
        "test_set = pandas.read_csv('./test_data_2024.csv', encoding='utf-8')\n",
        "test_set.head()"
      ],
      "metadata": {
        "id": "l1EeiRFcJY4G",
        "colab": {
          "base_uri": "https://localhost:8080/",
          "height": 206
        },
        "outputId": "91c0719d-c461-4169-991b-9d2aab6591b5"
      },
      "execution_count": 4,
      "outputs": [
        {
          "output_type": "execute_result",
          "data": {
            "text/plain": [
              "                                                text   author\n",
              "0  — Это мы понимаем… Мы ведь не все отвинчиваем…...  Chekhov\n",
              "1                                          Да что я?    Gogol\n",
              "2  Я думаю, у меня горло замерзло от проклятого м...    Gogol\n",
              "3  На деда, несмотря на весь страх, смех напал, к...    Gogol\n",
              "4  Действительно, влияние товарищей оказало на не...  Tolstoy"
            ],
            "text/html": [
              "\n",
              "  <div id=\"df-2e9b55a1-c799-46ff-a807-c613a2fd8205\" class=\"colab-df-container\">\n",
              "    <div>\n",
              "<style scoped>\n",
              "    .dataframe tbody tr th:only-of-type {\n",
              "        vertical-align: middle;\n",
              "    }\n",
              "\n",
              "    .dataframe tbody tr th {\n",
              "        vertical-align: top;\n",
              "    }\n",
              "\n",
              "    .dataframe thead th {\n",
              "        text-align: right;\n",
              "    }\n",
              "</style>\n",
              "<table border=\"1\" class=\"dataframe\">\n",
              "  <thead>\n",
              "    <tr style=\"text-align: right;\">\n",
              "      <th></th>\n",
              "      <th>text</th>\n",
              "      <th>author</th>\n",
              "    </tr>\n",
              "  </thead>\n",
              "  <tbody>\n",
              "    <tr>\n",
              "      <th>0</th>\n",
              "      <td>— Это мы понимаем… Мы ведь не все отвинчиваем…...</td>\n",
              "      <td>Chekhov</td>\n",
              "    </tr>\n",
              "    <tr>\n",
              "      <th>1</th>\n",
              "      <td>Да что я?</td>\n",
              "      <td>Gogol</td>\n",
              "    </tr>\n",
              "    <tr>\n",
              "      <th>2</th>\n",
              "      <td>Я думаю, у меня горло замерзло от проклятого м...</td>\n",
              "      <td>Gogol</td>\n",
              "    </tr>\n",
              "    <tr>\n",
              "      <th>3</th>\n",
              "      <td>На деда, несмотря на весь страх, смех напал, к...</td>\n",
              "      <td>Gogol</td>\n",
              "    </tr>\n",
              "    <tr>\n",
              "      <th>4</th>\n",
              "      <td>Действительно, влияние товарищей оказало на не...</td>\n",
              "      <td>Tolstoy</td>\n",
              "    </tr>\n",
              "  </tbody>\n",
              "</table>\n",
              "</div>\n",
              "    <div class=\"colab-df-buttons\">\n",
              "\n",
              "  <div class=\"colab-df-container\">\n",
              "    <button class=\"colab-df-convert\" onclick=\"convertToInteractive('df-2e9b55a1-c799-46ff-a807-c613a2fd8205')\"\n",
              "            title=\"Convert this dataframe to an interactive table.\"\n",
              "            style=\"display:none;\">\n",
              "\n",
              "  <svg xmlns=\"http://www.w3.org/2000/svg\" height=\"24px\" viewBox=\"0 -960 960 960\">\n",
              "    <path d=\"M120-120v-720h720v720H120Zm60-500h600v-160H180v160Zm220 220h160v-160H400v160Zm0 220h160v-160H400v160ZM180-400h160v-160H180v160Zm440 0h160v-160H620v160ZM180-180h160v-160H180v160Zm440 0h160v-160H620v160Z\"/>\n",
              "  </svg>\n",
              "    </button>\n",
              "\n",
              "  <style>\n",
              "    .colab-df-container {\n",
              "      display:flex;\n",
              "      gap: 12px;\n",
              "    }\n",
              "\n",
              "    .colab-df-convert {\n",
              "      background-color: #E8F0FE;\n",
              "      border: none;\n",
              "      border-radius: 50%;\n",
              "      cursor: pointer;\n",
              "      display: none;\n",
              "      fill: #1967D2;\n",
              "      height: 32px;\n",
              "      padding: 0 0 0 0;\n",
              "      width: 32px;\n",
              "    }\n",
              "\n",
              "    .colab-df-convert:hover {\n",
              "      background-color: #E2EBFA;\n",
              "      box-shadow: 0px 1px 2px rgba(60, 64, 67, 0.3), 0px 1px 3px 1px rgba(60, 64, 67, 0.15);\n",
              "      fill: #174EA6;\n",
              "    }\n",
              "\n",
              "    .colab-df-buttons div {\n",
              "      margin-bottom: 4px;\n",
              "    }\n",
              "\n",
              "    [theme=dark] .colab-df-convert {\n",
              "      background-color: #3B4455;\n",
              "      fill: #D2E3FC;\n",
              "    }\n",
              "\n",
              "    [theme=dark] .colab-df-convert:hover {\n",
              "      background-color: #434B5C;\n",
              "      box-shadow: 0px 1px 3px 1px rgba(0, 0, 0, 0.15);\n",
              "      filter: drop-shadow(0px 1px 2px rgba(0, 0, 0, 0.3));\n",
              "      fill: #FFFFFF;\n",
              "    }\n",
              "  </style>\n",
              "\n",
              "    <script>\n",
              "      const buttonEl =\n",
              "        document.querySelector('#df-2e9b55a1-c799-46ff-a807-c613a2fd8205 button.colab-df-convert');\n",
              "      buttonEl.style.display =\n",
              "        google.colab.kernel.accessAllowed ? 'block' : 'none';\n",
              "\n",
              "      async function convertToInteractive(key) {\n",
              "        const element = document.querySelector('#df-2e9b55a1-c799-46ff-a807-c613a2fd8205');\n",
              "        const dataTable =\n",
              "          await google.colab.kernel.invokeFunction('convertToInteractive',\n",
              "                                                    [key], {});\n",
              "        if (!dataTable) return;\n",
              "\n",
              "        const docLinkHtml = 'Like what you see? Visit the ' +\n",
              "          '<a target=\"_blank\" href=https://colab.research.google.com/notebooks/data_table.ipynb>data table notebook</a>'\n",
              "          + ' to learn more about interactive tables.';\n",
              "        element.innerHTML = '';\n",
              "        dataTable['output_type'] = 'display_data';\n",
              "        await google.colab.output.renderOutput(dataTable, element);\n",
              "        const docLink = document.createElement('div');\n",
              "        docLink.innerHTML = docLinkHtml;\n",
              "        element.appendChild(docLink);\n",
              "      }\n",
              "    </script>\n",
              "  </div>\n",
              "\n",
              "\n",
              "<div id=\"df-cfdbf65b-8833-44f7-97dc-2d679cd68c5e\">\n",
              "  <button class=\"colab-df-quickchart\" onclick=\"quickchart('df-cfdbf65b-8833-44f7-97dc-2d679cd68c5e')\"\n",
              "            title=\"Suggest charts\"\n",
              "            style=\"display:none;\">\n",
              "\n",
              "<svg xmlns=\"http://www.w3.org/2000/svg\" height=\"24px\"viewBox=\"0 0 24 24\"\n",
              "     width=\"24px\">\n",
              "    <g>\n",
              "        <path d=\"M19 3H5c-1.1 0-2 .9-2 2v14c0 1.1.9 2 2 2h14c1.1 0 2-.9 2-2V5c0-1.1-.9-2-2-2zM9 17H7v-7h2v7zm4 0h-2V7h2v10zm4 0h-2v-4h2v4z\"/>\n",
              "    </g>\n",
              "</svg>\n",
              "  </button>\n",
              "\n",
              "<style>\n",
              "  .colab-df-quickchart {\n",
              "      --bg-color: #E8F0FE;\n",
              "      --fill-color: #1967D2;\n",
              "      --hover-bg-color: #E2EBFA;\n",
              "      --hover-fill-color: #174EA6;\n",
              "      --disabled-fill-color: #AAA;\n",
              "      --disabled-bg-color: #DDD;\n",
              "  }\n",
              "\n",
              "  [theme=dark] .colab-df-quickchart {\n",
              "      --bg-color: #3B4455;\n",
              "      --fill-color: #D2E3FC;\n",
              "      --hover-bg-color: #434B5C;\n",
              "      --hover-fill-color: #FFFFFF;\n",
              "      --disabled-bg-color: #3B4455;\n",
              "      --disabled-fill-color: #666;\n",
              "  }\n",
              "\n",
              "  .colab-df-quickchart {\n",
              "    background-color: var(--bg-color);\n",
              "    border: none;\n",
              "    border-radius: 50%;\n",
              "    cursor: pointer;\n",
              "    display: none;\n",
              "    fill: var(--fill-color);\n",
              "    height: 32px;\n",
              "    padding: 0;\n",
              "    width: 32px;\n",
              "  }\n",
              "\n",
              "  .colab-df-quickchart:hover {\n",
              "    background-color: var(--hover-bg-color);\n",
              "    box-shadow: 0 1px 2px rgba(60, 64, 67, 0.3), 0 1px 3px 1px rgba(60, 64, 67, 0.15);\n",
              "    fill: var(--button-hover-fill-color);\n",
              "  }\n",
              "\n",
              "  .colab-df-quickchart-complete:disabled,\n",
              "  .colab-df-quickchart-complete:disabled:hover {\n",
              "    background-color: var(--disabled-bg-color);\n",
              "    fill: var(--disabled-fill-color);\n",
              "    box-shadow: none;\n",
              "  }\n",
              "\n",
              "  .colab-df-spinner {\n",
              "    border: 2px solid var(--fill-color);\n",
              "    border-color: transparent;\n",
              "    border-bottom-color: var(--fill-color);\n",
              "    animation:\n",
              "      spin 1s steps(1) infinite;\n",
              "  }\n",
              "\n",
              "  @keyframes spin {\n",
              "    0% {\n",
              "      border-color: transparent;\n",
              "      border-bottom-color: var(--fill-color);\n",
              "      border-left-color: var(--fill-color);\n",
              "    }\n",
              "    20% {\n",
              "      border-color: transparent;\n",
              "      border-left-color: var(--fill-color);\n",
              "      border-top-color: var(--fill-color);\n",
              "    }\n",
              "    30% {\n",
              "      border-color: transparent;\n",
              "      border-left-color: var(--fill-color);\n",
              "      border-top-color: var(--fill-color);\n",
              "      border-right-color: var(--fill-color);\n",
              "    }\n",
              "    40% {\n",
              "      border-color: transparent;\n",
              "      border-right-color: var(--fill-color);\n",
              "      border-top-color: var(--fill-color);\n",
              "    }\n",
              "    60% {\n",
              "      border-color: transparent;\n",
              "      border-right-color: var(--fill-color);\n",
              "    }\n",
              "    80% {\n",
              "      border-color: transparent;\n",
              "      border-right-color: var(--fill-color);\n",
              "      border-bottom-color: var(--fill-color);\n",
              "    }\n",
              "    90% {\n",
              "      border-color: transparent;\n",
              "      border-bottom-color: var(--fill-color);\n",
              "    }\n",
              "  }\n",
              "</style>\n",
              "\n",
              "  <script>\n",
              "    async function quickchart(key) {\n",
              "      const quickchartButtonEl =\n",
              "        document.querySelector('#' + key + ' button');\n",
              "      quickchartButtonEl.disabled = true;  // To prevent multiple clicks.\n",
              "      quickchartButtonEl.classList.add('colab-df-spinner');\n",
              "      try {\n",
              "        const charts = await google.colab.kernel.invokeFunction(\n",
              "            'suggestCharts', [key], {});\n",
              "      } catch (error) {\n",
              "        console.error('Error during call to suggestCharts:', error);\n",
              "      }\n",
              "      quickchartButtonEl.classList.remove('colab-df-spinner');\n",
              "      quickchartButtonEl.classList.add('colab-df-quickchart-complete');\n",
              "    }\n",
              "    (() => {\n",
              "      let quickchartButtonEl =\n",
              "        document.querySelector('#df-cfdbf65b-8833-44f7-97dc-2d679cd68c5e button');\n",
              "      quickchartButtonEl.style.display =\n",
              "        google.colab.kernel.accessAllowed ? 'block' : 'none';\n",
              "    })();\n",
              "  </script>\n",
              "</div>\n",
              "    </div>\n",
              "  </div>\n"
            ],
            "application/vnd.google.colaboratory.intrinsic+json": {
              "type": "dataframe",
              "variable_name": "test_set",
              "summary": "{\n  \"name\": \"test_set\",\n  \"rows\": 1000,\n  \"fields\": [\n    {\n      \"column\": \"text\",\n      \"properties\": {\n        \"dtype\": \"string\",\n        \"num_unique_values\": 993,\n        \"samples\": [\n          \"\\u041f\\u0440\\u0430\\u0432\\u0434\\u0430, \\u043f\\u043e\\u044d\\u0442\\u0438\\u0437\\u0438\\u0440\\u0443\\u044f \\u043b\\u044e\\u0431\\u043e\\u0432\\u044c, \\u043c\\u044b \\u043f\\u0440\\u0435\\u0434\\u043f\\u043e\\u043b\\u0430\\u0433\\u0430\\u0435\\u043c \\u0432 \\u0442\\u0435\\u0445, \\u043a\\u043e\\u0433\\u043e \\u043b\\u044e\\u0431\\u0438\\u043c, \\u0434\\u043e\\u0441\\u0442\\u043e\\u0438\\u043d\\u0441\\u0442\\u0432\\u0430, \\u043a\\u0430\\u043a\\u0438\\u0445 \\u0443 \\u043d\\u0438\\u0445 \\u0447\\u0430\\u0441\\u0442\\u043e \\u043d\\u0435 \\u0431\\u044b\\u0432\\u0430\\u0435\\u0442, \\u043d\\u0443, \\u0430 \\u044d\\u0442\\u043e \\u0441\\u043b\\u0443\\u0436\\u0438\\u0442 \\u0434\\u043b\\u044f \\u043d\\u0430\\u0441 \\u0438\\u0441\\u0442\\u043e\\u0447\\u043d\\u0438\\u043a\\u043e\\u043c \\u043f\\u043e\\u0441\\u0442\\u043e\\u044f\\u043d\\u043d\\u044b\\u0445 \\u043e\\u0448\\u0438\\u0431\\u043e\\u043a \\u0438 \\u043f\\u043e\\u0441\\u0442\\u043e\\u044f\\u043d\\u043d\\u044b\\u0445 \\u0441\\u0442\\u0440\\u0430\\u0434\\u0430\\u043d\\u0438\\u0439.\",\n          \"\\u041d\\u0430 \\u0432\\u0441\\u0435\\u0445 \\u043f\\u0435\\u0442\\u0435\\u0440\\u0431\\u0443\\u0440\\u0433\\u0441\\u043a\\u0438\\u0445 \\u0431\\u0430\\u0448\\u043d\\u044f\\u0445, \\u043f\\u043e\\u043a\\u0430\\u0437\\u044b\\u0432\\u0430\\u044e\\u0449\\u0438\\u0445 \\u0438 \\u0431\\u044c\\u044e\\u0449\\u0438\\u0445 \\u0447\\u0430\\u0441\\u044b, \\u043f\\u0440\\u043e\\u0431\\u0438\\u043b\\u043e \\u0440\\u043e\\u0432\\u043d\\u043e \\u043f\\u043e\\u043b\\u043d\\u043e\\u0447\\u044c, \\u043a\\u043e\\u0433\\u0434\\u0430 \\u0433\\u043e\\u0441\\u043f\\u043e\\u0434\\u0438\\u043d \\u0413\\u043e\\u043b\\u044f\\u0434\\u043a\\u0438\\u043d, \\u0432\\u043d\\u0435 \\u0441\\u0435\\u0431\\u044f, \\u0432\\u044b\\u0431\\u0435\\u0436\\u0430\\u043b \\u043d\\u0430 \\u043d\\u0430\\u0431\\u0435\\u0440\\u0435\\u0436\\u043d\\u0443\\u044e \\u0424\\u043e\\u043d\\u0442\\u0430\\u043d\\u043a\\u0438, \\u0431\\u043b\\u0438\\u0437 \\u0441\\u0430\\u043c\\u043e\\u0433\\u043e \\u0418\\u0437\\u043c\\u0430\\u0439\\u043b\\u043e\\u0432\\u0441\\u043a\\u043e\\u0433\\u043e \\u043c\\u043e\\u0441\\u0442\\u0430, \\u0441\\u043f\\u0430\\u0441\\u0430\\u044f\\u0441\\u044c \\u043e\\u0442 \\u0432\\u0440\\u0430\\u0433\\u043e\\u0432, \\u043e\\u0442 \\u043f\\u0440\\u0435\\u0441\\u043b\\u0435\\u0434\\u043e\\u0432\\u0430\\u043d\\u0438\\u0439, \\u043e\\u0442 \\u0433\\u0440\\u0430\\u0434\\u0430 \\u0449\\u0435\\u043b\\u0447\\u043a\\u043e\\u0432, \\u043d\\u0430 \\u043d\\u0435\\u0433\\u043e \\u0437\\u0430\\u043d\\u0435\\u0441\\u0435\\u043d\\u043d\\u044b\\u0445, \\u043e\\u0442 \\u043a\\u0440\\u0438\\u043a\\u0430 \\u0432\\u0441\\u0442\\u0440\\u0435\\u0432\\u043e\\u0436\\u0435\\u043d\\u043d\\u044b\\u0445 \\u0441\\u0442\\u0430\\u0440\\u0443\\u0445, \\u043e\\u0442 \\u043e\\u0445\\u0430\\u043d\\u044c\\u044f \\u0438 \\u0430\\u0445\\u0430\\u043d\\u044c\\u044f \\u0436\\u0435\\u043d\\u0449\\u0438\\u043d \\u0438 \\u043e\\u0442 \\u0443\\u0431\\u0438\\u0439\\u0441\\u0442\\u0432\\u0435\\u043d\\u043d\\u044b\\u0445 \\u0432\\u0437\\u0433\\u043b\\u044f\\u0434\\u043e\\u0432 \\u0410\\u043d\\u0434\\u0440\\u0435\\u044f \\u0424\\u0438\\u043b\\u0438\\u043f\\u043f\\u043e\\u0432\\u0438\\u0447\\u0430.\",\n          \"\\u0418\\u0437\\u0432\\u043e\\u043b\\u044c\\u0442\\u0435, \\u044f \\u0433\\u043e\\u0442\\u043e\\u0432 \\u043e\\u0442\\u0434\\u043e\\u0445\\u043d\\u0443\\u0442\\u044c.\"\n        ],\n        \"semantic_type\": \"\",\n        \"description\": \"\"\n      }\n    },\n    {\n      \"column\": \"author\",\n      \"properties\": {\n        \"dtype\": \"category\",\n        \"num_unique_values\": 4,\n        \"samples\": [\n          \"Gogol\",\n          \"Dostoevsky\",\n          \"Chekhov\"\n        ],\n        \"semantic_type\": \"\",\n        \"description\": \"\"\n      }\n    }\n  ]\n}"
            }
          },
          "metadata": {},
          "execution_count": 4
        }
      ]
    },
    {
      "cell_type": "code",
      "source": [
        "train_sentences = train_set['text'].to_list()\n",
        "train_authors = train_set['author'].to_list()\n",
        "\n",
        "test_sentences = test_set['text'].to_list()\n",
        "test_authors = test_set['author'].to_list()\n",
        "\n",
        "print(len(train_authors), len(test_authors))"
      ],
      "metadata": {
        "colab": {
          "base_uri": "https://localhost:8080/"
        },
        "id": "9L6k8K6cKOGT",
        "outputId": "3ee09ec8-9939-43d7-8df8-1216c7fecdba"
      },
      "execution_count": 5,
      "outputs": [
        {
          "output_type": "stream",
          "name": "stdout",
          "text": [
            "10000 1000\n"
          ]
        }
      ]
    },
    {
      "cell_type": "markdown",
      "source": [
        "## Preparing the feature set"
      ],
      "metadata": {
        "id": "vUP7WOfiKeWx"
      }
    },
    {
      "cell_type": "markdown",
      "source": [
        "We can simply copy the contents of fivegrams_list from the Data_analysis notebook"
      ],
      "metadata": {
        "id": "pkbG_E6fXhko"
      }
    },
    {
      "cell_type": "code",
      "source": [
        "fivegrams_list = [('VERB', 'ADP', 'ADJ', 'NOUN', 'PUNCT'), ('PRON', 'VERB', 'ADP', 'NOUN', 'PUNCT'), ('VERB', 'ADP', 'NOUN', 'CCONJ', 'VERB'), ('PUNCT', 'VERB', 'ADP', 'NOUN', 'PUNCT'), ('X', 'X', 'X', 'X', 'X'), ('NOUN', 'ADP', 'ADJ', 'NOUN', 'PUNCT'), ('VERB', 'ADP', 'NOUN', 'PUNCT', 'PUNCT'), ('VERB', 'NOUN', 'ADP', 'NOUN', 'PUNCT'), ('NOUN', 'PUNCT', 'VERB', 'NOUN', 'PUNCT'), ('VERB', 'ADP', 'DET', 'NOUN', 'PUNCT'), ('NOUN', 'PUNCT', 'VERB', 'ADP', 'NOUN'), ('VERB', 'PUNCT', 'SCONJ', 'PRON', 'VERB')]\n",
        "print(len(fivegrams_list))"
      ],
      "metadata": {
        "colab": {
          "base_uri": "https://localhost:8080/"
        },
        "id": "XCeQxFIxWk-n",
        "outputId": "339d935c-df3c-42ba-9f5d-e6a88c45141d"
      },
      "execution_count": 6,
      "outputs": [
        {
          "output_type": "stream",
          "name": "stdout",
          "text": [
            "12\n"
          ]
        }
      ]
    },
    {
      "cell_type": "code",
      "source": [
        "# We are creating a matrix with zero vectors for each review (in training set and test set)\n",
        "train_features_matrix = numpy.zeros((len(train_sentences), len(fivegrams_list)))\n",
        "print(train_features_matrix.shape)\n",
        "\n",
        "test_features_matrix = numpy.zeros((len(test_sentences), len(fivegrams_list)))\n",
        "print(test_features_matrix.shape)"
      ],
      "metadata": {
        "colab": {
          "base_uri": "https://localhost:8080/"
        },
        "id": "paASne3ta1RN",
        "outputId": "ad475985-dd02-44db-e777-84168fed362f"
      },
      "execution_count": 7,
      "outputs": [
        {
          "output_type": "stream",
          "name": "stdout",
          "text": [
            "(10000, 12)\n",
            "(1000, 12)\n"
          ]
        }
      ]
    },
    {
      "cell_type": "markdown",
      "source": [
        "# Modifying the feature vectors"
      ],
      "metadata": {
        "id": "HVdvDrFCbFmP"
      }
    },
    {
      "cell_type": "markdown",
      "source": [
        "## Visualisation tests"
      ],
      "metadata": {
        "id": "HAUE7Jg6bhF5"
      }
    },
    {
      "cell_type": "code",
      "source": [
        "train_doc_sentences = nlp.pipe(train_sentences)\n",
        "\n",
        "for sentence, author in zip(train_doc_sentences, train_authors):\n",
        "    print(author)\n",
        "    print(sentence)\n",
        "    fivegram_pos_list = fivegram_pos_extractor_from_sentence(sentence)\n",
        "    print(fivegram_pos_list)\n",
        "    for fivegram in fivegrams_list:\n",
        "      if fivegram in fivegram_pos_list:\n",
        "        print(fivegram)\n",
        "        fivegram_id = fivegrams_list.index(fivegram)\n",
        "        print(fivegram_id)\n",
        "        sys.exit()"
      ],
      "metadata": {
        "colab": {
          "base_uri": "https://localhost:8080/",
          "height": 231
        },
        "id": "r7y8j2Fka2vY",
        "outputId": "46307bc8-40b2-4897-ade5-bc0e2e34b35e"
      },
      "execution_count": null,
      "outputs": [
        {
          "output_type": "stream",
          "name": "stdout",
          "text": [
            "Tolstoy\n",
            "Он старался не развлекаться и не портить себе впечатления, глядя на махание руками белогалстучного капельмейстера, всегда так неприятно развлекающее музыкальное внимание, на дам в шляпах, старательно для концерта завязавших себе уши лентами, и на все эти лица, или ничем не занятые, или занятые самыми разнообразными интересами, но только не музыкой.\n",
            "[('ADJ', 'ADJ', 'NOUN', 'PUNCT', 'CCONJ'), ('ADJ', 'VERB', 'ADJ', 'NOUN', 'PUNCT'), ('NOUN', 'PUNCT', 'ADP', 'VERB', 'ADP'), ('PRON', 'VERB', 'PART', 'VERB', 'CCONJ'), ('NOUN', 'PUNCT', 'CCONJ', 'ADP', 'DET'), ('NOUN', 'VERB', 'PRON', 'NOUN', 'NOUN'), ('PRON', 'PART', 'VERB', 'PUNCT', 'CCONJ'), ('VERB', 'ADP', 'NOUN', 'NOUN', 'ADJ'), ('ADV', 'ADP', 'NOUN', 'VERB', 'PRON'), ('PART', 'VERB', 'PUNCT', 'CCONJ', 'VERB'), ('ADP', 'NOUN', 'PUNCT', 'ADV', 'ADP'), ('PART', 'VERB', 'PRON', 'NOUN', 'PUNCT'), ('VERB', 'ADJ', 'ADJ', 'NOUN', 'PUNCT'), ('ADJ', 'NOUN', 'PUNCT', 'ADV', 'ADV'), ('ADJ', 'NOUN', 'PUNCT', 'CCONJ', 'PART'), ('ADP', 'DET', 'DET', 'NOUN', 'PUNCT'), ('ADP', 'NOUN', 'VERB', 'PRON', 'NOUN'), ('NOUN', 'NOUN', 'ADJ', 'NOUN', 'PUNCT'), ('DET', 'DET', 'NOUN', 'PUNCT', 'CCONJ'), ('PUNCT', 'CCONJ', 'VERB', 'ADJ', 'ADJ'), ('CCONJ', 'PART', 'PART', 'NOUN', 'PUNCT'), ('PRON', 'NOUN', 'NOUN', 'PUNCT', 'CCONJ'), ('NOUN', 'NOUN', 'PUNCT', 'CCONJ', 'ADP'), ('NOUN', 'PUNCT', 'VERB', 'ADP', 'NOUN'), ('NOUN', 'PUNCT', 'CCONJ', 'PART', 'PART'), ('CCONJ', 'PART', 'VERB', 'PRON', 'NOUN'), ('PUNCT', 'ADV', 'ADV', 'ADJ', 'VERB'), ('NOUN', 'ADJ', 'NOUN', 'PUNCT', 'ADV'), ('VERB', 'CCONJ', 'PART', 'VERB', 'PRON'), ('ADV', 'ADV', 'ADJ', 'VERB', 'ADJ'), ('PUNCT', 'ADP', 'VERB', 'ADP', 'NOUN'), ('VERB', 'PART', 'VERB', 'CCONJ', 'PART'), ('ADP', 'VERB', 'ADP', 'NOUN', 'PUNCT'), ('NOUN', 'PUNCT', 'ADV', 'ADP', 'NOUN'), ('PUNCT', 'ADV', 'ADP', 'NOUN', 'VERB'), ('CCONJ', 'ADP', 'DET', 'DET', 'NOUN'), ('PUNCT', 'CCONJ', 'PART', 'PART', 'NOUN'), ('CCONJ', 'VERB', 'ADJ', 'ADJ', 'NOUN'), ('ADJ', 'NOUN', 'PUNCT', 'ADP', 'VERB'), ('CCONJ', 'PRON', 'PART', 'VERB', 'PUNCT'), ('ADP', 'NOUN', 'NOUN', 'ADJ', 'NOUN'), ('ADV', 'ADJ', 'VERB', 'ADJ', 'NOUN'), ('VERB', 'ADP', 'NOUN', 'PUNCT', 'ADV'), ('PART', 'VERB', 'CCONJ', 'PART', 'VERB'), ('VERB', 'PRON', 'NOUN', 'NOUN', 'PUNCT'), ('PRON', 'NOUN', 'PUNCT', 'VERB', 'ADP'), ('PUNCT', 'CCONJ', 'ADP', 'DET', 'DET'), ('DET', 'NOUN', 'PUNCT', 'CCONJ', 'PRON'), ('NOUN', 'PUNCT', 'ADV', 'ADV', 'ADJ'), ('VERB', 'ADJ', 'NOUN', 'PUNCT', 'ADP'), ('NOUN', 'PUNCT', 'CCONJ', 'PRON', 'PART'), ('PUNCT', 'VERB', 'ADP', 'NOUN', 'NOUN'), ('PUNCT', 'CCONJ', 'PRON', 'PART', 'VERB'), ('VERB', 'PUNCT', 'CCONJ', 'VERB', 'ADJ'), ('VERB', 'PRON', 'NOUN', 'PUNCT', 'VERB')]\n",
            "('NOUN', 'PUNCT', 'VERB', 'ADP', 'NOUN')\n",
            "10\n"
          ]
        },
        {
          "output_type": "error",
          "ename": "SystemExit",
          "evalue": "",
          "traceback": [
            "An exception has occurred, use %tb to see the full traceback.\n",
            "\u001b[0;31mSystemExit\u001b[0m\n"
          ]
        },
        {
          "output_type": "stream",
          "name": "stderr",
          "text": [
            "/usr/local/lib/python3.10/dist-packages/IPython/core/interactiveshell.py:3561: UserWarning: To exit: use 'exit', 'quit', or Ctrl-D.\n",
            "  warn(\"To exit: use 'exit', 'quit', or Ctrl-D.\", stacklevel=1)\n"
          ]
        }
      ]
    },
    {
      "cell_type": "markdown",
      "source": [
        "Visualisation test 2:"
      ],
      "metadata": {
        "id": "64GEL5lMcvbs"
      }
    },
    {
      "cell_type": "code",
      "source": [
        "train_doc_sentences = nlp.pipe(train_sentences)\n",
        "\n",
        "for sentence, author, feature_vector in zip(train_doc_sentences, train_authors, train_features_matrix):\n",
        "    print('Author:', author)\n",
        "    print(sentence)\n",
        "    fivegram_pos_list = fivegram_pos_extractor_from_sentence(sentence)\n",
        "    print(fivegram_pos_list)\n",
        "    for fivegram in fivegrams_list:\n",
        "      if fivegram in fivegram_pos_list:\n",
        "        fivegram_id = fivegrams_list.index(fivegram)\n",
        "        print(fivegram_id)\n",
        "        print(fivegram)\n",
        "        feature_vector[fivegram_id] = 1\n",
        "        print(feature_vector.tolist())\n",
        "        sys.exit()"
      ],
      "metadata": {
        "colab": {
          "base_uri": "https://localhost:8080/",
          "height": 213
        },
        "id": "BvC5rShWcKar",
        "outputId": "ba04a32c-3f04-415c-f5f5-76be3975a501"
      },
      "execution_count": null,
      "outputs": [
        {
          "output_type": "stream",
          "name": "stdout",
          "text": [
            "Author: Tolstoy\n",
            "Он старался не развлекаться и не портить себе впечатления, глядя на махание руками белогалстучного капельмейстера, всегда так неприятно развлекающее музыкальное внимание, на дам в шляпах, старательно для концерта завязавших себе уши лентами, и на все эти лица, или ничем не занятые, или занятые самыми разнообразными интересами, но только не музыкой.\n",
            "[('ADJ', 'ADJ', 'NOUN', 'PUNCT', 'CCONJ'), ('ADJ', 'VERB', 'ADJ', 'NOUN', 'PUNCT'), ('NOUN', 'PUNCT', 'ADP', 'VERB', 'ADP'), ('PRON', 'VERB', 'PART', 'VERB', 'CCONJ'), ('NOUN', 'PUNCT', 'CCONJ', 'ADP', 'DET'), ('NOUN', 'VERB', 'PRON', 'NOUN', 'NOUN'), ('PRON', 'PART', 'VERB', 'PUNCT', 'CCONJ'), ('VERB', 'ADP', 'NOUN', 'NOUN', 'ADJ'), ('ADV', 'ADP', 'NOUN', 'VERB', 'PRON'), ('PART', 'VERB', 'PUNCT', 'CCONJ', 'VERB'), ('ADP', 'NOUN', 'PUNCT', 'ADV', 'ADP'), ('PART', 'VERB', 'PRON', 'NOUN', 'PUNCT'), ('VERB', 'ADJ', 'ADJ', 'NOUN', 'PUNCT'), ('ADJ', 'NOUN', 'PUNCT', 'ADV', 'ADV'), ('ADJ', 'NOUN', 'PUNCT', 'CCONJ', 'PART'), ('ADP', 'DET', 'DET', 'NOUN', 'PUNCT'), ('ADP', 'NOUN', 'VERB', 'PRON', 'NOUN'), ('NOUN', 'NOUN', 'ADJ', 'NOUN', 'PUNCT'), ('DET', 'DET', 'NOUN', 'PUNCT', 'CCONJ'), ('PUNCT', 'CCONJ', 'VERB', 'ADJ', 'ADJ'), ('CCONJ', 'PART', 'PART', 'NOUN', 'PUNCT'), ('PRON', 'NOUN', 'NOUN', 'PUNCT', 'CCONJ'), ('NOUN', 'NOUN', 'PUNCT', 'CCONJ', 'ADP'), ('NOUN', 'PUNCT', 'VERB', 'ADP', 'NOUN'), ('NOUN', 'PUNCT', 'CCONJ', 'PART', 'PART'), ('CCONJ', 'PART', 'VERB', 'PRON', 'NOUN'), ('PUNCT', 'ADV', 'ADV', 'ADJ', 'VERB'), ('NOUN', 'ADJ', 'NOUN', 'PUNCT', 'ADV'), ('VERB', 'CCONJ', 'PART', 'VERB', 'PRON'), ('ADV', 'ADV', 'ADJ', 'VERB', 'ADJ'), ('PUNCT', 'ADP', 'VERB', 'ADP', 'NOUN'), ('VERB', 'PART', 'VERB', 'CCONJ', 'PART'), ('ADP', 'VERB', 'ADP', 'NOUN', 'PUNCT'), ('NOUN', 'PUNCT', 'ADV', 'ADP', 'NOUN'), ('PUNCT', 'ADV', 'ADP', 'NOUN', 'VERB'), ('CCONJ', 'ADP', 'DET', 'DET', 'NOUN'), ('PUNCT', 'CCONJ', 'PART', 'PART', 'NOUN'), ('CCONJ', 'VERB', 'ADJ', 'ADJ', 'NOUN'), ('ADJ', 'NOUN', 'PUNCT', 'ADP', 'VERB'), ('CCONJ', 'PRON', 'PART', 'VERB', 'PUNCT'), ('ADP', 'NOUN', 'NOUN', 'ADJ', 'NOUN'), ('ADV', 'ADJ', 'VERB', 'ADJ', 'NOUN'), ('VERB', 'ADP', 'NOUN', 'PUNCT', 'ADV'), ('PART', 'VERB', 'CCONJ', 'PART', 'VERB'), ('VERB', 'PRON', 'NOUN', 'NOUN', 'PUNCT'), ('PRON', 'NOUN', 'PUNCT', 'VERB', 'ADP'), ('PUNCT', 'CCONJ', 'ADP', 'DET', 'DET'), ('DET', 'NOUN', 'PUNCT', 'CCONJ', 'PRON'), ('NOUN', 'PUNCT', 'ADV', 'ADV', 'ADJ'), ('VERB', 'ADJ', 'NOUN', 'PUNCT', 'ADP'), ('NOUN', 'PUNCT', 'CCONJ', 'PRON', 'PART'), ('PUNCT', 'VERB', 'ADP', 'NOUN', 'NOUN'), ('PUNCT', 'CCONJ', 'PRON', 'PART', 'VERB'), ('VERB', 'PUNCT', 'CCONJ', 'VERB', 'ADJ'), ('VERB', 'PRON', 'NOUN', 'PUNCT', 'VERB')]\n",
            "10\n",
            "('NOUN', 'PUNCT', 'VERB', 'ADP', 'NOUN')\n",
            "[0.0, 0.0, 0.0, 0.0, 0.0, 0.0, 0.0, 0.0, 0.0, 0.0, 1.0, 0.0]\n"
          ]
        },
        {
          "output_type": "error",
          "ename": "SystemExit",
          "evalue": "",
          "traceback": [
            "An exception has occurred, use %tb to see the full traceback.\n",
            "\u001b[0;31mSystemExit\u001b[0m\n"
          ]
        }
      ]
    },
    {
      "cell_type": "markdown",
      "source": [
        "## Writing a function for feature vector modification"
      ],
      "metadata": {
        "id": "yLpC6JlrfjMG"
      }
    },
    {
      "cell_type": "code",
      "source": [
        "def modify_feature_vectors(doc_sentences, features_matrix):\n",
        "  for sentence, feature_vector in zip(doc_sentences, features_matrix):\n",
        "    fivegram_pos_list = fivegram_pos_extractor_from_sentence(sentence)\n",
        "    for fivegram in fivegrams_list:\n",
        "      if fivegram in fivegram_pos_list:\n",
        "        fivegram_id = fivegrams_list.index(fivegram)\n",
        "        feature_vector[fivegram_id] = 1\n",
        "  return features_matrix"
      ],
      "metadata": {
        "id": "YDLiRGJtdDnS"
      },
      "execution_count": 8,
      "outputs": []
    },
    {
      "cell_type": "code",
      "source": [
        "train_features_matrix = numpy.zeros((len(train_sentences), len(fivegrams_list)))\n",
        "train_doc_sentences = nlp.pipe(train_sentences)\n",
        "\n",
        "train_features_matrix_final = modify_feature_vectors(train_doc_sentences, train_features_matrix)"
      ],
      "metadata": {
        "id": "dFTbJjEUfshv"
      },
      "execution_count": 9,
      "outputs": []
    },
    {
      "cell_type": "markdown",
      "source": [
        "# Training"
      ],
      "metadata": {
        "id": "Y29Elo9zf7aE"
      }
    },
    {
      "cell_type": "code",
      "source": [
        "lr_common_5grams = LogisticRegression()\n",
        "\n",
        "# Train the model on the data, storing the information learned from the data\n",
        "# Model is learning the relationship between digits (x_train) and labels (y_train)\n",
        "lr_common_5grams.fit(train_features_matrix_final, train_authors)\n",
        "\n",
        "print(lr_common_5grams.classes_)"
      ],
      "metadata": {
        "colab": {
          "base_uri": "https://localhost:8080/"
        },
        "id": "uCW9U5kYf6di",
        "outputId": "01ebcf5d-e253-4060-d422-b9a83ff8b428"
      },
      "execution_count": 10,
      "outputs": [
        {
          "output_type": "stream",
          "name": "stdout",
          "text": [
            "['Chekhov' 'Dostoevsky' 'Gogol' 'Tolstoy']\n"
          ]
        }
      ]
    },
    {
      "cell_type": "markdown",
      "source": [
        "# Modifying the test set feature vectors"
      ],
      "metadata": {
        "id": "kZKb4sgjgPvZ"
      }
    },
    {
      "cell_type": "code",
      "source": [
        "test_doc_sentences = nlp.pipe(test_sentences)\n",
        "test_features_matrix = numpy.zeros((len(test_sentences), len(fivegrams_list)))\n",
        "\n",
        "test_features_matrix_final = modify_feature_vectors(test_doc_sentences, test_features_matrix)"
      ],
      "metadata": {
        "id": "U_bTDnyOgYpq"
      },
      "execution_count": 11,
      "outputs": []
    },
    {
      "cell_type": "markdown",
      "source": [
        "# Making predictions"
      ],
      "metadata": {
        "id": "jpgILNoOgiMn"
      }
    },
    {
      "cell_type": "code",
      "source": [
        "predict_data = [test_sentences, test_features_matrix_final, test_authors, lr_common_5grams]"
      ],
      "metadata": {
        "id": "67-q7SPBBtJS"
      },
      "execution_count": 12,
      "outputs": []
    },
    {
      "cell_type": "code",
      "source": [
        "predict_new(0, predict_data)\n",
        "predict_new(1, predict_data)\n",
        "predict_new(2, predict_data)\n",
        "predict_new(3, predict_data)\n",
        "predict_new(4, predict_data)\n",
        "predict_new(5, predict_data)"
      ],
      "metadata": {
        "colab": {
          "base_uri": "https://localhost:8080/"
        },
        "id": "ssb1ktOBBz1i",
        "outputId": "4badebed-ac6b-4d4b-fff8-0e1757659932"
      },
      "execution_count": 13,
      "outputs": [
        {
          "output_type": "stream",
          "name": "stdout",
          "text": [
            "— Это мы понимаем… Мы ведь не все отвинчиваем… оставляем… Не без ума делаем… понимаем….\n",
            "[0. 0. 0. 0. 0. 0. 0. 0. 0. 0. 0. 0.]\n",
            "Chekhov\n",
            "\n",
            "Prediction:\n",
            "['Dostoevsky']\n",
            "[[0.24577425 0.26058165 0.24666239 0.24698171]]\n",
            "--------------------------------------------------------\n",
            "\n",
            "Да что я?\n",
            "[0. 0. 0. 0. 0. 0. 0. 0. 0. 0. 0. 0.]\n",
            "Gogol\n",
            "\n",
            "Prediction:\n",
            "['Dostoevsky']\n",
            "[[0.24577425 0.26058165 0.24666239 0.24698171]]\n",
            "--------------------------------------------------------\n",
            "\n",
            "Я думаю, у меня горло замерзло от проклятого морозу.\n",
            "[1. 0. 0. 0. 0. 0. 0. 0. 0. 0. 0. 0.]\n",
            "Gogol\n",
            "\n",
            "Prediction:\n",
            "['Gogol']\n",
            "[[0.24837281 0.22928623 0.26998664 0.25235432]]\n",
            "--------------------------------------------------------\n",
            "\n",
            "На деда, несмотря на весь страх, смех напал, когда увидел, как черти с собачьими мордами, на немецких ножках, вертя хвостами, увивались около ведьм, будто парни около красных девушек; а музыканты тузили себя в щеки кулаками, словно в бубны, и свистали носами, как в валторны.\n",
            "[0. 0. 0. 1. 0. 1. 0. 0. 1. 0. 1. 0.]\n",
            "Gogol\n",
            "\n",
            "Prediction:\n",
            "['Gogol']\n",
            "[[0.16388268 0.04407159 0.46512082 0.32692491]]\n",
            "--------------------------------------------------------\n",
            "\n",
            "Действительно, влияние товарищей оказало на него хорошее действие, и он совершенно здоров и учится хорошо.. .\n",
            "[0. 0. 0. 0. 0. 0. 0. 0. 0. 0. 0. 0.]\n",
            "Tolstoy\n",
            "\n",
            "Prediction:\n",
            "['Dostoevsky']\n",
            "[[0.24577425 0.26058165 0.24666239 0.24698171]]\n",
            "--------------------------------------------------------\n",
            "\n",
            "68 г.: Натали к этому очень чувствительна..     Стр.\n",
            "[0. 0. 0. 0. 0. 0. 0. 0. 0. 0. 0. 0.]\n",
            "Tolstoy\n",
            "\n",
            "Prediction:\n",
            "['Dostoevsky']\n",
            "[[0.24577425 0.26058165 0.24666239 0.24698171]]\n",
            "--------------------------------------------------------\n",
            "\n"
          ]
        }
      ]
    },
    {
      "cell_type": "code",
      "source": [
        "test_predictions_common_5grams = lr_common_5grams.predict(test_features_matrix_final)"
      ],
      "metadata": {
        "id": "gdhwdVoIST5H"
      },
      "execution_count": 14,
      "outputs": []
    },
    {
      "cell_type": "code",
      "source": [
        "predict2(test_predictions_common_5grams, test_authors)"
      ],
      "metadata": {
        "colab": {
          "base_uri": "https://localhost:8080/"
        },
        "id": "pwFLkQOxSceb",
        "outputId": "94979337-332d-4525-b4c3-cae616df32b9"
      },
      "execution_count": 15,
      "outputs": [
        {
          "output_type": "stream",
          "name": "stdout",
          "text": [
            "Dostoevsky (Incorrect:Chekhov)\n",
            "Dostoevsky (Incorrect:Gogol)\n",
            "Gogol (Correct:Gogol)\n",
            "Gogol (Correct:Gogol)\n",
            "Dostoevsky (Incorrect:Tolstoy)\n",
            "Dostoevsky (Incorrect:Tolstoy)\n",
            "Dostoevsky (Incorrect:Chekhov)\n",
            "Dostoevsky (Incorrect:Tolstoy)\n",
            "Dostoevsky (Incorrect:Gogol)\n",
            "Dostoevsky (Incorrect:Tolstoy)\n"
          ]
        }
      ]
    },
    {
      "cell_type": "markdown",
      "source": [
        "#Analysing the model"
      ],
      "metadata": {
        "id": "h6mikMwxZemM"
      }
    },
    {
      "cell_type": "code",
      "source": [
        "model_analysis2(lr_common_5grams, fivegrams_list)"
      ],
      "metadata": {
        "colab": {
          "base_uri": "https://localhost:8080/"
        },
        "id": "HPy5HFMSHDKs",
        "outputId": "663af22c-b7c8-47c0-8854-c2ca30ea40ed"
      },
      "execution_count": 16,
      "outputs": [
        {
          "output_type": "stream",
          "name": "stdout",
          "text": [
            "Class: Chekhov\n",
            "Feature: ('X', 'X', 'X', 'X', 'X'), Coefficient: -1.0598\n",
            "Feature: ('VERB', 'ADP', 'NOUN', 'CCONJ', 'VERB'), Coefficient: 0.9268\n",
            "Feature: ('VERB', 'ADP', 'NOUN', 'PUNCT', 'PUNCT'), Coefficient: 0.8900\n",
            "Feature: ('VERB', 'NOUN', 'ADP', 'NOUN', 'PUNCT'), Coefficient: 0.4444\n",
            "Feature: ('NOUN', 'PUNCT', 'VERB', 'NOUN', 'PUNCT'), Coefficient: 0.2382\n",
            "Intercept: -0.0168\n",
            "\n",
            "Class: Dostoevsky\n",
            "Feature: ('VERB', 'NOUN', 'ADP', 'NOUN', 'PUNCT'), Coefficient: -0.6810\n",
            "Feature: ('VERB', 'ADP', 'NOUN', 'PUNCT', 'PUNCT'), Coefficient: -0.6681\n",
            "Feature: ('NOUN', 'PUNCT', 'VERB', 'NOUN', 'PUNCT'), Coefficient: -0.5400\n",
            "Feature: ('VERB', 'ADP', 'NOUN', 'CCONJ', 'VERB'), Coefficient: -0.4840\n",
            "Feature: ('NOUN', 'ADP', 'ADJ', 'NOUN', 'PUNCT'), Coefficient: -0.4053\n",
            "Intercept: 0.0418\n",
            "\n",
            "Class: Gogol\n",
            "Feature: ('X', 'X', 'X', 'X', 'X'), Coefficient: -1.0453\n",
            "Feature: ('VERB', 'ADP', 'NOUN', 'CCONJ', 'VERB'), Coefficient: -0.5891\n",
            "Feature: ('NOUN', 'PUNCT', 'VERB', 'NOUN', 'PUNCT'), Coefficient: 0.3716\n",
            "Feature: ('VERB', 'NOUN', 'ADP', 'NOUN', 'PUNCT'), Coefficient: 0.2596\n",
            "Feature: ('NOUN', 'ADP', 'ADJ', 'NOUN', 'PUNCT'), Coefficient: 0.2384\n",
            "Intercept: -0.0131\n",
            "\n",
            "Class: Tolstoy\n",
            "Feature: ('X', 'X', 'X', 'X', 'X'), Coefficient: 1.8888\n",
            "Feature: ('NOUN', 'PUNCT', 'VERB', 'ADP', 'NOUN'), Coefficient: 0.3614\n",
            "Feature: ('VERB', 'ADP', 'NOUN', 'PUNCT', 'PUNCT'), Coefficient: -0.3405\n",
            "Feature: ('NOUN', 'ADP', 'ADJ', 'NOUN', 'PUNCT'), Coefficient: 0.2725\n",
            "Feature: ('VERB', 'ADP', 'NOUN', 'CCONJ', 'VERB'), Coefficient: 0.1463\n",
            "Intercept: -0.0119\n",
            "\n"
          ]
        }
      ]
    },
    {
      "cell_type": "markdown",
      "source": [
        "# Saving the model"
      ],
      "metadata": {
        "id": "vL9hSZTng4KV"
      }
    },
    {
      "cell_type": "code",
      "source": [
        "# Save to file in the current working directory\n",
        "pkl_filename = \"logreg_common_5grams.pkl\"\n",
        "with open(pkl_filename, 'wb') as file:\n",
        "    pickle.dump(lr_common_5grams, file)"
      ],
      "metadata": {
        "id": "hyEJUUA8g0Bn"
      },
      "execution_count": 17,
      "outputs": []
    },
    {
      "cell_type": "markdown",
      "source": [
        "# Evaluating the model"
      ],
      "metadata": {
        "id": "0xtCvMdGhG7G"
      }
    },
    {
      "cell_type": "markdown",
      "source": [
        "## Dummy model"
      ],
      "metadata": {
        "id": "tAHlh_kThJX1"
      }
    },
    {
      "cell_type": "code",
      "source": [
        "dummy_predictions = ['Dostoevsky'] * len(test_sentences)\n",
        "print(classification_report(test_authors, dummy_predictions))"
      ],
      "metadata": {
        "colab": {
          "base_uri": "https://localhost:8080/"
        },
        "id": "-jCVjbFUhDzT",
        "outputId": "266cb8b3-24db-4e44-d090-0bba5f480fd3"
      },
      "execution_count": null,
      "outputs": [
        {
          "output_type": "stream",
          "name": "stdout",
          "text": [
            "              precision    recall  f1-score   support\n",
            "\n",
            "     Chekhov       0.00      0.00      0.00       250\n",
            "  Dostoevsky       0.25      1.00      0.40       250\n",
            "       Gogol       0.00      0.00      0.00       250\n",
            "     Tolstoy       0.00      0.00      0.00       250\n",
            "\n",
            "    accuracy                           0.25      1000\n",
            "   macro avg       0.06      0.25      0.10      1000\n",
            "weighted avg       0.06      0.25      0.10      1000\n",
            "\n"
          ]
        },
        {
          "output_type": "stream",
          "name": "stderr",
          "text": [
            "/usr/local/lib/python3.10/dist-packages/sklearn/metrics/_classification.py:1344: UndefinedMetricWarning: Precision and F-score are ill-defined and being set to 0.0 in labels with no predicted samples. Use `zero_division` parameter to control this behavior.\n",
            "  _warn_prf(average, modifier, msg_start, len(result))\n",
            "/usr/local/lib/python3.10/dist-packages/sklearn/metrics/_classification.py:1344: UndefinedMetricWarning: Precision and F-score are ill-defined and being set to 0.0 in labels with no predicted samples. Use `zero_division` parameter to control this behavior.\n",
            "  _warn_prf(average, modifier, msg_start, len(result))\n",
            "/usr/local/lib/python3.10/dist-packages/sklearn/metrics/_classification.py:1344: UndefinedMetricWarning: Precision and F-score are ill-defined and being set to 0.0 in labels with no predicted samples. Use `zero_division` parameter to control this behavior.\n",
            "  _warn_prf(average, modifier, msg_start, len(result))\n"
          ]
        }
      ]
    },
    {
      "cell_type": "markdown",
      "source": [
        "## Common POS Model"
      ],
      "metadata": {
        "id": "LidJ6L6fiC1-"
      }
    },
    {
      "cell_type": "code",
      "source": [
        "print(classification_report(test_authors, test_predictions_common_5grams))"
      ],
      "metadata": {
        "colab": {
          "base_uri": "https://localhost:8080/"
        },
        "id": "2Fc1djq-ikRT",
        "outputId": "67063bf5-7643-48a6-b799-cca05073d68d"
      },
      "execution_count": 18,
      "outputs": [
        {
          "output_type": "stream",
          "name": "stdout",
          "text": [
            "              precision    recall  f1-score   support\n",
            "\n",
            "     Chekhov       0.17      0.02      0.04       250\n",
            "  Dostoevsky       0.26      0.90      0.40       250\n",
            "       Gogol       0.19      0.04      0.07       250\n",
            "     Tolstoy       0.36      0.05      0.09       250\n",
            "\n",
            "    accuracy                           0.25      1000\n",
            "   macro avg       0.24      0.25      0.15      1000\n",
            "weighted avg       0.24      0.25      0.15      1000\n",
            "\n"
          ]
        }
      ]
    },
    {
      "cell_type": "code",
      "source": [],
      "metadata": {
        "id": "4ee2AjX-rPlh"
      },
      "execution_count": null,
      "outputs": []
    }
  ]
}