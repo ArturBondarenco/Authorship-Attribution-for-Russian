{
  "nbformat": 4,
  "nbformat_minor": 0,
  "metadata": {
    "colab": {
      "provenance": [],
      "toc_visible": true
    },
    "kernelspec": {
      "name": "python3",
      "display_name": "Python 3"
    },
    "language_info": {
      "name": "python"
    }
  },
  "cells": [
    {
      "cell_type": "markdown",
      "source": [
        "# Importing libraries, downloading the model"
      ],
      "metadata": {
        "id": "Mpj1I_P2K5S4"
      }
    },
    {
      "cell_type": "code",
      "execution_count": 59,
      "metadata": {
        "colab": {
          "base_uri": "https://localhost:8080/"
        },
        "id": "1EIpGQQ5AGrv",
        "outputId": "b8a2cc92-ac64-4302-f57c-1b7ed8d0a1ea",
        "collapsed": true
      },
      "outputs": [
        {
          "output_type": "stream",
          "name": "stdout",
          "text": [
            "Pandas version: 2.0.3\n",
            "Scikit-learn version: 1.2.2\n",
            "NumPy version: 1.25.2\n"
          ]
        }
      ],
      "source": [
        "# Import necessary libraries\n",
        "import pandas\n",
        "import sklearn\n",
        "import numpy\n",
        "import spacy\n",
        "import re\n",
        "import json\n",
        "from statistics import mean\n",
        "from collections import Counter\n",
        "import string\n",
        "from typing import List\n",
        "\n",
        "# Print versions of the major libraries\n",
        "print(f\"Pandas version: {pandas.__version__}\")\n",
        "print(f\"Scikit-learn version: {sklearn.__version__}\")\n",
        "print(f\"NumPy version: {numpy.__version__}\")"
      ]
    },
    {
      "cell_type": "code",
      "source": [
        "# Download and load the small Russian model for quick test purposes^\n",
        "!python -m spacy download ru_core_news_sm\n",
        "nlp = spacy.load('ru_core_news_sm')\n",
        "\n",
        "# Large Russian model:\n",
        "# !python -m spacy download ru_core_news_lg\n",
        "# nlp = spacy.load('ru_core_news_lg')"
      ],
      "metadata": {
        "colab": {
          "base_uri": "https://localhost:8080/"
        },
        "id": "JaM4ef2lSMnQ",
        "outputId": "162c1bff-5bc3-48de-f7f2-30bb7d30b260",
        "collapsed": true
      },
      "execution_count": 16,
      "outputs": [
        {
          "output_type": "stream",
          "name": "stdout",
          "text": [
            "Collecting ru-core-news-sm==3.7.0\n",
            "  Downloading https://github.com/explosion/spacy-models/releases/download/ru_core_news_sm-3.7.0/ru_core_news_sm-3.7.0-py3-none-any.whl (15.3 MB)\n",
            "\u001b[2K     \u001b[90m━━━━━━━━━━━━━━━━━━━━━━━━━━━━━━━━━━━━━━━━\u001b[0m \u001b[32m15.3/15.3 MB\u001b[0m \u001b[31m42.6 MB/s\u001b[0m eta \u001b[36m0:00:00\u001b[0m\n",
            "\u001b[?25hRequirement already satisfied: spacy<3.8.0,>=3.7.0 in /usr/local/lib/python3.10/dist-packages (from ru-core-news-sm==3.7.0) (3.7.5)\n",
            "Requirement already satisfied: pymorphy3>=1.0.0 in /usr/local/lib/python3.10/dist-packages (from ru-core-news-sm==3.7.0) (2.0.2)\n",
            "Requirement already satisfied: dawg-python>=0.7.1 in /usr/local/lib/python3.10/dist-packages (from pymorphy3>=1.0.0->ru-core-news-sm==3.7.0) (0.7.2)\n",
            "Requirement already satisfied: pymorphy3-dicts-ru in /usr/local/lib/python3.10/dist-packages (from pymorphy3>=1.0.0->ru-core-news-sm==3.7.0) (2.4.417150.4580142)\n",
            "Requirement already satisfied: spacy-legacy<3.1.0,>=3.0.11 in /usr/local/lib/python3.10/dist-packages (from spacy<3.8.0,>=3.7.0->ru-core-news-sm==3.7.0) (3.0.12)\n",
            "Requirement already satisfied: spacy-loggers<2.0.0,>=1.0.0 in /usr/local/lib/python3.10/dist-packages (from spacy<3.8.0,>=3.7.0->ru-core-news-sm==3.7.0) (1.0.5)\n",
            "Requirement already satisfied: murmurhash<1.1.0,>=0.28.0 in /usr/local/lib/python3.10/dist-packages (from spacy<3.8.0,>=3.7.0->ru-core-news-sm==3.7.0) (1.0.10)\n",
            "Requirement already satisfied: cymem<2.1.0,>=2.0.2 in /usr/local/lib/python3.10/dist-packages (from spacy<3.8.0,>=3.7.0->ru-core-news-sm==3.7.0) (2.0.8)\n",
            "Requirement already satisfied: preshed<3.1.0,>=3.0.2 in /usr/local/lib/python3.10/dist-packages (from spacy<3.8.0,>=3.7.0->ru-core-news-sm==3.7.0) (3.0.9)\n",
            "Requirement already satisfied: thinc<8.3.0,>=8.2.2 in /usr/local/lib/python3.10/dist-packages (from spacy<3.8.0,>=3.7.0->ru-core-news-sm==3.7.0) (8.2.5)\n",
            "Requirement already satisfied: wasabi<1.2.0,>=0.9.1 in /usr/local/lib/python3.10/dist-packages (from spacy<3.8.0,>=3.7.0->ru-core-news-sm==3.7.0) (1.1.3)\n",
            "Requirement already satisfied: srsly<3.0.0,>=2.4.3 in /usr/local/lib/python3.10/dist-packages (from spacy<3.8.0,>=3.7.0->ru-core-news-sm==3.7.0) (2.4.8)\n",
            "Requirement already satisfied: catalogue<2.1.0,>=2.0.6 in /usr/local/lib/python3.10/dist-packages (from spacy<3.8.0,>=3.7.0->ru-core-news-sm==3.7.0) (2.0.10)\n",
            "Requirement already satisfied: weasel<0.5.0,>=0.1.0 in /usr/local/lib/python3.10/dist-packages (from spacy<3.8.0,>=3.7.0->ru-core-news-sm==3.7.0) (0.4.1)\n",
            "Requirement already satisfied: typer<1.0.0,>=0.3.0 in /usr/local/lib/python3.10/dist-packages (from spacy<3.8.0,>=3.7.0->ru-core-news-sm==3.7.0) (0.12.3)\n",
            "Requirement already satisfied: tqdm<5.0.0,>=4.38.0 in /usr/local/lib/python3.10/dist-packages (from spacy<3.8.0,>=3.7.0->ru-core-news-sm==3.7.0) (4.66.4)\n",
            "Requirement already satisfied: requests<3.0.0,>=2.13.0 in /usr/local/lib/python3.10/dist-packages (from spacy<3.8.0,>=3.7.0->ru-core-news-sm==3.7.0) (2.31.0)\n",
            "Requirement already satisfied: pydantic!=1.8,!=1.8.1,<3.0.0,>=1.7.4 in /usr/local/lib/python3.10/dist-packages (from spacy<3.8.0,>=3.7.0->ru-core-news-sm==3.7.0) (2.7.4)\n",
            "Requirement already satisfied: jinja2 in /usr/local/lib/python3.10/dist-packages (from spacy<3.8.0,>=3.7.0->ru-core-news-sm==3.7.0) (3.1.4)\n",
            "Requirement already satisfied: setuptools in /usr/local/lib/python3.10/dist-packages (from spacy<3.8.0,>=3.7.0->ru-core-news-sm==3.7.0) (67.7.2)\n",
            "Requirement already satisfied: packaging>=20.0 in /usr/local/lib/python3.10/dist-packages (from spacy<3.8.0,>=3.7.0->ru-core-news-sm==3.7.0) (24.1)\n",
            "Requirement already satisfied: langcodes<4.0.0,>=3.2.0 in /usr/local/lib/python3.10/dist-packages (from spacy<3.8.0,>=3.7.0->ru-core-news-sm==3.7.0) (3.4.0)\n",
            "Requirement already satisfied: numpy>=1.19.0 in /usr/local/lib/python3.10/dist-packages (from spacy<3.8.0,>=3.7.0->ru-core-news-sm==3.7.0) (1.25.2)\n",
            "Requirement already satisfied: language-data>=1.2 in /usr/local/lib/python3.10/dist-packages (from langcodes<4.0.0,>=3.2.0->spacy<3.8.0,>=3.7.0->ru-core-news-sm==3.7.0) (1.2.0)\n",
            "Requirement already satisfied: annotated-types>=0.4.0 in /usr/local/lib/python3.10/dist-packages (from pydantic!=1.8,!=1.8.1,<3.0.0,>=1.7.4->spacy<3.8.0,>=3.7.0->ru-core-news-sm==3.7.0) (0.7.0)\n",
            "Requirement already satisfied: pydantic-core==2.18.4 in /usr/local/lib/python3.10/dist-packages (from pydantic!=1.8,!=1.8.1,<3.0.0,>=1.7.4->spacy<3.8.0,>=3.7.0->ru-core-news-sm==3.7.0) (2.18.4)\n",
            "Requirement already satisfied: typing-extensions>=4.6.1 in /usr/local/lib/python3.10/dist-packages (from pydantic!=1.8,!=1.8.1,<3.0.0,>=1.7.4->spacy<3.8.0,>=3.7.0->ru-core-news-sm==3.7.0) (4.12.2)\n",
            "Requirement already satisfied: charset-normalizer<4,>=2 in /usr/local/lib/python3.10/dist-packages (from requests<3.0.0,>=2.13.0->spacy<3.8.0,>=3.7.0->ru-core-news-sm==3.7.0) (3.3.2)\n",
            "Requirement already satisfied: idna<4,>=2.5 in /usr/local/lib/python3.10/dist-packages (from requests<3.0.0,>=2.13.0->spacy<3.8.0,>=3.7.0->ru-core-news-sm==3.7.0) (3.7)\n",
            "Requirement already satisfied: urllib3<3,>=1.21.1 in /usr/local/lib/python3.10/dist-packages (from requests<3.0.0,>=2.13.0->spacy<3.8.0,>=3.7.0->ru-core-news-sm==3.7.0) (2.0.7)\n",
            "Requirement already satisfied: certifi>=2017.4.17 in /usr/local/lib/python3.10/dist-packages (from requests<3.0.0,>=2.13.0->spacy<3.8.0,>=3.7.0->ru-core-news-sm==3.7.0) (2024.6.2)\n",
            "Requirement already satisfied: blis<0.8.0,>=0.7.8 in /usr/local/lib/python3.10/dist-packages (from thinc<8.3.0,>=8.2.2->spacy<3.8.0,>=3.7.0->ru-core-news-sm==3.7.0) (0.7.11)\n",
            "Requirement already satisfied: confection<1.0.0,>=0.0.1 in /usr/local/lib/python3.10/dist-packages (from thinc<8.3.0,>=8.2.2->spacy<3.8.0,>=3.7.0->ru-core-news-sm==3.7.0) (0.1.5)\n",
            "Requirement already satisfied: click>=8.0.0 in /usr/local/lib/python3.10/dist-packages (from typer<1.0.0,>=0.3.0->spacy<3.8.0,>=3.7.0->ru-core-news-sm==3.7.0) (8.1.7)\n",
            "Requirement already satisfied: shellingham>=1.3.0 in /usr/local/lib/python3.10/dist-packages (from typer<1.0.0,>=0.3.0->spacy<3.8.0,>=3.7.0->ru-core-news-sm==3.7.0) (1.5.4)\n",
            "Requirement already satisfied: rich>=10.11.0 in /usr/local/lib/python3.10/dist-packages (from typer<1.0.0,>=0.3.0->spacy<3.8.0,>=3.7.0->ru-core-news-sm==3.7.0) (13.7.1)\n",
            "Requirement already satisfied: cloudpathlib<1.0.0,>=0.7.0 in /usr/local/lib/python3.10/dist-packages (from weasel<0.5.0,>=0.1.0->spacy<3.8.0,>=3.7.0->ru-core-news-sm==3.7.0) (0.18.1)\n",
            "Requirement already satisfied: smart-open<8.0.0,>=5.2.1 in /usr/local/lib/python3.10/dist-packages (from weasel<0.5.0,>=0.1.0->spacy<3.8.0,>=3.7.0->ru-core-news-sm==3.7.0) (7.0.4)\n",
            "Requirement already satisfied: MarkupSafe>=2.0 in /usr/local/lib/python3.10/dist-packages (from jinja2->spacy<3.8.0,>=3.7.0->ru-core-news-sm==3.7.0) (2.1.5)\n",
            "Requirement already satisfied: marisa-trie>=0.7.7 in /usr/local/lib/python3.10/dist-packages (from language-data>=1.2->langcodes<4.0.0,>=3.2.0->spacy<3.8.0,>=3.7.0->ru-core-news-sm==3.7.0) (1.2.0)\n",
            "Requirement already satisfied: markdown-it-py>=2.2.0 in /usr/local/lib/python3.10/dist-packages (from rich>=10.11.0->typer<1.0.0,>=0.3.0->spacy<3.8.0,>=3.7.0->ru-core-news-sm==3.7.0) (3.0.0)\n",
            "Requirement already satisfied: pygments<3.0.0,>=2.13.0 in /usr/local/lib/python3.10/dist-packages (from rich>=10.11.0->typer<1.0.0,>=0.3.0->spacy<3.8.0,>=3.7.0->ru-core-news-sm==3.7.0) (2.16.1)\n",
            "Requirement already satisfied: wrapt in /usr/local/lib/python3.10/dist-packages (from smart-open<8.0.0,>=5.2.1->weasel<0.5.0,>=0.1.0->spacy<3.8.0,>=3.7.0->ru-core-news-sm==3.7.0) (1.14.1)\n",
            "Requirement already satisfied: mdurl~=0.1 in /usr/local/lib/python3.10/dist-packages (from markdown-it-py>=2.2.0->rich>=10.11.0->typer<1.0.0,>=0.3.0->spacy<3.8.0,>=3.7.0->ru-core-news-sm==3.7.0) (0.1.2)\n",
            "\u001b[38;5;2m✔ Download and installation successful\u001b[0m\n",
            "You can now load the package via spacy.load('ru_core_news_sm')\n",
            "\u001b[38;5;3m⚠ Restart to reload dependencies\u001b[0m\n",
            "If you are in a Jupyter or Colab notebook, you may need to restart Python in\n",
            "order to load all the package's dependencies. You can do this by selecting the\n",
            "'Restart kernel' or 'Restart runtime' option.\n"
          ]
        }
      ]
    },
    {
      "cell_type": "markdown",
      "source": [
        "# Making lists and doc objects from csv files"
      ],
      "metadata": {
        "id": "vRbGoiRNLFHr"
      }
    },
    {
      "cell_type": "markdown",
      "source": [
        "Let's load the training data from a csv file and display the first few rows of the training set:"
      ],
      "metadata": {
        "id": "wO2KScCC3bTP"
      }
    },
    {
      "cell_type": "code",
      "source": [
        "train_set = pandas.read_csv('./train_data.csv', encoding='utf-8-sig')\n",
        "train_set.head()"
      ],
      "metadata": {
        "id": "QSI83sGJAbwp",
        "colab": {
          "base_uri": "https://localhost:8080/",
          "height": 206
        },
        "outputId": "c91e0902-4be5-4375-e81f-f797cb18711d",
        "collapsed": true
      },
      "execution_count": 55,
      "outputs": [
        {
          "output_type": "execute_result",
          "data": {
            "text/plain": [
              "                                                text      author\n",
              "0  Но каково же было мое изумление, когда Наташа ...  Dostoevsky\n",
              "1       — закричали в толпе.. — Давай совет кошевой!       Gogol\n",
              "2                         И всё, бывало, извиняется.     Chekhov\n",
              "3                                          Живу-ут!.     Chekhov\n",
              "4  Там воду освятим: они скорее выздоровеют; и я ...     Tolstoy"
            ],
            "text/html": [
              "\n",
              "  <div id=\"df-c17cd653-cf92-43ff-96a5-e68af979af3c\" class=\"colab-df-container\">\n",
              "    <div>\n",
              "<style scoped>\n",
              "    .dataframe tbody tr th:only-of-type {\n",
              "        vertical-align: middle;\n",
              "    }\n",
              "\n",
              "    .dataframe tbody tr th {\n",
              "        vertical-align: top;\n",
              "    }\n",
              "\n",
              "    .dataframe thead th {\n",
              "        text-align: right;\n",
              "    }\n",
              "</style>\n",
              "<table border=\"1\" class=\"dataframe\">\n",
              "  <thead>\n",
              "    <tr style=\"text-align: right;\">\n",
              "      <th></th>\n",
              "      <th>text</th>\n",
              "      <th>author</th>\n",
              "    </tr>\n",
              "  </thead>\n",
              "  <tbody>\n",
              "    <tr>\n",
              "      <th>0</th>\n",
              "      <td>Но каково же было мое изумление, когда Наташа ...</td>\n",
              "      <td>Dostoevsky</td>\n",
              "    </tr>\n",
              "    <tr>\n",
              "      <th>1</th>\n",
              "      <td>— закричали в толпе.. — Давай совет кошевой!</td>\n",
              "      <td>Gogol</td>\n",
              "    </tr>\n",
              "    <tr>\n",
              "      <th>2</th>\n",
              "      <td>И всё, бывало, извиняется.</td>\n",
              "      <td>Chekhov</td>\n",
              "    </tr>\n",
              "    <tr>\n",
              "      <th>3</th>\n",
              "      <td>Живу-ут!.</td>\n",
              "      <td>Chekhov</td>\n",
              "    </tr>\n",
              "    <tr>\n",
              "      <th>4</th>\n",
              "      <td>Там воду освятим: они скорее выздоровеют; и я ...</td>\n",
              "      <td>Tolstoy</td>\n",
              "    </tr>\n",
              "  </tbody>\n",
              "</table>\n",
              "</div>\n",
              "    <div class=\"colab-df-buttons\">\n",
              "\n",
              "  <div class=\"colab-df-container\">\n",
              "    <button class=\"colab-df-convert\" onclick=\"convertToInteractive('df-c17cd653-cf92-43ff-96a5-e68af979af3c')\"\n",
              "            title=\"Convert this dataframe to an interactive table.\"\n",
              "            style=\"display:none;\">\n",
              "\n",
              "  <svg xmlns=\"http://www.w3.org/2000/svg\" height=\"24px\" viewBox=\"0 -960 960 960\">\n",
              "    <path d=\"M120-120v-720h720v720H120Zm60-500h600v-160H180v160Zm220 220h160v-160H400v160Zm0 220h160v-160H400v160ZM180-400h160v-160H180v160Zm440 0h160v-160H620v160ZM180-180h160v-160H180v160Zm440 0h160v-160H620v160Z\"/>\n",
              "  </svg>\n",
              "    </button>\n",
              "\n",
              "  <style>\n",
              "    .colab-df-container {\n",
              "      display:flex;\n",
              "      gap: 12px;\n",
              "    }\n",
              "\n",
              "    .colab-df-convert {\n",
              "      background-color: #E8F0FE;\n",
              "      border: none;\n",
              "      border-radius: 50%;\n",
              "      cursor: pointer;\n",
              "      display: none;\n",
              "      fill: #1967D2;\n",
              "      height: 32px;\n",
              "      padding: 0 0 0 0;\n",
              "      width: 32px;\n",
              "    }\n",
              "\n",
              "    .colab-df-convert:hover {\n",
              "      background-color: #E2EBFA;\n",
              "      box-shadow: 0px 1px 2px rgba(60, 64, 67, 0.3), 0px 1px 3px 1px rgba(60, 64, 67, 0.15);\n",
              "      fill: #174EA6;\n",
              "    }\n",
              "\n",
              "    .colab-df-buttons div {\n",
              "      margin-bottom: 4px;\n",
              "    }\n",
              "\n",
              "    [theme=dark] .colab-df-convert {\n",
              "      background-color: #3B4455;\n",
              "      fill: #D2E3FC;\n",
              "    }\n",
              "\n",
              "    [theme=dark] .colab-df-convert:hover {\n",
              "      background-color: #434B5C;\n",
              "      box-shadow: 0px 1px 3px 1px rgba(0, 0, 0, 0.15);\n",
              "      filter: drop-shadow(0px 1px 2px rgba(0, 0, 0, 0.3));\n",
              "      fill: #FFFFFF;\n",
              "    }\n",
              "  </style>\n",
              "\n",
              "    <script>\n",
              "      const buttonEl =\n",
              "        document.querySelector('#df-c17cd653-cf92-43ff-96a5-e68af979af3c button.colab-df-convert');\n",
              "      buttonEl.style.display =\n",
              "        google.colab.kernel.accessAllowed ? 'block' : 'none';\n",
              "\n",
              "      async function convertToInteractive(key) {\n",
              "        const element = document.querySelector('#df-c17cd653-cf92-43ff-96a5-e68af979af3c');\n",
              "        const dataTable =\n",
              "          await google.colab.kernel.invokeFunction('convertToInteractive',\n",
              "                                                    [key], {});\n",
              "        if (!dataTable) return;\n",
              "\n",
              "        const docLinkHtml = 'Like what you see? Visit the ' +\n",
              "          '<a target=\"_blank\" href=https://colab.research.google.com/notebooks/data_table.ipynb>data table notebook</a>'\n",
              "          + ' to learn more about interactive tables.';\n",
              "        element.innerHTML = '';\n",
              "        dataTable['output_type'] = 'display_data';\n",
              "        await google.colab.output.renderOutput(dataTable, element);\n",
              "        const docLink = document.createElement('div');\n",
              "        docLink.innerHTML = docLinkHtml;\n",
              "        element.appendChild(docLink);\n",
              "      }\n",
              "    </script>\n",
              "  </div>\n",
              "\n",
              "\n",
              "<div id=\"df-98d3a41e-08eb-412a-8b5f-4d6e67abf9c9\">\n",
              "  <button class=\"colab-df-quickchart\" onclick=\"quickchart('df-98d3a41e-08eb-412a-8b5f-4d6e67abf9c9')\"\n",
              "            title=\"Suggest charts\"\n",
              "            style=\"display:none;\">\n",
              "\n",
              "<svg xmlns=\"http://www.w3.org/2000/svg\" height=\"24px\"viewBox=\"0 0 24 24\"\n",
              "     width=\"24px\">\n",
              "    <g>\n",
              "        <path d=\"M19 3H5c-1.1 0-2 .9-2 2v14c0 1.1.9 2 2 2h14c1.1 0 2-.9 2-2V5c0-1.1-.9-2-2-2zM9 17H7v-7h2v7zm4 0h-2V7h2v10zm4 0h-2v-4h2v4z\"/>\n",
              "    </g>\n",
              "</svg>\n",
              "  </button>\n",
              "\n",
              "<style>\n",
              "  .colab-df-quickchart {\n",
              "      --bg-color: #E8F0FE;\n",
              "      --fill-color: #1967D2;\n",
              "      --hover-bg-color: #E2EBFA;\n",
              "      --hover-fill-color: #174EA6;\n",
              "      --disabled-fill-color: #AAA;\n",
              "      --disabled-bg-color: #DDD;\n",
              "  }\n",
              "\n",
              "  [theme=dark] .colab-df-quickchart {\n",
              "      --bg-color: #3B4455;\n",
              "      --fill-color: #D2E3FC;\n",
              "      --hover-bg-color: #434B5C;\n",
              "      --hover-fill-color: #FFFFFF;\n",
              "      --disabled-bg-color: #3B4455;\n",
              "      --disabled-fill-color: #666;\n",
              "  }\n",
              "\n",
              "  .colab-df-quickchart {\n",
              "    background-color: var(--bg-color);\n",
              "    border: none;\n",
              "    border-radius: 50%;\n",
              "    cursor: pointer;\n",
              "    display: none;\n",
              "    fill: var(--fill-color);\n",
              "    height: 32px;\n",
              "    padding: 0;\n",
              "    width: 32px;\n",
              "  }\n",
              "\n",
              "  .colab-df-quickchart:hover {\n",
              "    background-color: var(--hover-bg-color);\n",
              "    box-shadow: 0 1px 2px rgba(60, 64, 67, 0.3), 0 1px 3px 1px rgba(60, 64, 67, 0.15);\n",
              "    fill: var(--button-hover-fill-color);\n",
              "  }\n",
              "\n",
              "  .colab-df-quickchart-complete:disabled,\n",
              "  .colab-df-quickchart-complete:disabled:hover {\n",
              "    background-color: var(--disabled-bg-color);\n",
              "    fill: var(--disabled-fill-color);\n",
              "    box-shadow: none;\n",
              "  }\n",
              "\n",
              "  .colab-df-spinner {\n",
              "    border: 2px solid var(--fill-color);\n",
              "    border-color: transparent;\n",
              "    border-bottom-color: var(--fill-color);\n",
              "    animation:\n",
              "      spin 1s steps(1) infinite;\n",
              "  }\n",
              "\n",
              "  @keyframes spin {\n",
              "    0% {\n",
              "      border-color: transparent;\n",
              "      border-bottom-color: var(--fill-color);\n",
              "      border-left-color: var(--fill-color);\n",
              "    }\n",
              "    20% {\n",
              "      border-color: transparent;\n",
              "      border-left-color: var(--fill-color);\n",
              "      border-top-color: var(--fill-color);\n",
              "    }\n",
              "    30% {\n",
              "      border-color: transparent;\n",
              "      border-left-color: var(--fill-color);\n",
              "      border-top-color: var(--fill-color);\n",
              "      border-right-color: var(--fill-color);\n",
              "    }\n",
              "    40% {\n",
              "      border-color: transparent;\n",
              "      border-right-color: var(--fill-color);\n",
              "      border-top-color: var(--fill-color);\n",
              "    }\n",
              "    60% {\n",
              "      border-color: transparent;\n",
              "      border-right-color: var(--fill-color);\n",
              "    }\n",
              "    80% {\n",
              "      border-color: transparent;\n",
              "      border-right-color: var(--fill-color);\n",
              "      border-bottom-color: var(--fill-color);\n",
              "    }\n",
              "    90% {\n",
              "      border-color: transparent;\n",
              "      border-bottom-color: var(--fill-color);\n",
              "    }\n",
              "  }\n",
              "</style>\n",
              "\n",
              "  <script>\n",
              "    async function quickchart(key) {\n",
              "      const quickchartButtonEl =\n",
              "        document.querySelector('#' + key + ' button');\n",
              "      quickchartButtonEl.disabled = true;  // To prevent multiple clicks.\n",
              "      quickchartButtonEl.classList.add('colab-df-spinner');\n",
              "      try {\n",
              "        const charts = await google.colab.kernel.invokeFunction(\n",
              "            'suggestCharts', [key], {});\n",
              "      } catch (error) {\n",
              "        console.error('Error during call to suggestCharts:', error);\n",
              "      }\n",
              "      quickchartButtonEl.classList.remove('colab-df-spinner');\n",
              "      quickchartButtonEl.classList.add('colab-df-quickchart-complete');\n",
              "    }\n",
              "    (() => {\n",
              "      let quickchartButtonEl =\n",
              "        document.querySelector('#df-98d3a41e-08eb-412a-8b5f-4d6e67abf9c9 button');\n",
              "      quickchartButtonEl.style.display =\n",
              "        google.colab.kernel.accessAllowed ? 'block' : 'none';\n",
              "    })();\n",
              "  </script>\n",
              "</div>\n",
              "    </div>\n",
              "  </div>\n"
            ],
            "application/vnd.google.colaboratory.intrinsic+json": {
              "type": "dataframe",
              "variable_name": "train_set",
              "summary": "{\n  \"name\": \"train_set\",\n  \"rows\": 10000,\n  \"fields\": [\n    {\n      \"column\": \"text\",\n      \"properties\": {\n        \"dtype\": \"string\",\n        \"num_unique_values\": 9841,\n        \"samples\": [\n          \"\\u0417\\u0430\\u043d\\u0430\\u0432\\u0435\\u0441       .\",\n          \"\\u0418 \\u043f\\u043e\\u0447\\u0435\\u043c\\u0443-\\u0442\\u043e \\u0435\\u043c\\u0443 \\u0432\\u0441\\u043f\\u043e\\u043c\\u043d\\u0438\\u043b\\u0441\\u044f \\u043c\\u043e\\u0442\\u0430\\u0432\\u0448\\u0438\\u0439\\u0441\\u044f \\u043e\\u0442 \\u0432\\u0435\\u0442\\u0440\\u0430 \\u0447\\u0435\\u0440\\u043d\\u043e\\u0431\\u044b\\u043b\\u044c\\u043d\\u0438\\u043a,.\",\n          \"\\u2013 \\u0410 \\u0441\\u043c\\u0435\\u044e \\u043b\\u0438 \\u0441\\u043f\\u0440\\u043e\\u0441\\u0438\\u0442\\u044c, \\u0432 \\u043a\\u0430\\u043a\\u0438\\u0435 \\u043c\\u0435\\u0441\\u0442\\u0430 \\u0438\\u0437\\u0432\\u043e\\u043b\\u0438\\u0442\\u0435 \\u0435\\u0445\\u0430\\u0442\\u044c?\"\n        ],\n        \"semantic_type\": \"\",\n        \"description\": \"\"\n      }\n    },\n    {\n      \"column\": \"author\",\n      \"properties\": {\n        \"dtype\": \"category\",\n        \"num_unique_values\": 4,\n        \"samples\": [\n          \"Gogol\",\n          \"Tolstoy\",\n          \"Dostoevsky\"\n        ],\n        \"semantic_type\": \"\",\n        \"description\": \"\"\n      }\n    }\n  ]\n}"
            }
          },
          "metadata": {},
          "execution_count": 55
        }
      ]
    },
    {
      "cell_type": "markdown",
      "source": [
        "Let's do the same thing on the test set:"
      ],
      "metadata": {
        "id": "gtE_ZzGX3qf_"
      }
    },
    {
      "cell_type": "code",
      "source": [
        "test_set = pandas.read_csv('./test_data.csv', encoding='utf-8-sig')\n",
        "test_set.head()"
      ],
      "metadata": {
        "id": "gFACzHopAgQ-",
        "colab": {
          "base_uri": "https://localhost:8080/",
          "height": 206
        },
        "outputId": "df5e4087-3e31-4112-99ae-21ea3ecf04cc",
        "collapsed": true
      },
      "execution_count": 56,
      "outputs": [
        {
          "output_type": "execute_result",
          "data": {
            "text/plain": [
              "                                                text      author\n",
              "0     \"Фома Фомич, говорю, разве это возможное дело?  Dostoevsky\n",
              "1                                 Пора бы уже домой.     Chekhov\n",
              "2  А казаки все до одного прощались, зная, что мн...       Gogol\n",
              "3  Вдруг слезы градом у обоих из глаз, дрогнули р...  Dostoevsky\n",
              "4  Но художник видел в этом нежном личике одну то...       Gogol"
            ],
            "text/html": [
              "\n",
              "  <div id=\"df-d0fb60f5-4fd5-471b-8c25-cf4d7304ad2d\" class=\"colab-df-container\">\n",
              "    <div>\n",
              "<style scoped>\n",
              "    .dataframe tbody tr th:only-of-type {\n",
              "        vertical-align: middle;\n",
              "    }\n",
              "\n",
              "    .dataframe tbody tr th {\n",
              "        vertical-align: top;\n",
              "    }\n",
              "\n",
              "    .dataframe thead th {\n",
              "        text-align: right;\n",
              "    }\n",
              "</style>\n",
              "<table border=\"1\" class=\"dataframe\">\n",
              "  <thead>\n",
              "    <tr style=\"text-align: right;\">\n",
              "      <th></th>\n",
              "      <th>text</th>\n",
              "      <th>author</th>\n",
              "    </tr>\n",
              "  </thead>\n",
              "  <tbody>\n",
              "    <tr>\n",
              "      <th>0</th>\n",
              "      <td>\"Фома Фомич, говорю, разве это возможное дело?</td>\n",
              "      <td>Dostoevsky</td>\n",
              "    </tr>\n",
              "    <tr>\n",
              "      <th>1</th>\n",
              "      <td>Пора бы уже домой.</td>\n",
              "      <td>Chekhov</td>\n",
              "    </tr>\n",
              "    <tr>\n",
              "      <th>2</th>\n",
              "      <td>А казаки все до одного прощались, зная, что мн...</td>\n",
              "      <td>Gogol</td>\n",
              "    </tr>\n",
              "    <tr>\n",
              "      <th>3</th>\n",
              "      <td>Вдруг слезы градом у обоих из глаз, дрогнули р...</td>\n",
              "      <td>Dostoevsky</td>\n",
              "    </tr>\n",
              "    <tr>\n",
              "      <th>4</th>\n",
              "      <td>Но художник видел в этом нежном личике одну то...</td>\n",
              "      <td>Gogol</td>\n",
              "    </tr>\n",
              "  </tbody>\n",
              "</table>\n",
              "</div>\n",
              "    <div class=\"colab-df-buttons\">\n",
              "\n",
              "  <div class=\"colab-df-container\">\n",
              "    <button class=\"colab-df-convert\" onclick=\"convertToInteractive('df-d0fb60f5-4fd5-471b-8c25-cf4d7304ad2d')\"\n",
              "            title=\"Convert this dataframe to an interactive table.\"\n",
              "            style=\"display:none;\">\n",
              "\n",
              "  <svg xmlns=\"http://www.w3.org/2000/svg\" height=\"24px\" viewBox=\"0 -960 960 960\">\n",
              "    <path d=\"M120-120v-720h720v720H120Zm60-500h600v-160H180v160Zm220 220h160v-160H400v160Zm0 220h160v-160H400v160ZM180-400h160v-160H180v160Zm440 0h160v-160H620v160ZM180-180h160v-160H180v160Zm440 0h160v-160H620v160Z\"/>\n",
              "  </svg>\n",
              "    </button>\n",
              "\n",
              "  <style>\n",
              "    .colab-df-container {\n",
              "      display:flex;\n",
              "      gap: 12px;\n",
              "    }\n",
              "\n",
              "    .colab-df-convert {\n",
              "      background-color: #E8F0FE;\n",
              "      border: none;\n",
              "      border-radius: 50%;\n",
              "      cursor: pointer;\n",
              "      display: none;\n",
              "      fill: #1967D2;\n",
              "      height: 32px;\n",
              "      padding: 0 0 0 0;\n",
              "      width: 32px;\n",
              "    }\n",
              "\n",
              "    .colab-df-convert:hover {\n",
              "      background-color: #E2EBFA;\n",
              "      box-shadow: 0px 1px 2px rgba(60, 64, 67, 0.3), 0px 1px 3px 1px rgba(60, 64, 67, 0.15);\n",
              "      fill: #174EA6;\n",
              "    }\n",
              "\n",
              "    .colab-df-buttons div {\n",
              "      margin-bottom: 4px;\n",
              "    }\n",
              "\n",
              "    [theme=dark] .colab-df-convert {\n",
              "      background-color: #3B4455;\n",
              "      fill: #D2E3FC;\n",
              "    }\n",
              "\n",
              "    [theme=dark] .colab-df-convert:hover {\n",
              "      background-color: #434B5C;\n",
              "      box-shadow: 0px 1px 3px 1px rgba(0, 0, 0, 0.15);\n",
              "      filter: drop-shadow(0px 1px 2px rgba(0, 0, 0, 0.3));\n",
              "      fill: #FFFFFF;\n",
              "    }\n",
              "  </style>\n",
              "\n",
              "    <script>\n",
              "      const buttonEl =\n",
              "        document.querySelector('#df-d0fb60f5-4fd5-471b-8c25-cf4d7304ad2d button.colab-df-convert');\n",
              "      buttonEl.style.display =\n",
              "        google.colab.kernel.accessAllowed ? 'block' : 'none';\n",
              "\n",
              "      async function convertToInteractive(key) {\n",
              "        const element = document.querySelector('#df-d0fb60f5-4fd5-471b-8c25-cf4d7304ad2d');\n",
              "        const dataTable =\n",
              "          await google.colab.kernel.invokeFunction('convertToInteractive',\n",
              "                                                    [key], {});\n",
              "        if (!dataTable) return;\n",
              "\n",
              "        const docLinkHtml = 'Like what you see? Visit the ' +\n",
              "          '<a target=\"_blank\" href=https://colab.research.google.com/notebooks/data_table.ipynb>data table notebook</a>'\n",
              "          + ' to learn more about interactive tables.';\n",
              "        element.innerHTML = '';\n",
              "        dataTable['output_type'] = 'display_data';\n",
              "        await google.colab.output.renderOutput(dataTable, element);\n",
              "        const docLink = document.createElement('div');\n",
              "        docLink.innerHTML = docLinkHtml;\n",
              "        element.appendChild(docLink);\n",
              "      }\n",
              "    </script>\n",
              "  </div>\n",
              "\n",
              "\n",
              "<div id=\"df-dfa00eb0-3ce4-42b5-af4e-e006bae5033e\">\n",
              "  <button class=\"colab-df-quickchart\" onclick=\"quickchart('df-dfa00eb0-3ce4-42b5-af4e-e006bae5033e')\"\n",
              "            title=\"Suggest charts\"\n",
              "            style=\"display:none;\">\n",
              "\n",
              "<svg xmlns=\"http://www.w3.org/2000/svg\" height=\"24px\"viewBox=\"0 0 24 24\"\n",
              "     width=\"24px\">\n",
              "    <g>\n",
              "        <path d=\"M19 3H5c-1.1 0-2 .9-2 2v14c0 1.1.9 2 2 2h14c1.1 0 2-.9 2-2V5c0-1.1-.9-2-2-2zM9 17H7v-7h2v7zm4 0h-2V7h2v10zm4 0h-2v-4h2v4z\"/>\n",
              "    </g>\n",
              "</svg>\n",
              "  </button>\n",
              "\n",
              "<style>\n",
              "  .colab-df-quickchart {\n",
              "      --bg-color: #E8F0FE;\n",
              "      --fill-color: #1967D2;\n",
              "      --hover-bg-color: #E2EBFA;\n",
              "      --hover-fill-color: #174EA6;\n",
              "      --disabled-fill-color: #AAA;\n",
              "      --disabled-bg-color: #DDD;\n",
              "  }\n",
              "\n",
              "  [theme=dark] .colab-df-quickchart {\n",
              "      --bg-color: #3B4455;\n",
              "      --fill-color: #D2E3FC;\n",
              "      --hover-bg-color: #434B5C;\n",
              "      --hover-fill-color: #FFFFFF;\n",
              "      --disabled-bg-color: #3B4455;\n",
              "      --disabled-fill-color: #666;\n",
              "  }\n",
              "\n",
              "  .colab-df-quickchart {\n",
              "    background-color: var(--bg-color);\n",
              "    border: none;\n",
              "    border-radius: 50%;\n",
              "    cursor: pointer;\n",
              "    display: none;\n",
              "    fill: var(--fill-color);\n",
              "    height: 32px;\n",
              "    padding: 0;\n",
              "    width: 32px;\n",
              "  }\n",
              "\n",
              "  .colab-df-quickchart:hover {\n",
              "    background-color: var(--hover-bg-color);\n",
              "    box-shadow: 0 1px 2px rgba(60, 64, 67, 0.3), 0 1px 3px 1px rgba(60, 64, 67, 0.15);\n",
              "    fill: var(--button-hover-fill-color);\n",
              "  }\n",
              "\n",
              "  .colab-df-quickchart-complete:disabled,\n",
              "  .colab-df-quickchart-complete:disabled:hover {\n",
              "    background-color: var(--disabled-bg-color);\n",
              "    fill: var(--disabled-fill-color);\n",
              "    box-shadow: none;\n",
              "  }\n",
              "\n",
              "  .colab-df-spinner {\n",
              "    border: 2px solid var(--fill-color);\n",
              "    border-color: transparent;\n",
              "    border-bottom-color: var(--fill-color);\n",
              "    animation:\n",
              "      spin 1s steps(1) infinite;\n",
              "  }\n",
              "\n",
              "  @keyframes spin {\n",
              "    0% {\n",
              "      border-color: transparent;\n",
              "      border-bottom-color: var(--fill-color);\n",
              "      border-left-color: var(--fill-color);\n",
              "    }\n",
              "    20% {\n",
              "      border-color: transparent;\n",
              "      border-left-color: var(--fill-color);\n",
              "      border-top-color: var(--fill-color);\n",
              "    }\n",
              "    30% {\n",
              "      border-color: transparent;\n",
              "      border-left-color: var(--fill-color);\n",
              "      border-top-color: var(--fill-color);\n",
              "      border-right-color: var(--fill-color);\n",
              "    }\n",
              "    40% {\n",
              "      border-color: transparent;\n",
              "      border-right-color: var(--fill-color);\n",
              "      border-top-color: var(--fill-color);\n",
              "    }\n",
              "    60% {\n",
              "      border-color: transparent;\n",
              "      border-right-color: var(--fill-color);\n",
              "    }\n",
              "    80% {\n",
              "      border-color: transparent;\n",
              "      border-right-color: var(--fill-color);\n",
              "      border-bottom-color: var(--fill-color);\n",
              "    }\n",
              "    90% {\n",
              "      border-color: transparent;\n",
              "      border-bottom-color: var(--fill-color);\n",
              "    }\n",
              "  }\n",
              "</style>\n",
              "\n",
              "  <script>\n",
              "    async function quickchart(key) {\n",
              "      const quickchartButtonEl =\n",
              "        document.querySelector('#' + key + ' button');\n",
              "      quickchartButtonEl.disabled = true;  // To prevent multiple clicks.\n",
              "      quickchartButtonEl.classList.add('colab-df-spinner');\n",
              "      try {\n",
              "        const charts = await google.colab.kernel.invokeFunction(\n",
              "            'suggestCharts', [key], {});\n",
              "      } catch (error) {\n",
              "        console.error('Error during call to suggestCharts:', error);\n",
              "      }\n",
              "      quickchartButtonEl.classList.remove('colab-df-spinner');\n",
              "      quickchartButtonEl.classList.add('colab-df-quickchart-complete');\n",
              "    }\n",
              "    (() => {\n",
              "      let quickchartButtonEl =\n",
              "        document.querySelector('#df-dfa00eb0-3ce4-42b5-af4e-e006bae5033e button');\n",
              "      quickchartButtonEl.style.display =\n",
              "        google.colab.kernel.accessAllowed ? 'block' : 'none';\n",
              "    })();\n",
              "  </script>\n",
              "</div>\n",
              "    </div>\n",
              "  </div>\n"
            ],
            "application/vnd.google.colaboratory.intrinsic+json": {
              "type": "dataframe",
              "variable_name": "test_set",
              "summary": "{\n  \"name\": \"test_set\",\n  \"rows\": 1000,\n  \"fields\": [\n    {\n      \"column\": \"text\",\n      \"properties\": {\n        \"dtype\": \"string\",\n        \"num_unique_values\": 991,\n        \"samples\": [\n          \"\\u0447\\u0442\\u043e \\u044d\\u0442\\u043e \\u0437\\u0430 \\u043f\\u0440\\u0435\\u043b\\u0435\\u0441\\u0442\\u044c!\",\n          \"\\u042f \\u0432\\u043e\\u043d \\u0432 \\u043f\\u044f\\u0442\\u043d\\u0438\\u0446\\u0443 \\u043d\\u0430\\u0442\\u0440\\u0435\\u0441\\u043a\\u0430\\u043b\\u0441\\u044f \\u043f\\u0438\\u0440\\u043e\\u0433\\u0430, \\u043a\\u0430\\u043a \\u041c\\u0430\\u0440\\u0442\\u044b\\u043d \\u043c\\u044b\\u043b\\u0430, \\u0434\\u0430 \\u0441 \\u0442\\u0435\\u0445 \\u043f\\u043e\\u0440 \\u0434\\u0435\\u043d\\u044c \\u043d\\u0435 \\u0435\\u043b, \\u0434\\u0440\\u0443\\u0433\\u043e\\u0439 \\u043f\\u043e\\u0433\\u043e\\u0434\\u0438\\u043b, \\u0430 \\u043d\\u0430 \\u0442\\u0440\\u0435\\u0442\\u0438\\u0439 \\u043e\\u043f\\u044f\\u0442\\u044c \\u043d\\u0435 \\u0435\\u043b.\",\n          \"\\u043f\\u0440\\u0438\\u0441\\u043b\\u0443\\u0448\\u0438\\u0432\\u0430\\u0442\\u044c\\u0441\\u044f..   .\"\n        ],\n        \"semantic_type\": \"\",\n        \"description\": \"\"\n      }\n    },\n    {\n      \"column\": \"author\",\n      \"properties\": {\n        \"dtype\": \"category\",\n        \"num_unique_values\": 4,\n        \"samples\": [\n          \"Chekhov\",\n          \"Tolstoy\",\n          \"Dostoevsky\"\n        ],\n        \"semantic_type\": \"\",\n        \"description\": \"\"\n      }\n    }\n  ]\n}"
            }
          },
          "metadata": {},
          "execution_count": 56
        }
      ]
    },
    {
      "cell_type": "markdown",
      "source": [
        "Let's extract the lists of authors and sentences for both the training set and the test set:"
      ],
      "metadata": {
        "id": "5qCa2HaeLC99"
      }
    },
    {
      "cell_type": "code",
      "source": [
        "train_sentences = train_set['text'].to_list()\n",
        "train_authors = train_set['author'].to_list()\n",
        "\n",
        "test_sentences = test_set['text'].to_list()\n",
        "test_authors = test_set['author'].to_list()\n",
        "\n",
        "print(f\"Number of training authors: {len(train_authors)}\")\n",
        "print(f\"Number of test authors: {len(test_authors)}\")"
      ],
      "metadata": {
        "colab": {
          "base_uri": "https://localhost:8080/"
        },
        "id": "Px9tzpjhBhG5",
        "outputId": "efe105d1-a53b-4864-b026-d45d021faaaf"
      },
      "execution_count": 57,
      "outputs": [
        {
          "output_type": "stream",
          "name": "stdout",
          "text": [
            "Number of training authors: 10000\n",
            "Number of test authors: 1000\n"
          ]
        }
      ]
    },
    {
      "cell_type": "markdown",
      "source": [
        "# Data per class (author)"
      ],
      "metadata": {
        "id": "cdkHTcOaMSSh"
      }
    },
    {
      "cell_type": "markdown",
      "source": [
        "It would also be useful to extract the data per author. First we will create a function data_extract that takes in the name of the author (string) and returns a list of sentences for the specified author."
      ],
      "metadata": {
        "id": "9EaW4tjKFAYy"
      }
    },
    {
      "cell_type": "code",
      "source": [
        "def data_extract(author_name: str) -> List[str]:\n",
        "  \"\"\"\n",
        "  Extracts all sentences for a given author from the provided dataset.\n",
        "\n",
        "  Arg:\n",
        "  author_name (str): The name of the author whose data is to be extracted.\n",
        "\n",
        "  Returns:\n",
        "  list: A list of text sentences for the specified author.\n",
        "  \"\"\"\n",
        "  author_data = train_set[train_set['author'] == author_name]['text'].to_list()\n",
        "  return author_data"
      ],
      "metadata": {
        "id": "1DW3yuPY-Bzn"
      },
      "execution_count": 60,
      "outputs": []
    },
    {
      "cell_type": "markdown",
      "source": [
        "Now let's use the function for all four classes (authors)."
      ],
      "metadata": {
        "id": "0Xh_FZguDYsK"
      }
    },
    {
      "cell_type": "code",
      "source": [
        "dostoyevsky_data = data_extract('Dostoevsky')\n",
        "tolstoy_data = data_extract('Tolstoy')\n",
        "chekhov_data = data_extract('Chekhov')\n",
        "gogol_data = data_extract('Gogol')"
      ],
      "metadata": {
        "id": "lBwuY3nHFFZo"
      },
      "execution_count": 61,
      "outputs": []
    },
    {
      "cell_type": "markdown",
      "source": [
        "Let's create a dictionary with the names of the authors as keys, and the lists of sentences as values."
      ],
      "metadata": {
        "id": "akIXGTosDggo"
      }
    },
    {
      "cell_type": "code",
      "source": [
        "author_data = {\n",
        "    'Training': train_sentences,\n",
        "    'Test': test_sentences,\n",
        "    'Dostoyevsky': dostoyevsky_data,\n",
        "    'Tolstoy': tolstoy_data,\n",
        "    'Chekhov': chekhov_data,\n",
        "    'Gogol': gogol_data\n",
        "}"
      ],
      "metadata": {
        "id": "TE7BE3TvC5C0"
      },
      "execution_count": 80,
      "outputs": []
    },
    {
      "cell_type": "markdown",
      "source": [
        "Let's process the data per each of the four authors with Spacy, thus creating doc objects. Let's also print the number of sentences per author."
      ],
      "metadata": {
        "id": "qLwMIZT9EBDU"
      }
    },
    {
      "cell_type": "code",
      "source": [
        "author_doc_dict = {}\n",
        "for author, data in author_data.items():\n",
        "  author_doc_dict[author] = nlp.pipe(data)\n",
        "  print(f'Number of sentences by {author}: {len(data)}')"
      ],
      "metadata": {
        "colab": {
          "base_uri": "https://localhost:8080/"
        },
        "id": "GouZsqPuD7q-",
        "outputId": "661b742e-1315-4da3-8561-b0111d05b62c"
      },
      "execution_count": 119,
      "outputs": [
        {
          "output_type": "stream",
          "name": "stdout",
          "text": [
            "Number of sentences by Training: 10000\n",
            "Number of sentences by Test: 1000\n",
            "Number of sentences by Dostoyevsky: 2500\n",
            "Number of sentences by Tolstoy: 2500\n",
            "Number of sentences by Chekhov: 2500\n",
            "Number of sentences by Gogol: 2500\n"
          ]
        }
      ]
    },
    {
      "cell_type": "markdown",
      "source": [
        "# Functions"
      ],
      "metadata": {
        "id": "E6AwO2S9Ma8I"
      }
    },
    {
      "cell_type": "markdown",
      "source": [
        "Let's write all the functions necessary for our data analysis:"
      ],
      "metadata": {
        "id": "LRw5_SZ9LeWg"
      }
    },
    {
      "cell_type": "code",
      "source": [
        "def get_sentence_and_word_length(sentences):\n",
        "  \"\"\"\n",
        "  Calculate average sentence length and average word length for a list of sentences.\n",
        "\n",
        "  Args:\n",
        "  sentences (List[spacy.tokens.doc.Doc]): List of spaCy Doc objects representing sentences\n",
        "  \"\"\"\n",
        "  word_length_list_total = []\n",
        "  sentence_lengths = []\n",
        "  for sentence in sentences:\n",
        "    sentence_lengths.append(len(sentence))\n",
        "    tokens_length_list_per_sentence = [len(token.text) for token in sentence]\n",
        "    avg_length = mean(tokens_length_list_per_sentence)\n",
        "    word_length_list_total.append(avg_length)\n",
        "  avg_word_length = mean(word_length_list_total)\n",
        "  avg_sent_length = mean(sentence_lengths)\n",
        "  print(f'Average nr of words per sentence: {avg_sent_length}')\n",
        "  print(f'Average token length: {round(avg_word_length, 2)}')\n",
        "  print()\n",
        "\n",
        "def ner_counter(list_of_doc_sentences):\n",
        "  \"\"\"\n",
        "  Count occurrences of named entities in a list of spaCy Doc objects.\n",
        "\n",
        "  Args:\n",
        "  sentences (List[spacy.tokens.doc.Doc]): List of spaCy Doc objects to analyze\n",
        "  \"\"\"\n",
        "  all_named_entities = [entity.label_ for doc in list_of_doc_sentences for entity in doc.ents]\n",
        "  named_entity_counts = Counter(all_named_entities)\n",
        "  print(named_entity_counts)\n",
        "\n",
        "def punctuation_mark_counter(sentences):\n",
        "    \"\"\"\n",
        "    Count occurrences of punctuation marks in a list of sentences using regex.\n",
        "\n",
        "    Args:\n",
        "    sentences (List[str]): List of sentences (strings) to analyze\n",
        "    \"\"\"\n",
        "    punct_pattern = r'[,.\\-!?;:…«»()\"\\[\\]&#{}<>/\\'%—–]'\n",
        "    text = ' '.join(sentences)\n",
        "    punctuation_marks = re.findall(punct_pattern, text)\n",
        "    punctuation_counts = Counter(punctuation_marks)\n",
        "    print(punctuation_counts)\n",
        "\n",
        "def replace_ellipsis(sentences):\n",
        "  \"\"\"\n",
        "  Replace '...' with '…' in a list of sentences (strings).\n",
        "\n",
        "  Args:\n",
        "  sentences (List[str]): List of sentences (strings) to process\n",
        "  \"\"\"\n",
        "  updated_sentences = [sentence.replace(\"...\", \"…\") for sentence in sentences]\n",
        "  return updated_sentences\n",
        "\n",
        "def count_sentences_with_latin_chars(sentences):\n",
        "  \"\"\"\n",
        "  Count sentences containing latin characters in a list of sentences.\n",
        "\n",
        "  Args:\n",
        "  sentences (List[str]): List of sentences to process\n",
        "  \"\"\"\n",
        "  latin_pattern = '[a-zA-Z]'\n",
        "  count = 0\n",
        "  for sentence in sentences:\n",
        "    if re.search(latin_pattern, sentence):\n",
        "      count += 1\n",
        "  return count\n",
        "\n",
        "def fivegram_pos_extractor_unique_and_count(list_of_doc_sentences):\n",
        "    \"\"\"\n",
        "    Analyze POS tag 5-grams from a list of spaCy Doc objects.\n",
        "    Get the count of the unique fivegram POS-tag combinations, as well as the 5 most common 5-grams.\n",
        "\n",
        "    Args:\n",
        "    list_of_doc_sentences (List[spacy.tokens.doc.Doc]): List of spaCy Doc objects to analyze\n",
        "    \"\"\"\n",
        "    n = 5\n",
        "    fivegram_pos_tags = []\n",
        "    for doc in list_of_doc_sentences:\n",
        "        # Iterate over each possible fivegram in the document\n",
        "        for i in range(len(doc) - n + 1):\n",
        "            # Extract the tokens for the current fivegram\n",
        "            fivegram_tokens = doc[i : i + n]\n",
        "            # Extract the POS tags of the tokens and add the POS tag combination to the list\n",
        "            fivegram_pos = tuple(token.pos_ for token in fivegram_tokens)\n",
        "            fivegram_pos_tags.append(fivegram_pos)\n",
        "    unique_fivegram_pos_tags = list(set(fivegram_pos_tags))\n",
        "    print(f\"{len(unique_fivegram_pos_tags)} unique fivegram POS-tag combinations.\")\n",
        "    most_common_fivegrams = Counter(fivegram_pos_tags).most_common(5)\n",
        "    print(\"Most common 5-grams:\")\n",
        "    for fivegram in most_common_fivegrams:\n",
        "      print(fivegram)\n",
        "    print()"
      ],
      "metadata": {
        "id": "fFwc4M_1HZ_S"
      },
      "execution_count": 162,
      "outputs": []
    },
    {
      "cell_type": "markdown",
      "source": [
        "# Analyzing the data"
      ],
      "metadata": {
        "id": "Y2Aj41U-LudS"
      }
    },
    {
      "cell_type": "markdown",
      "source": [
        "## Sentence and word length"
      ],
      "metadata": {
        "id": "neCYnxVOLxuH"
      }
    },
    {
      "cell_type": "markdown",
      "source": [
        "Initially I considered using sentence and word length as features for one of the models. However since we had some exercises on it, I thought I might not be allowed to use it and I focused on other features instead."
      ],
      "metadata": {
        "id": "xEovTZM6L4JE"
      }
    },
    {
      "cell_type": "code",
      "source": [
        "for author, doc in author_doc_dict.items():\n",
        "  print(f'\\033[1;4m{author}:\\033[0m')\n",
        "  get_sentence_and_word_length(doc)"
      ],
      "metadata": {
        "colab": {
          "base_uri": "https://localhost:8080/"
        },
        "id": "O77zDZCMRNGV",
        "outputId": "eaa82a24-4074-456a-c03c-c559d69c2c48"
      },
      "execution_count": 110,
      "outputs": [
        {
          "output_type": "stream",
          "name": "stdout",
          "text": [
            "\u001b[1;4mTraining:\u001b[0m\n",
            "Average nr of words per sentence: 19.9926\n",
            "Average token length: 3.87\n",
            "\n",
            "\u001b[1;4mTest:\u001b[0m\n",
            "Average nr of words per sentence: 19.708\n",
            "Average token length: 3.85\n",
            "\n",
            "\u001b[1;4mDostoyevsky:\u001b[0m\n",
            "Average nr of words per sentence: 21.0744\n",
            "Average token length: 3.76\n",
            "\n",
            "\u001b[1;4mTolstoy:\u001b[0m\n",
            "Average nr of words per sentence: 22.2136\n",
            "Average token length: 3.88\n",
            "\n",
            "\u001b[1;4mChekhov:\u001b[0m\n",
            "Average nr of words per sentence: 17.61\n",
            "Average token length: 3.79\n",
            "\n",
            "\u001b[1;4mGogol:\u001b[0m\n",
            "Average nr of words per sentence: 19.0724\n",
            "Average token length: 4.03\n",
            "\n"
          ]
        }
      ]
    },
    {
      "cell_type": "markdown",
      "source": [
        "## Named Entity Counter"
      ],
      "metadata": {
        "id": "PX9nIRhsMLmY"
      }
    },
    {
      "cell_type": "code",
      "source": [
        "for author, doc in author_doc_dict.items():\n",
        "  print(f'\\033[1;4m{author}:\\033[0m')\n",
        "  ner_counter(doc)\n",
        "  print()"
      ],
      "metadata": {
        "colab": {
          "base_uri": "https://localhost:8080/"
        },
        "id": "KbmSdzeFP-6U",
        "outputId": "d068f893-27f0-4aa4-ac43-d230b383fd67"
      },
      "execution_count": 105,
      "outputs": [
        {
          "output_type": "stream",
          "name": "stdout",
          "text": [
            "\u001b[1;4mTraining:\u001b[0m\n",
            "Counter({'PER': 3802, 'LOC': 617, 'ORG': 145})\n",
            "\n",
            "\u001b[1;4mTest:\u001b[0m\n",
            "Counter({'PER': 374, 'LOC': 57, 'ORG': 11})\n",
            "\n",
            "\u001b[1;4mDostoyevsky:\u001b[0m\n",
            "Counter({'PER': 819, 'LOC': 116, 'ORG': 31})\n",
            "\n",
            "\u001b[1;4mTolstoy:\u001b[0m\n",
            "Counter({'PER': 1205, 'LOC': 256, 'ORG': 69})\n",
            "\n",
            "\u001b[1;4mChekhov:\u001b[0m\n",
            "Counter({'PER': 995, 'LOC': 121, 'ORG': 22})\n",
            "\n",
            "\u001b[1;4mGogol:\u001b[0m\n",
            "Counter({'PER': 783, 'LOC': 124, 'ORG': 23})\n",
            "\n"
          ]
        }
      ]
    },
    {
      "cell_type": "markdown",
      "source": [
        "## Punctuation mark counter"
      ],
      "metadata": {
        "id": "b53P-P6cMVCy"
      }
    },
    {
      "cell_type": "code",
      "source": [
        "for author, sentence_list in author_data.items():\n",
        "  print(f'\\033[1;4m{author}:\\033[0m')\n",
        "  punctuation_mark_counter(sentence_list)"
      ],
      "metadata": {
        "colab": {
          "base_uri": "https://localhost:8080/"
        },
        "id": "poUFEppoaAVo",
        "outputId": "d027a6fb-baa8-4767-fcfe-1740dbd4729f"
      },
      "execution_count": 163,
      "outputs": [
        {
          "output_type": "stream",
          "name": "stdout",
          "text": [
            "\u001b[1;4mTraining:\u001b[0m\n",
            "Counter({',': 21220, '.': 15248, '-': 2112, '!': 1891, '–': 1848, '—': 1820, '?': 1248, ';': 1025, ':': 819, '…': 525, '«': 514, '»': 512, ')': 355, '(': 354, '\"': 239, '[': 98, ']': 98, '&': 98, '#': 97, \"'\": 43, '{': 17, '}': 17, '<': 14, '>': 14, '/': 2, '%': 1})\n",
            "\u001b[1;4mTest:\u001b[0m\n",
            "Counter({',': 2101, '.': 1459, '-': 209, '—': 179, '–': 175, '!': 170, '?': 123, ';': 96, ':': 82, '«': 56, '…': 50, '»': 39, ')': 32, '(': 30, '\"': 29, '[': 10, ']': 10, '&': 7, '#': 7, '{': 3, '}': 3, \"'\": 3, '<': 1, '>': 1})\n",
            "\u001b[1;4mDostoyevsky:\u001b[0m\n",
            "Counter({',': 5706, '.': 3261, '–': 838, '-': 727, '!': 427, '?': 368, ';': 298, '…': 191, ':': 190, '«': 165, '»': 161, '\"': 94, '—': 89, '(': 85, ')': 83, '[': 16, ']': 16, \"'\": 2, '<': 1, '>': 1})\n",
            "\u001b[1;4mTolstoy:\u001b[0m\n",
            "Counter({',': 5937, '.': 4260, '-': 698, '—': 469, ';': 287, '?': 271, '–': 251, '!': 216, ':': 193, '\"': 112, '«': 111, '»': 110, ')': 105, '(': 101, '…': 99, '&': 97, '#': 97, '[': 66, ']': 65, \"'\": 38, '{': 17, '}': 17, '/': 2, '<': 2, '>': 2})\n",
            "\u001b[1;4mChekhov:\u001b[0m\n",
            "Counter({'.': 5054, ',': 4462, '—': 1027, '!': 659, '-': 335, '?': 324, '…': 143, ':': 136, '–': 128, ')': 107, '(': 106, '»': 105, ';': 103, '«': 100, '&': 1, '%': 1, '<': 1, '>': 1})\n",
            "\u001b[1;4mGogol:\u001b[0m\n",
            "Counter({',': 5115, '.': 2673, '–': 631, '!': 589, '-': 352, ';': 337, ':': 300, '?': 285, '—': 235, '«': 138, '»': 136, '…': 92, '(': 62, ')': 60, '\"': 33, ']': 17, '[': 16, '<': 10, '>': 10, \"'\": 3})\n"
          ]
        }
      ]
    },
    {
      "cell_type": "markdown",
      "source": [
        "## Sentences with Latin characters counter"
      ],
      "metadata": {
        "id": "WUSRbcS6MwS1"
      }
    },
    {
      "cell_type": "code",
      "source": [
        "for author, sentence_list in author_data.items():\n",
        "  latin_chars = count_sentences_with_latin_chars(sentence_list)\n",
        "  print(f'Latin characters in \\033[1;4m{author}\\033[0m sentences: {latin_chars}')"
      ],
      "metadata": {
        "colab": {
          "base_uri": "https://localhost:8080/"
        },
        "id": "mkgiwAw1XAoL",
        "outputId": "102b8fed-bc31-43b2-8634-975bf5744200"
      },
      "execution_count": 144,
      "outputs": [
        {
          "output_type": "stream",
          "name": "stdout",
          "text": [
            "Latin characters in \u001b[1;4mTraining\u001b[0m sentences: 277\n",
            "Latin characters in \u001b[1;4mTest\u001b[0m sentences: 30\n",
            "Latin characters in \u001b[1;4mDostoyevsky\u001b[0m sentences: 58\n",
            "Latin characters in \u001b[1;4mTolstoy\u001b[0m sentences: 163\n",
            "Latin characters in \u001b[1;4mChekhov\u001b[0m sentences: 25\n",
            "Latin characters in \u001b[1;4mGogol\u001b[0m sentences: 31\n"
          ]
        }
      ]
    },
    {
      "cell_type": "markdown",
      "source": [
        "## 5-gram POS sequence counter"
      ],
      "metadata": {
        "id": "IWTWhu0KM6pl"
      }
    },
    {
      "cell_type": "code",
      "source": [
        "for author, doc in author_doc_dict.items():\n",
        "  print(f'\\033[1;4m{author}:\\033[0m')\n",
        "  fivegram_pos_extractor_unique_and_count(doc)"
      ],
      "metadata": {
        "colab": {
          "base_uri": "https://localhost:8080/"
        },
        "id": "qRWnK7zEYHdB",
        "outputId": "b4760bb1-7462-4779-f72a-6e9784160df4"
      },
      "execution_count": 145,
      "outputs": [
        {
          "output_type": "stream",
          "name": "stdout",
          "text": [
            "\u001b[1;4mTraining:\u001b[0m\n",
            "49929 unique fivegram POS-tag combinations.\n",
            "Most common 5-grams:\n",
            "(('X', 'X', 'X', 'X', 'X'), 306)\n",
            "(('PUNCT', 'VERB', 'ADP', 'NOUN', 'PUNCT'), 247)\n",
            "(('NOUN', 'PUNCT', 'VERB', 'ADP', 'NOUN'), 247)\n",
            "(('VERB', 'ADP', 'DET', 'NOUN', 'PUNCT'), 210)\n",
            "(('NOUN', 'ADP', 'ADJ', 'NOUN', 'PUNCT'), 183)\n",
            "\n",
            "\u001b[1;4mTest:\u001b[0m\n",
            "10782 unique fivegram POS-tag combinations.\n",
            "Most common 5-grams:\n",
            "(('NOUN', 'PUNCT', 'VERB', 'ADP', 'NOUN'), 30)\n",
            "(('PUNCT', 'VERB', 'ADP', 'NOUN', 'PUNCT'), 26)\n",
            "(('VERB', 'ADP', 'NOUN', 'NOUN', 'PUNCT'), 20)\n",
            "(('NOUN', 'PUNCT', 'VERB', 'NOUN', 'PUNCT'), 19)\n",
            "(('VERB', 'ADP', 'DET', 'NOUN', 'PUNCT'), 19)\n",
            "\n",
            "\u001b[1;4mDostoyevsky:\u001b[0m\n",
            "23205 unique fivegram POS-tag combinations.\n",
            "Most common 5-grams:\n",
            "(('VERB', 'ADP', 'DET', 'NOUN', 'PUNCT'), 61)\n",
            "(('PUNCT', 'SPACE', 'PUNCT', 'VERB', 'PRON'), 59)\n",
            "(('NOUN', 'PUNCT', 'SPACE', 'PUNCT', 'SPACE'), 55)\n",
            "(('ADJ', 'NOUN', 'PUNCT', 'SPACE', 'PUNCT'), 41)\n",
            "(('VERB', 'PRON', 'ADP', 'NOUN', 'PUNCT'), 40)\n",
            "\n",
            "\u001b[1;4mTolstoy:\u001b[0m\n",
            "21973 unique fivegram POS-tag combinations.\n",
            "Most common 5-grams:\n",
            "(('X', 'X', 'X', 'X', 'X'), 296)\n",
            "(('X', 'X', 'X', 'X', 'PUNCT'), 87)\n",
            "(('NOUN', 'PUNCT', 'VERB', 'ADP', 'NOUN'), 84)\n",
            "(('PUNCT', 'VERB', 'ADP', 'NOUN', 'PUNCT'), 83)\n",
            "(('NOUN', 'ADP', 'ADJ', 'NOUN', 'PUNCT'), 57)\n",
            "\n",
            "\u001b[1;4mChekhov:\u001b[0m\n",
            "17379 unique fivegram POS-tag combinations.\n",
            "Most common 5-grams:\n",
            "(('NOUN', 'PUNCT', 'VERB', 'ADP', 'NOUN'), 61)\n",
            "(('PUNCT', 'VERB', 'ADP', 'NOUN', 'PUNCT'), 59)\n",
            "(('NOUN', 'VERB', 'ADP', 'NOUN', 'PUNCT'), 48)\n",
            "(('PUNCT', 'PUNCT', 'VERB', 'PRON', 'PUNCT'), 47)\n",
            "(('ADJ', 'PUNCT', 'ADJ', 'NOUN', 'PUNCT'), 45)\n",
            "\n",
            "\u001b[1;4mGogol:\u001b[0m\n",
            "19467 unique fivegram POS-tag combinations.\n",
            "Most common 5-grams:\n",
            "(('NOUN', 'PUNCT', 'VERB', 'ADP', 'NOUN'), 74)\n",
            "(('PUNCT', 'VERB', 'ADP', 'NOUN', 'PUNCT'), 71)\n",
            "(('VERB', 'ADP', 'ADJ', 'NOUN', 'PUNCT'), 64)\n",
            "(('NOUN', 'ADP', 'ADJ', 'NOUN', 'PUNCT'), 62)\n",
            "(('NOUN', 'VERB', 'ADP', 'NOUN', 'PUNCT'), 52)\n",
            "\n"
          ]
        }
      ]
    }
  ]
}