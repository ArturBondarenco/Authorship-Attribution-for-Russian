{
  "nbformat": 4,
  "nbformat_minor": 0,
  "metadata": {
    "colab": {
      "provenance": []
    },
    "kernelspec": {
      "name": "python3",
      "display_name": "Python 3"
    },
    "language_info": {
      "name": "python"
    }
  },
  "cells": [
    {
      "cell_type": "markdown",
      "source": [
        "# Preparing the data"
      ],
      "metadata": {
        "id": "UH33eq9vsjbk"
      }
    },
    {
      "cell_type": "markdown",
      "source": [
        "## Importing libraries, downloading the model"
      ],
      "metadata": {
        "id": "Ll1FX6bIsp2Q"
      }
    },
    {
      "cell_type": "code",
      "execution_count": 11,
      "metadata": {
        "colab": {
          "base_uri": "https://localhost:8080/"
        },
        "id": "BwUIC2VhsOgq",
        "outputId": "9f1e99fb-8fda-4559-cc78-6962fd1897a6"
      },
      "outputs": [
        {
          "output_type": "stream",
          "name": "stdout",
          "text": [
            "2.0.3\n",
            "1.2.2\n",
            "1.25.2\n"
          ]
        }
      ],
      "source": [
        "import pandas\n",
        "import sklearn\n",
        "import numpy\n",
        "import spacy\n",
        "from collections import Counter\n",
        "import pickle\n",
        "import sys\n",
        "from sklearn.linear_model import LogisticRegression\n",
        "from sklearn.metrics import classification_report\n",
        "\n",
        "#Besides modules, I will also import some functions written by me from my functions.py file\n",
        "from functions import predict_new, predict2, model_analysis2, fivegram_pos_extractor_from_sentence\n",
        "\n",
        "print(pandas.__version__)\n",
        "print(sklearn.__version__)\n",
        "print(numpy.__version__)"
      ]
    },
    {
      "cell_type": "code",
      "source": [
        "# Small Russian model:\n",
        "# !python -m spacy download ru_core_news_sm\n",
        "# nlp = spacy.load('ru_core_news_sm')\n",
        "\n",
        "# Large Russian model:\n",
        "!python -m spacy download ru_core_news_lg\n",
        "nlp = spacy.load('ru_core_news_lg')"
      ],
      "metadata": {
        "colab": {
          "base_uri": "https://localhost:8080/"
        },
        "id": "bO5wMjnTswS7",
        "outputId": "327821e8-a6b9-4d14-8b0a-32ac0c4b8438"
      },
      "execution_count": 12,
      "outputs": [
        {
          "output_type": "stream",
          "name": "stdout",
          "text": [
            "Collecting ru-core-news-lg==3.7.0\n",
            "  Downloading https://github.com/explosion/spacy-models/releases/download/ru_core_news_lg-3.7.0/ru_core_news_lg-3.7.0-py3-none-any.whl (513.4 MB)\n",
            "\u001b[2K     \u001b[90m━━━━━━━━━━━━━━━━━━━━━━━━━━━━━━━━━━━━━━━━\u001b[0m \u001b[32m513.4/513.4 MB\u001b[0m \u001b[31m1.2 MB/s\u001b[0m eta \u001b[36m0:00:00\u001b[0m\n",
            "\u001b[?25hRequirement already satisfied: spacy<3.8.0,>=3.7.0 in /usr/local/lib/python3.10/dist-packages (from ru-core-news-lg==3.7.0) (3.7.5)\n",
            "Requirement already satisfied: pymorphy3>=1.0.0 in /usr/local/lib/python3.10/dist-packages (from ru-core-news-lg==3.7.0) (2.0.2)\n",
            "Requirement already satisfied: dawg-python>=0.7.1 in /usr/local/lib/python3.10/dist-packages (from pymorphy3>=1.0.0->ru-core-news-lg==3.7.0) (0.7.2)\n",
            "Requirement already satisfied: pymorphy3-dicts-ru in /usr/local/lib/python3.10/dist-packages (from pymorphy3>=1.0.0->ru-core-news-lg==3.7.0) (2.4.417150.4580142)\n",
            "Requirement already satisfied: spacy-legacy<3.1.0,>=3.0.11 in /usr/local/lib/python3.10/dist-packages (from spacy<3.8.0,>=3.7.0->ru-core-news-lg==3.7.0) (3.0.12)\n",
            "Requirement already satisfied: spacy-loggers<2.0.0,>=1.0.0 in /usr/local/lib/python3.10/dist-packages (from spacy<3.8.0,>=3.7.0->ru-core-news-lg==3.7.0) (1.0.5)\n",
            "Requirement already satisfied: murmurhash<1.1.0,>=0.28.0 in /usr/local/lib/python3.10/dist-packages (from spacy<3.8.0,>=3.7.0->ru-core-news-lg==3.7.0) (1.0.10)\n",
            "Requirement already satisfied: cymem<2.1.0,>=2.0.2 in /usr/local/lib/python3.10/dist-packages (from spacy<3.8.0,>=3.7.0->ru-core-news-lg==3.7.0) (2.0.8)\n",
            "Requirement already satisfied: preshed<3.1.0,>=3.0.2 in /usr/local/lib/python3.10/dist-packages (from spacy<3.8.0,>=3.7.0->ru-core-news-lg==3.7.0) (3.0.9)\n",
            "Requirement already satisfied: thinc<8.3.0,>=8.2.2 in /usr/local/lib/python3.10/dist-packages (from spacy<3.8.0,>=3.7.0->ru-core-news-lg==3.7.0) (8.2.5)\n",
            "Requirement already satisfied: wasabi<1.2.0,>=0.9.1 in /usr/local/lib/python3.10/dist-packages (from spacy<3.8.0,>=3.7.0->ru-core-news-lg==3.7.0) (1.1.3)\n",
            "Requirement already satisfied: srsly<3.0.0,>=2.4.3 in /usr/local/lib/python3.10/dist-packages (from spacy<3.8.0,>=3.7.0->ru-core-news-lg==3.7.0) (2.4.8)\n",
            "Requirement already satisfied: catalogue<2.1.0,>=2.0.6 in /usr/local/lib/python3.10/dist-packages (from spacy<3.8.0,>=3.7.0->ru-core-news-lg==3.7.0) (2.0.10)\n",
            "Requirement already satisfied: weasel<0.5.0,>=0.1.0 in /usr/local/lib/python3.10/dist-packages (from spacy<3.8.0,>=3.7.0->ru-core-news-lg==3.7.0) (0.4.1)\n",
            "Requirement already satisfied: typer<1.0.0,>=0.3.0 in /usr/local/lib/python3.10/dist-packages (from spacy<3.8.0,>=3.7.0->ru-core-news-lg==3.7.0) (0.12.3)\n",
            "Requirement already satisfied: tqdm<5.0.0,>=4.38.0 in /usr/local/lib/python3.10/dist-packages (from spacy<3.8.0,>=3.7.0->ru-core-news-lg==3.7.0) (4.66.4)\n",
            "Requirement already satisfied: requests<3.0.0,>=2.13.0 in /usr/local/lib/python3.10/dist-packages (from spacy<3.8.0,>=3.7.0->ru-core-news-lg==3.7.0) (2.31.0)\n",
            "Requirement already satisfied: pydantic!=1.8,!=1.8.1,<3.0.0,>=1.7.4 in /usr/local/lib/python3.10/dist-packages (from spacy<3.8.0,>=3.7.0->ru-core-news-lg==3.7.0) (2.8.0)\n",
            "Requirement already satisfied: jinja2 in /usr/local/lib/python3.10/dist-packages (from spacy<3.8.0,>=3.7.0->ru-core-news-lg==3.7.0) (3.1.4)\n",
            "Requirement already satisfied: setuptools in /usr/local/lib/python3.10/dist-packages (from spacy<3.8.0,>=3.7.0->ru-core-news-lg==3.7.0) (67.7.2)\n",
            "Requirement already satisfied: packaging>=20.0 in /usr/local/lib/python3.10/dist-packages (from spacy<3.8.0,>=3.7.0->ru-core-news-lg==3.7.0) (24.1)\n",
            "Requirement already satisfied: langcodes<4.0.0,>=3.2.0 in /usr/local/lib/python3.10/dist-packages (from spacy<3.8.0,>=3.7.0->ru-core-news-lg==3.7.0) (3.4.0)\n",
            "Requirement already satisfied: numpy>=1.19.0 in /usr/local/lib/python3.10/dist-packages (from spacy<3.8.0,>=3.7.0->ru-core-news-lg==3.7.0) (1.25.2)\n",
            "Requirement already satisfied: language-data>=1.2 in /usr/local/lib/python3.10/dist-packages (from langcodes<4.0.0,>=3.2.0->spacy<3.8.0,>=3.7.0->ru-core-news-lg==3.7.0) (1.2.0)\n",
            "Requirement already satisfied: annotated-types>=0.4.0 in /usr/local/lib/python3.10/dist-packages (from pydantic!=1.8,!=1.8.1,<3.0.0,>=1.7.4->spacy<3.8.0,>=3.7.0->ru-core-news-lg==3.7.0) (0.7.0)\n",
            "Requirement already satisfied: pydantic-core==2.20.0 in /usr/local/lib/python3.10/dist-packages (from pydantic!=1.8,!=1.8.1,<3.0.0,>=1.7.4->spacy<3.8.0,>=3.7.0->ru-core-news-lg==3.7.0) (2.20.0)\n",
            "Requirement already satisfied: typing-extensions>=4.6.1 in /usr/local/lib/python3.10/dist-packages (from pydantic!=1.8,!=1.8.1,<3.0.0,>=1.7.4->spacy<3.8.0,>=3.7.0->ru-core-news-lg==3.7.0) (4.12.2)\n",
            "Requirement already satisfied: charset-normalizer<4,>=2 in /usr/local/lib/python3.10/dist-packages (from requests<3.0.0,>=2.13.0->spacy<3.8.0,>=3.7.0->ru-core-news-lg==3.7.0) (3.3.2)\n",
            "Requirement already satisfied: idna<4,>=2.5 in /usr/local/lib/python3.10/dist-packages (from requests<3.0.0,>=2.13.0->spacy<3.8.0,>=3.7.0->ru-core-news-lg==3.7.0) (3.7)\n",
            "Requirement already satisfied: urllib3<3,>=1.21.1 in /usr/local/lib/python3.10/dist-packages (from requests<3.0.0,>=2.13.0->spacy<3.8.0,>=3.7.0->ru-core-news-lg==3.7.0) (2.0.7)\n",
            "Requirement already satisfied: certifi>=2017.4.17 in /usr/local/lib/python3.10/dist-packages (from requests<3.0.0,>=2.13.0->spacy<3.8.0,>=3.7.0->ru-core-news-lg==3.7.0) (2024.6.2)\n",
            "Requirement already satisfied: blis<0.8.0,>=0.7.8 in /usr/local/lib/python3.10/dist-packages (from thinc<8.3.0,>=8.2.2->spacy<3.8.0,>=3.7.0->ru-core-news-lg==3.7.0) (0.7.11)\n",
            "Requirement already satisfied: confection<1.0.0,>=0.0.1 in /usr/local/lib/python3.10/dist-packages (from thinc<8.3.0,>=8.2.2->spacy<3.8.0,>=3.7.0->ru-core-news-lg==3.7.0) (0.1.5)\n",
            "Requirement already satisfied: click>=8.0.0 in /usr/local/lib/python3.10/dist-packages (from typer<1.0.0,>=0.3.0->spacy<3.8.0,>=3.7.0->ru-core-news-lg==3.7.0) (8.1.7)\n",
            "Requirement already satisfied: shellingham>=1.3.0 in /usr/local/lib/python3.10/dist-packages (from typer<1.0.0,>=0.3.0->spacy<3.8.0,>=3.7.0->ru-core-news-lg==3.7.0) (1.5.4)\n",
            "Requirement already satisfied: rich>=10.11.0 in /usr/local/lib/python3.10/dist-packages (from typer<1.0.0,>=0.3.0->spacy<3.8.0,>=3.7.0->ru-core-news-lg==3.7.0) (13.7.1)\n",
            "Requirement already satisfied: cloudpathlib<1.0.0,>=0.7.0 in /usr/local/lib/python3.10/dist-packages (from weasel<0.5.0,>=0.1.0->spacy<3.8.0,>=3.7.0->ru-core-news-lg==3.7.0) (0.18.1)\n",
            "Requirement already satisfied: smart-open<8.0.0,>=5.2.1 in /usr/local/lib/python3.10/dist-packages (from weasel<0.5.0,>=0.1.0->spacy<3.8.0,>=3.7.0->ru-core-news-lg==3.7.0) (7.0.4)\n",
            "Requirement already satisfied: MarkupSafe>=2.0 in /usr/local/lib/python3.10/dist-packages (from jinja2->spacy<3.8.0,>=3.7.0->ru-core-news-lg==3.7.0) (2.1.5)\n",
            "Requirement already satisfied: marisa-trie>=0.7.7 in /usr/local/lib/python3.10/dist-packages (from language-data>=1.2->langcodes<4.0.0,>=3.2.0->spacy<3.8.0,>=3.7.0->ru-core-news-lg==3.7.0) (1.2.0)\n",
            "Requirement already satisfied: markdown-it-py>=2.2.0 in /usr/local/lib/python3.10/dist-packages (from rich>=10.11.0->typer<1.0.0,>=0.3.0->spacy<3.8.0,>=3.7.0->ru-core-news-lg==3.7.0) (3.0.0)\n",
            "Requirement already satisfied: pygments<3.0.0,>=2.13.0 in /usr/local/lib/python3.10/dist-packages (from rich>=10.11.0->typer<1.0.0,>=0.3.0->spacy<3.8.0,>=3.7.0->ru-core-news-lg==3.7.0) (2.16.1)\n",
            "Requirement already satisfied: wrapt in /usr/local/lib/python3.10/dist-packages (from smart-open<8.0.0,>=5.2.1->weasel<0.5.0,>=0.1.0->spacy<3.8.0,>=3.7.0->ru-core-news-lg==3.7.0) (1.14.1)\n",
            "Requirement already satisfied: mdurl~=0.1 in /usr/local/lib/python3.10/dist-packages (from markdown-it-py>=2.2.0->rich>=10.11.0->typer<1.0.0,>=0.3.0->spacy<3.8.0,>=3.7.0->ru-core-news-lg==3.7.0) (0.1.2)\n",
            "\u001b[38;5;2m✔ Download and installation successful\u001b[0m\n",
            "You can now load the package via spacy.load('ru_core_news_lg')\n",
            "\u001b[38;5;3m⚠ Restart to reload dependencies\u001b[0m\n",
            "If you are in a Jupyter or Colab notebook, you may need to restart Python in\n",
            "order to load all the package's dependencies. You can do this by selecting the\n",
            "'Restart kernel' or 'Restart runtime' option.\n"
          ]
        }
      ]
    },
    {
      "cell_type": "markdown",
      "source": [
        "## Making lists from csv files"
      ],
      "metadata": {
        "id": "q6JG9oWjs950"
      }
    },
    {
      "cell_type": "code",
      "source": [
        "# Let's load the training data from a csv file\n",
        "train_set = pandas.read_csv('./train_data_2024.csv', encoding='utf-8')\n",
        "train_set.head()"
      ],
      "metadata": {
        "id": "oPaYcgf4s1Wy",
        "colab": {
          "base_uri": "https://localhost:8080/",
          "height": 206
        },
        "outputId": "c114ce86-fcd8-4a96-a1f5-01f06da4ffc7"
      },
      "execution_count": 13,
      "outputs": [
        {
          "output_type": "execute_result",
          "data": {
            "text/plain": [
              "                                                text      author\n",
              "0  Он старался не развлекаться и не портить себе ...     Tolstoy\n",
              "1         Всегда этак у меня перед припадком бывает.     Chekhov\n",
              "2  Катерина Николаевна тут же и.   отказала ему, ...  Dostoevsky\n",
              "3                                    Анна Андреевна.       Gogol\n",
              "4  — То, что я видел сейчас, хуже всякой простуды...     Chekhov"
            ],
            "text/html": [
              "\n",
              "  <div id=\"df-f93a7226-10f1-42ce-8f5c-46db18582d1b\" class=\"colab-df-container\">\n",
              "    <div>\n",
              "<style scoped>\n",
              "    .dataframe tbody tr th:only-of-type {\n",
              "        vertical-align: middle;\n",
              "    }\n",
              "\n",
              "    .dataframe tbody tr th {\n",
              "        vertical-align: top;\n",
              "    }\n",
              "\n",
              "    .dataframe thead th {\n",
              "        text-align: right;\n",
              "    }\n",
              "</style>\n",
              "<table border=\"1\" class=\"dataframe\">\n",
              "  <thead>\n",
              "    <tr style=\"text-align: right;\">\n",
              "      <th></th>\n",
              "      <th>text</th>\n",
              "      <th>author</th>\n",
              "    </tr>\n",
              "  </thead>\n",
              "  <tbody>\n",
              "    <tr>\n",
              "      <th>0</th>\n",
              "      <td>Он старался не развлекаться и не портить себе ...</td>\n",
              "      <td>Tolstoy</td>\n",
              "    </tr>\n",
              "    <tr>\n",
              "      <th>1</th>\n",
              "      <td>Всегда этак у меня перед припадком бывает.</td>\n",
              "      <td>Chekhov</td>\n",
              "    </tr>\n",
              "    <tr>\n",
              "      <th>2</th>\n",
              "      <td>Катерина Николаевна тут же и.   отказала ему, ...</td>\n",
              "      <td>Dostoevsky</td>\n",
              "    </tr>\n",
              "    <tr>\n",
              "      <th>3</th>\n",
              "      <td>Анна Андреевна.</td>\n",
              "      <td>Gogol</td>\n",
              "    </tr>\n",
              "    <tr>\n",
              "      <th>4</th>\n",
              "      <td>— То, что я видел сейчас, хуже всякой простуды...</td>\n",
              "      <td>Chekhov</td>\n",
              "    </tr>\n",
              "  </tbody>\n",
              "</table>\n",
              "</div>\n",
              "    <div class=\"colab-df-buttons\">\n",
              "\n",
              "  <div class=\"colab-df-container\">\n",
              "    <button class=\"colab-df-convert\" onclick=\"convertToInteractive('df-f93a7226-10f1-42ce-8f5c-46db18582d1b')\"\n",
              "            title=\"Convert this dataframe to an interactive table.\"\n",
              "            style=\"display:none;\">\n",
              "\n",
              "  <svg xmlns=\"http://www.w3.org/2000/svg\" height=\"24px\" viewBox=\"0 -960 960 960\">\n",
              "    <path d=\"M120-120v-720h720v720H120Zm60-500h600v-160H180v160Zm220 220h160v-160H400v160Zm0 220h160v-160H400v160ZM180-400h160v-160H180v160Zm440 0h160v-160H620v160ZM180-180h160v-160H180v160Zm440 0h160v-160H620v160Z\"/>\n",
              "  </svg>\n",
              "    </button>\n",
              "\n",
              "  <style>\n",
              "    .colab-df-container {\n",
              "      display:flex;\n",
              "      gap: 12px;\n",
              "    }\n",
              "\n",
              "    .colab-df-convert {\n",
              "      background-color: #E8F0FE;\n",
              "      border: none;\n",
              "      border-radius: 50%;\n",
              "      cursor: pointer;\n",
              "      display: none;\n",
              "      fill: #1967D2;\n",
              "      height: 32px;\n",
              "      padding: 0 0 0 0;\n",
              "      width: 32px;\n",
              "    }\n",
              "\n",
              "    .colab-df-convert:hover {\n",
              "      background-color: #E2EBFA;\n",
              "      box-shadow: 0px 1px 2px rgba(60, 64, 67, 0.3), 0px 1px 3px 1px rgba(60, 64, 67, 0.15);\n",
              "      fill: #174EA6;\n",
              "    }\n",
              "\n",
              "    .colab-df-buttons div {\n",
              "      margin-bottom: 4px;\n",
              "    }\n",
              "\n",
              "    [theme=dark] .colab-df-convert {\n",
              "      background-color: #3B4455;\n",
              "      fill: #D2E3FC;\n",
              "    }\n",
              "\n",
              "    [theme=dark] .colab-df-convert:hover {\n",
              "      background-color: #434B5C;\n",
              "      box-shadow: 0px 1px 3px 1px rgba(0, 0, 0, 0.15);\n",
              "      filter: drop-shadow(0px 1px 2px rgba(0, 0, 0, 0.3));\n",
              "      fill: #FFFFFF;\n",
              "    }\n",
              "  </style>\n",
              "\n",
              "    <script>\n",
              "      const buttonEl =\n",
              "        document.querySelector('#df-f93a7226-10f1-42ce-8f5c-46db18582d1b button.colab-df-convert');\n",
              "      buttonEl.style.display =\n",
              "        google.colab.kernel.accessAllowed ? 'block' : 'none';\n",
              "\n",
              "      async function convertToInteractive(key) {\n",
              "        const element = document.querySelector('#df-f93a7226-10f1-42ce-8f5c-46db18582d1b');\n",
              "        const dataTable =\n",
              "          await google.colab.kernel.invokeFunction('convertToInteractive',\n",
              "                                                    [key], {});\n",
              "        if (!dataTable) return;\n",
              "\n",
              "        const docLinkHtml = 'Like what you see? Visit the ' +\n",
              "          '<a target=\"_blank\" href=https://colab.research.google.com/notebooks/data_table.ipynb>data table notebook</a>'\n",
              "          + ' to learn more about interactive tables.';\n",
              "        element.innerHTML = '';\n",
              "        dataTable['output_type'] = 'display_data';\n",
              "        await google.colab.output.renderOutput(dataTable, element);\n",
              "        const docLink = document.createElement('div');\n",
              "        docLink.innerHTML = docLinkHtml;\n",
              "        element.appendChild(docLink);\n",
              "      }\n",
              "    </script>\n",
              "  </div>\n",
              "\n",
              "\n",
              "<div id=\"df-ef3ab5a3-94b6-4f61-bcee-b69d0320bf6d\">\n",
              "  <button class=\"colab-df-quickchart\" onclick=\"quickchart('df-ef3ab5a3-94b6-4f61-bcee-b69d0320bf6d')\"\n",
              "            title=\"Suggest charts\"\n",
              "            style=\"display:none;\">\n",
              "\n",
              "<svg xmlns=\"http://www.w3.org/2000/svg\" height=\"24px\"viewBox=\"0 0 24 24\"\n",
              "     width=\"24px\">\n",
              "    <g>\n",
              "        <path d=\"M19 3H5c-1.1 0-2 .9-2 2v14c0 1.1.9 2 2 2h14c1.1 0 2-.9 2-2V5c0-1.1-.9-2-2-2zM9 17H7v-7h2v7zm4 0h-2V7h2v10zm4 0h-2v-4h2v4z\"/>\n",
              "    </g>\n",
              "</svg>\n",
              "  </button>\n",
              "\n",
              "<style>\n",
              "  .colab-df-quickchart {\n",
              "      --bg-color: #E8F0FE;\n",
              "      --fill-color: #1967D2;\n",
              "      --hover-bg-color: #E2EBFA;\n",
              "      --hover-fill-color: #174EA6;\n",
              "      --disabled-fill-color: #AAA;\n",
              "      --disabled-bg-color: #DDD;\n",
              "  }\n",
              "\n",
              "  [theme=dark] .colab-df-quickchart {\n",
              "      --bg-color: #3B4455;\n",
              "      --fill-color: #D2E3FC;\n",
              "      --hover-bg-color: #434B5C;\n",
              "      --hover-fill-color: #FFFFFF;\n",
              "      --disabled-bg-color: #3B4455;\n",
              "      --disabled-fill-color: #666;\n",
              "  }\n",
              "\n",
              "  .colab-df-quickchart {\n",
              "    background-color: var(--bg-color);\n",
              "    border: none;\n",
              "    border-radius: 50%;\n",
              "    cursor: pointer;\n",
              "    display: none;\n",
              "    fill: var(--fill-color);\n",
              "    height: 32px;\n",
              "    padding: 0;\n",
              "    width: 32px;\n",
              "  }\n",
              "\n",
              "  .colab-df-quickchart:hover {\n",
              "    background-color: var(--hover-bg-color);\n",
              "    box-shadow: 0 1px 2px rgba(60, 64, 67, 0.3), 0 1px 3px 1px rgba(60, 64, 67, 0.15);\n",
              "    fill: var(--button-hover-fill-color);\n",
              "  }\n",
              "\n",
              "  .colab-df-quickchart-complete:disabled,\n",
              "  .colab-df-quickchart-complete:disabled:hover {\n",
              "    background-color: var(--disabled-bg-color);\n",
              "    fill: var(--disabled-fill-color);\n",
              "    box-shadow: none;\n",
              "  }\n",
              "\n",
              "  .colab-df-spinner {\n",
              "    border: 2px solid var(--fill-color);\n",
              "    border-color: transparent;\n",
              "    border-bottom-color: var(--fill-color);\n",
              "    animation:\n",
              "      spin 1s steps(1) infinite;\n",
              "  }\n",
              "\n",
              "  @keyframes spin {\n",
              "    0% {\n",
              "      border-color: transparent;\n",
              "      border-bottom-color: var(--fill-color);\n",
              "      border-left-color: var(--fill-color);\n",
              "    }\n",
              "    20% {\n",
              "      border-color: transparent;\n",
              "      border-left-color: var(--fill-color);\n",
              "      border-top-color: var(--fill-color);\n",
              "    }\n",
              "    30% {\n",
              "      border-color: transparent;\n",
              "      border-left-color: var(--fill-color);\n",
              "      border-top-color: var(--fill-color);\n",
              "      border-right-color: var(--fill-color);\n",
              "    }\n",
              "    40% {\n",
              "      border-color: transparent;\n",
              "      border-right-color: var(--fill-color);\n",
              "      border-top-color: var(--fill-color);\n",
              "    }\n",
              "    60% {\n",
              "      border-color: transparent;\n",
              "      border-right-color: var(--fill-color);\n",
              "    }\n",
              "    80% {\n",
              "      border-color: transparent;\n",
              "      border-right-color: var(--fill-color);\n",
              "      border-bottom-color: var(--fill-color);\n",
              "    }\n",
              "    90% {\n",
              "      border-color: transparent;\n",
              "      border-bottom-color: var(--fill-color);\n",
              "    }\n",
              "  }\n",
              "</style>\n",
              "\n",
              "  <script>\n",
              "    async function quickchart(key) {\n",
              "      const quickchartButtonEl =\n",
              "        document.querySelector('#' + key + ' button');\n",
              "      quickchartButtonEl.disabled = true;  // To prevent multiple clicks.\n",
              "      quickchartButtonEl.classList.add('colab-df-spinner');\n",
              "      try {\n",
              "        const charts = await google.colab.kernel.invokeFunction(\n",
              "            'suggestCharts', [key], {});\n",
              "      } catch (error) {\n",
              "        console.error('Error during call to suggestCharts:', error);\n",
              "      }\n",
              "      quickchartButtonEl.classList.remove('colab-df-spinner');\n",
              "      quickchartButtonEl.classList.add('colab-df-quickchart-complete');\n",
              "    }\n",
              "    (() => {\n",
              "      let quickchartButtonEl =\n",
              "        document.querySelector('#df-ef3ab5a3-94b6-4f61-bcee-b69d0320bf6d button');\n",
              "      quickchartButtonEl.style.display =\n",
              "        google.colab.kernel.accessAllowed ? 'block' : 'none';\n",
              "    })();\n",
              "  </script>\n",
              "</div>\n",
              "    </div>\n",
              "  </div>\n"
            ],
            "application/vnd.google.colaboratory.intrinsic+json": {
              "type": "dataframe",
              "variable_name": "train_set",
              "summary": "{\n  \"name\": \"train_set\",\n  \"rows\": 10000,\n  \"fields\": [\n    {\n      \"column\": \"text\",\n      \"properties\": {\n        \"dtype\": \"string\",\n        \"num_unique_values\": 9852,\n        \"samples\": [\n          \"\\u041f\\u043e\\u0441\\u043b\\u044b\\u0448\\u0430\\u043b\\u0441\\u044f \\u043e\\u0434\\u0438\\u043d \\u0433\\u043e\\u043b\\u043e\\u0441: \\u00ab\\u0421\\u043c\\u0438\\u0440\\u043d\\u043e!\\u00bb \\u041f\\u043e\\u0442\\u043e\\u043c, \\u043a\\u0430\\u043a \\u043f\\u0435\\u0442\\u0443\\u0445\\u0438 \\u043d\\u0430 \\u0437\\u0430\\u0440\\u0435, \\u043f\\u043e\\u0432\\u0442\\u043e\\u0440\\u0438\\u043b\\u0438\\u0441\\u044c \\u0433\\u043e\\u043b\\u043e\\u0441\\u0430 \\u0432 \\u0440\\u0430\\u0437\\u043d\\u044b\\u0445 \\u043a\\u043e\\u043d\\u0446\\u0430\\u0445.\",\n          \"\\u041d\\u0430 \\u0441\\u0435\\u0431\\u044f \\u0442\\u043e\\u043b\\u044c\\u043a\\u043e \\u043f\\u0440\\u0438\\u043d\\u0438\\u043c\\u0430\\u043b \\u043e\\u043d \\u0442\\u0440\\u0443\\u0434 \\u0436\\u0435\\u0432\\u0430\\u0442\\u044c \\u0438 \\u043f\\u0440\\u043e\\u0433\\u043b\\u0430\\u0442\\u044b\\u0432\\u0430\\u0442\\u044c.. \\u00ab\\u0412\\u0438\\u0448\\u044c, \\u043a\\u0430\\u043a\\u043e\\u0435 \\u0434\\u0438\\u0432\\u043e!\\u00bb \\u2014 \\u043f\\u043e\\u0434\\u0443\\u043c\\u0430\\u043b \\u043a\\u0443\\u0437\\u043d\\u0435\\u0446, \\u0440\\u0430\\u0437\\u0438\\u043d\\u0443\\u0432 \\u043e\\u0442 \\u0443\\u0434\\u0438\\u0432\\u043b\\u0435\\u043d\\u0438\\u044f \\u0440\\u043e\\u0442, \\u0438 \\u0442\\u043e\\u0442 \\u0436\\u0435 \\u0447\\u0430\\u0441 \\u0437\\u0430\\u043c\\u0435\\u0442\\u0438\\u043b, \\u0447\\u0442\\u043e \\u0432\\u0430\\u0440\\u0435\\u043d\\u0438\\u043a \\u043b\\u0435\\u0437\\u0435\\u0442 \\u0438 \\u043a \\u043d\\u0435\\u043c\\u0443 \\u0432 \\u0440\\u043e\\u0442, \\u0438 \\u0443\\u0436\\u0435 \\u0432\\u044b\\u043c\\u0430\\u0437\\u0430\\u043b \\u0433\\u0443\\u0431\\u044b \\u0441\\u043c\\u0435\\u0442\\u0430\\u043d\\u043e\\u044e.\",\n          \"\\u041e\\u0434\\u0438\\u043d \\u0438\\u0437 \\u043d\\u0438\\u0445 \\u0432\\u044b\\u0441\\u0442\\u0440\\u0435\\u043b\\u0438\\u043b \\u043f\\u043e \\u0446\\u0435\\u043f\\u0438.\"\n        ],\n        \"semantic_type\": \"\",\n        \"description\": \"\"\n      }\n    },\n    {\n      \"column\": \"author\",\n      \"properties\": {\n        \"dtype\": \"category\",\n        \"num_unique_values\": 4,\n        \"samples\": [\n          \"Chekhov\",\n          \"Gogol\",\n          \"Tolstoy\"\n        ],\n        \"semantic_type\": \"\",\n        \"description\": \"\"\n      }\n    }\n  ]\n}"
            }
          },
          "metadata": {},
          "execution_count": 13
        }
      ]
    },
    {
      "cell_type": "code",
      "source": [
        "test_set = pandas.read_csv('./test_data_2024.csv', encoding='utf-8')\n",
        "test_set.head()"
      ],
      "metadata": {
        "id": "2njbKY6ttCpd",
        "colab": {
          "base_uri": "https://localhost:8080/",
          "height": 206
        },
        "outputId": "d0b2c2b3-fc9e-4ede-d014-6ef46049657f"
      },
      "execution_count": 14,
      "outputs": [
        {
          "output_type": "execute_result",
          "data": {
            "text/plain": [
              "                                                text   author\n",
              "0  — Это мы понимаем… Мы ведь не все отвинчиваем…...  Chekhov\n",
              "1                                          Да что я?    Gogol\n",
              "2  Я думаю, у меня горло замерзло от проклятого м...    Gogol\n",
              "3  На деда, несмотря на весь страх, смех напал, к...    Gogol\n",
              "4  Действительно, влияние товарищей оказало на не...  Tolstoy"
            ],
            "text/html": [
              "\n",
              "  <div id=\"df-b7c8d3c6-8c95-4388-a29d-e4df30f57894\" class=\"colab-df-container\">\n",
              "    <div>\n",
              "<style scoped>\n",
              "    .dataframe tbody tr th:only-of-type {\n",
              "        vertical-align: middle;\n",
              "    }\n",
              "\n",
              "    .dataframe tbody tr th {\n",
              "        vertical-align: top;\n",
              "    }\n",
              "\n",
              "    .dataframe thead th {\n",
              "        text-align: right;\n",
              "    }\n",
              "</style>\n",
              "<table border=\"1\" class=\"dataframe\">\n",
              "  <thead>\n",
              "    <tr style=\"text-align: right;\">\n",
              "      <th></th>\n",
              "      <th>text</th>\n",
              "      <th>author</th>\n",
              "    </tr>\n",
              "  </thead>\n",
              "  <tbody>\n",
              "    <tr>\n",
              "      <th>0</th>\n",
              "      <td>— Это мы понимаем… Мы ведь не все отвинчиваем…...</td>\n",
              "      <td>Chekhov</td>\n",
              "    </tr>\n",
              "    <tr>\n",
              "      <th>1</th>\n",
              "      <td>Да что я?</td>\n",
              "      <td>Gogol</td>\n",
              "    </tr>\n",
              "    <tr>\n",
              "      <th>2</th>\n",
              "      <td>Я думаю, у меня горло замерзло от проклятого м...</td>\n",
              "      <td>Gogol</td>\n",
              "    </tr>\n",
              "    <tr>\n",
              "      <th>3</th>\n",
              "      <td>На деда, несмотря на весь страх, смех напал, к...</td>\n",
              "      <td>Gogol</td>\n",
              "    </tr>\n",
              "    <tr>\n",
              "      <th>4</th>\n",
              "      <td>Действительно, влияние товарищей оказало на не...</td>\n",
              "      <td>Tolstoy</td>\n",
              "    </tr>\n",
              "  </tbody>\n",
              "</table>\n",
              "</div>\n",
              "    <div class=\"colab-df-buttons\">\n",
              "\n",
              "  <div class=\"colab-df-container\">\n",
              "    <button class=\"colab-df-convert\" onclick=\"convertToInteractive('df-b7c8d3c6-8c95-4388-a29d-e4df30f57894')\"\n",
              "            title=\"Convert this dataframe to an interactive table.\"\n",
              "            style=\"display:none;\">\n",
              "\n",
              "  <svg xmlns=\"http://www.w3.org/2000/svg\" height=\"24px\" viewBox=\"0 -960 960 960\">\n",
              "    <path d=\"M120-120v-720h720v720H120Zm60-500h600v-160H180v160Zm220 220h160v-160H400v160Zm0 220h160v-160H400v160ZM180-400h160v-160H180v160Zm440 0h160v-160H620v160ZM180-180h160v-160H180v160Zm440 0h160v-160H620v160Z\"/>\n",
              "  </svg>\n",
              "    </button>\n",
              "\n",
              "  <style>\n",
              "    .colab-df-container {\n",
              "      display:flex;\n",
              "      gap: 12px;\n",
              "    }\n",
              "\n",
              "    .colab-df-convert {\n",
              "      background-color: #E8F0FE;\n",
              "      border: none;\n",
              "      border-radius: 50%;\n",
              "      cursor: pointer;\n",
              "      display: none;\n",
              "      fill: #1967D2;\n",
              "      height: 32px;\n",
              "      padding: 0 0 0 0;\n",
              "      width: 32px;\n",
              "    }\n",
              "\n",
              "    .colab-df-convert:hover {\n",
              "      background-color: #E2EBFA;\n",
              "      box-shadow: 0px 1px 2px rgba(60, 64, 67, 0.3), 0px 1px 3px 1px rgba(60, 64, 67, 0.15);\n",
              "      fill: #174EA6;\n",
              "    }\n",
              "\n",
              "    .colab-df-buttons div {\n",
              "      margin-bottom: 4px;\n",
              "    }\n",
              "\n",
              "    [theme=dark] .colab-df-convert {\n",
              "      background-color: #3B4455;\n",
              "      fill: #D2E3FC;\n",
              "    }\n",
              "\n",
              "    [theme=dark] .colab-df-convert:hover {\n",
              "      background-color: #434B5C;\n",
              "      box-shadow: 0px 1px 3px 1px rgba(0, 0, 0, 0.15);\n",
              "      filter: drop-shadow(0px 1px 2px rgba(0, 0, 0, 0.3));\n",
              "      fill: #FFFFFF;\n",
              "    }\n",
              "  </style>\n",
              "\n",
              "    <script>\n",
              "      const buttonEl =\n",
              "        document.querySelector('#df-b7c8d3c6-8c95-4388-a29d-e4df30f57894 button.colab-df-convert');\n",
              "      buttonEl.style.display =\n",
              "        google.colab.kernel.accessAllowed ? 'block' : 'none';\n",
              "\n",
              "      async function convertToInteractive(key) {\n",
              "        const element = document.querySelector('#df-b7c8d3c6-8c95-4388-a29d-e4df30f57894');\n",
              "        const dataTable =\n",
              "          await google.colab.kernel.invokeFunction('convertToInteractive',\n",
              "                                                    [key], {});\n",
              "        if (!dataTable) return;\n",
              "\n",
              "        const docLinkHtml = 'Like what you see? Visit the ' +\n",
              "          '<a target=\"_blank\" href=https://colab.research.google.com/notebooks/data_table.ipynb>data table notebook</a>'\n",
              "          + ' to learn more about interactive tables.';\n",
              "        element.innerHTML = '';\n",
              "        dataTable['output_type'] = 'display_data';\n",
              "        await google.colab.output.renderOutput(dataTable, element);\n",
              "        const docLink = document.createElement('div');\n",
              "        docLink.innerHTML = docLinkHtml;\n",
              "        element.appendChild(docLink);\n",
              "      }\n",
              "    </script>\n",
              "  </div>\n",
              "\n",
              "\n",
              "<div id=\"df-9a24edb2-0749-405f-bcb1-15292b2082b5\">\n",
              "  <button class=\"colab-df-quickchart\" onclick=\"quickchart('df-9a24edb2-0749-405f-bcb1-15292b2082b5')\"\n",
              "            title=\"Suggest charts\"\n",
              "            style=\"display:none;\">\n",
              "\n",
              "<svg xmlns=\"http://www.w3.org/2000/svg\" height=\"24px\"viewBox=\"0 0 24 24\"\n",
              "     width=\"24px\">\n",
              "    <g>\n",
              "        <path d=\"M19 3H5c-1.1 0-2 .9-2 2v14c0 1.1.9 2 2 2h14c1.1 0 2-.9 2-2V5c0-1.1-.9-2-2-2zM9 17H7v-7h2v7zm4 0h-2V7h2v10zm4 0h-2v-4h2v4z\"/>\n",
              "    </g>\n",
              "</svg>\n",
              "  </button>\n",
              "\n",
              "<style>\n",
              "  .colab-df-quickchart {\n",
              "      --bg-color: #E8F0FE;\n",
              "      --fill-color: #1967D2;\n",
              "      --hover-bg-color: #E2EBFA;\n",
              "      --hover-fill-color: #174EA6;\n",
              "      --disabled-fill-color: #AAA;\n",
              "      --disabled-bg-color: #DDD;\n",
              "  }\n",
              "\n",
              "  [theme=dark] .colab-df-quickchart {\n",
              "      --bg-color: #3B4455;\n",
              "      --fill-color: #D2E3FC;\n",
              "      --hover-bg-color: #434B5C;\n",
              "      --hover-fill-color: #FFFFFF;\n",
              "      --disabled-bg-color: #3B4455;\n",
              "      --disabled-fill-color: #666;\n",
              "  }\n",
              "\n",
              "  .colab-df-quickchart {\n",
              "    background-color: var(--bg-color);\n",
              "    border: none;\n",
              "    border-radius: 50%;\n",
              "    cursor: pointer;\n",
              "    display: none;\n",
              "    fill: var(--fill-color);\n",
              "    height: 32px;\n",
              "    padding: 0;\n",
              "    width: 32px;\n",
              "  }\n",
              "\n",
              "  .colab-df-quickchart:hover {\n",
              "    background-color: var(--hover-bg-color);\n",
              "    box-shadow: 0 1px 2px rgba(60, 64, 67, 0.3), 0 1px 3px 1px rgba(60, 64, 67, 0.15);\n",
              "    fill: var(--button-hover-fill-color);\n",
              "  }\n",
              "\n",
              "  .colab-df-quickchart-complete:disabled,\n",
              "  .colab-df-quickchart-complete:disabled:hover {\n",
              "    background-color: var(--disabled-bg-color);\n",
              "    fill: var(--disabled-fill-color);\n",
              "    box-shadow: none;\n",
              "  }\n",
              "\n",
              "  .colab-df-spinner {\n",
              "    border: 2px solid var(--fill-color);\n",
              "    border-color: transparent;\n",
              "    border-bottom-color: var(--fill-color);\n",
              "    animation:\n",
              "      spin 1s steps(1) infinite;\n",
              "  }\n",
              "\n",
              "  @keyframes spin {\n",
              "    0% {\n",
              "      border-color: transparent;\n",
              "      border-bottom-color: var(--fill-color);\n",
              "      border-left-color: var(--fill-color);\n",
              "    }\n",
              "    20% {\n",
              "      border-color: transparent;\n",
              "      border-left-color: var(--fill-color);\n",
              "      border-top-color: var(--fill-color);\n",
              "    }\n",
              "    30% {\n",
              "      border-color: transparent;\n",
              "      border-left-color: var(--fill-color);\n",
              "      border-top-color: var(--fill-color);\n",
              "      border-right-color: var(--fill-color);\n",
              "    }\n",
              "    40% {\n",
              "      border-color: transparent;\n",
              "      border-right-color: var(--fill-color);\n",
              "      border-top-color: var(--fill-color);\n",
              "    }\n",
              "    60% {\n",
              "      border-color: transparent;\n",
              "      border-right-color: var(--fill-color);\n",
              "    }\n",
              "    80% {\n",
              "      border-color: transparent;\n",
              "      border-right-color: var(--fill-color);\n",
              "      border-bottom-color: var(--fill-color);\n",
              "    }\n",
              "    90% {\n",
              "      border-color: transparent;\n",
              "      border-bottom-color: var(--fill-color);\n",
              "    }\n",
              "  }\n",
              "</style>\n",
              "\n",
              "  <script>\n",
              "    async function quickchart(key) {\n",
              "      const quickchartButtonEl =\n",
              "        document.querySelector('#' + key + ' button');\n",
              "      quickchartButtonEl.disabled = true;  // To prevent multiple clicks.\n",
              "      quickchartButtonEl.classList.add('colab-df-spinner');\n",
              "      try {\n",
              "        const charts = await google.colab.kernel.invokeFunction(\n",
              "            'suggestCharts', [key], {});\n",
              "      } catch (error) {\n",
              "        console.error('Error during call to suggestCharts:', error);\n",
              "      }\n",
              "      quickchartButtonEl.classList.remove('colab-df-spinner');\n",
              "      quickchartButtonEl.classList.add('colab-df-quickchart-complete');\n",
              "    }\n",
              "    (() => {\n",
              "      let quickchartButtonEl =\n",
              "        document.querySelector('#df-9a24edb2-0749-405f-bcb1-15292b2082b5 button');\n",
              "      quickchartButtonEl.style.display =\n",
              "        google.colab.kernel.accessAllowed ? 'block' : 'none';\n",
              "    })();\n",
              "  </script>\n",
              "</div>\n",
              "    </div>\n",
              "  </div>\n"
            ],
            "application/vnd.google.colaboratory.intrinsic+json": {
              "type": "dataframe",
              "variable_name": "test_set",
              "summary": "{\n  \"name\": \"test_set\",\n  \"rows\": 1000,\n  \"fields\": [\n    {\n      \"column\": \"text\",\n      \"properties\": {\n        \"dtype\": \"string\",\n        \"num_unique_values\": 993,\n        \"samples\": [\n          \"\\u041f\\u0440\\u0430\\u0432\\u0434\\u0430, \\u043f\\u043e\\u044d\\u0442\\u0438\\u0437\\u0438\\u0440\\u0443\\u044f \\u043b\\u044e\\u0431\\u043e\\u0432\\u044c, \\u043c\\u044b \\u043f\\u0440\\u0435\\u0434\\u043f\\u043e\\u043b\\u0430\\u0433\\u0430\\u0435\\u043c \\u0432 \\u0442\\u0435\\u0445, \\u043a\\u043e\\u0433\\u043e \\u043b\\u044e\\u0431\\u0438\\u043c, \\u0434\\u043e\\u0441\\u0442\\u043e\\u0438\\u043d\\u0441\\u0442\\u0432\\u0430, \\u043a\\u0430\\u043a\\u0438\\u0445 \\u0443 \\u043d\\u0438\\u0445 \\u0447\\u0430\\u0441\\u0442\\u043e \\u043d\\u0435 \\u0431\\u044b\\u0432\\u0430\\u0435\\u0442, \\u043d\\u0443, \\u0430 \\u044d\\u0442\\u043e \\u0441\\u043b\\u0443\\u0436\\u0438\\u0442 \\u0434\\u043b\\u044f \\u043d\\u0430\\u0441 \\u0438\\u0441\\u0442\\u043e\\u0447\\u043d\\u0438\\u043a\\u043e\\u043c \\u043f\\u043e\\u0441\\u0442\\u043e\\u044f\\u043d\\u043d\\u044b\\u0445 \\u043e\\u0448\\u0438\\u0431\\u043e\\u043a \\u0438 \\u043f\\u043e\\u0441\\u0442\\u043e\\u044f\\u043d\\u043d\\u044b\\u0445 \\u0441\\u0442\\u0440\\u0430\\u0434\\u0430\\u043d\\u0438\\u0439.\",\n          \"\\u041d\\u0430 \\u0432\\u0441\\u0435\\u0445 \\u043f\\u0435\\u0442\\u0435\\u0440\\u0431\\u0443\\u0440\\u0433\\u0441\\u043a\\u0438\\u0445 \\u0431\\u0430\\u0448\\u043d\\u044f\\u0445, \\u043f\\u043e\\u043a\\u0430\\u0437\\u044b\\u0432\\u0430\\u044e\\u0449\\u0438\\u0445 \\u0438 \\u0431\\u044c\\u044e\\u0449\\u0438\\u0445 \\u0447\\u0430\\u0441\\u044b, \\u043f\\u0440\\u043e\\u0431\\u0438\\u043b\\u043e \\u0440\\u043e\\u0432\\u043d\\u043e \\u043f\\u043e\\u043b\\u043d\\u043e\\u0447\\u044c, \\u043a\\u043e\\u0433\\u0434\\u0430 \\u0433\\u043e\\u0441\\u043f\\u043e\\u0434\\u0438\\u043d \\u0413\\u043e\\u043b\\u044f\\u0434\\u043a\\u0438\\u043d, \\u0432\\u043d\\u0435 \\u0441\\u0435\\u0431\\u044f, \\u0432\\u044b\\u0431\\u0435\\u0436\\u0430\\u043b \\u043d\\u0430 \\u043d\\u0430\\u0431\\u0435\\u0440\\u0435\\u0436\\u043d\\u0443\\u044e \\u0424\\u043e\\u043d\\u0442\\u0430\\u043d\\u043a\\u0438, \\u0431\\u043b\\u0438\\u0437 \\u0441\\u0430\\u043c\\u043e\\u0433\\u043e \\u0418\\u0437\\u043c\\u0430\\u0439\\u043b\\u043e\\u0432\\u0441\\u043a\\u043e\\u0433\\u043e \\u043c\\u043e\\u0441\\u0442\\u0430, \\u0441\\u043f\\u0430\\u0441\\u0430\\u044f\\u0441\\u044c \\u043e\\u0442 \\u0432\\u0440\\u0430\\u0433\\u043e\\u0432, \\u043e\\u0442 \\u043f\\u0440\\u0435\\u0441\\u043b\\u0435\\u0434\\u043e\\u0432\\u0430\\u043d\\u0438\\u0439, \\u043e\\u0442 \\u0433\\u0440\\u0430\\u0434\\u0430 \\u0449\\u0435\\u043b\\u0447\\u043a\\u043e\\u0432, \\u043d\\u0430 \\u043d\\u0435\\u0433\\u043e \\u0437\\u0430\\u043d\\u0435\\u0441\\u0435\\u043d\\u043d\\u044b\\u0445, \\u043e\\u0442 \\u043a\\u0440\\u0438\\u043a\\u0430 \\u0432\\u0441\\u0442\\u0440\\u0435\\u0432\\u043e\\u0436\\u0435\\u043d\\u043d\\u044b\\u0445 \\u0441\\u0442\\u0430\\u0440\\u0443\\u0445, \\u043e\\u0442 \\u043e\\u0445\\u0430\\u043d\\u044c\\u044f \\u0438 \\u0430\\u0445\\u0430\\u043d\\u044c\\u044f \\u0436\\u0435\\u043d\\u0449\\u0438\\u043d \\u0438 \\u043e\\u0442 \\u0443\\u0431\\u0438\\u0439\\u0441\\u0442\\u0432\\u0435\\u043d\\u043d\\u044b\\u0445 \\u0432\\u0437\\u0433\\u043b\\u044f\\u0434\\u043e\\u0432 \\u0410\\u043d\\u0434\\u0440\\u0435\\u044f \\u0424\\u0438\\u043b\\u0438\\u043f\\u043f\\u043e\\u0432\\u0438\\u0447\\u0430.\",\n          \"\\u0418\\u0437\\u0432\\u043e\\u043b\\u044c\\u0442\\u0435, \\u044f \\u0433\\u043e\\u0442\\u043e\\u0432 \\u043e\\u0442\\u0434\\u043e\\u0445\\u043d\\u0443\\u0442\\u044c.\"\n        ],\n        \"semantic_type\": \"\",\n        \"description\": \"\"\n      }\n    },\n    {\n      \"column\": \"author\",\n      \"properties\": {\n        \"dtype\": \"category\",\n        \"num_unique_values\": 4,\n        \"samples\": [\n          \"Gogol\",\n          \"Dostoevsky\",\n          \"Chekhov\"\n        ],\n        \"semantic_type\": \"\",\n        \"description\": \"\"\n      }\n    }\n  ]\n}"
            }
          },
          "metadata": {},
          "execution_count": 14
        }
      ]
    },
    {
      "cell_type": "code",
      "source": [
        "train_sentences = train_set['text'].to_list()\n",
        "train_authors = train_set['author'].to_list()\n",
        "\n",
        "test_sentences = test_set['text'].to_list()\n",
        "test_authors = test_set['author'].to_list()\n",
        "\n",
        "print(len(train_authors), len(test_authors))"
      ],
      "metadata": {
        "colab": {
          "base_uri": "https://localhost:8080/"
        },
        "id": "0Is_APxitErJ",
        "outputId": "a2aa898e-8dd4-42d1-b2d3-47ccde82129f"
      },
      "execution_count": 15,
      "outputs": [
        {
          "output_type": "stream",
          "name": "stdout",
          "text": [
            "10000 1000\n"
          ]
        }
      ]
    },
    {
      "cell_type": "markdown",
      "source": [
        "## Preparing the feature set"
      ],
      "metadata": {
        "id": "KxT-WNFitv28"
      }
    },
    {
      "cell_type": "markdown",
      "source": [
        "We can simply copy the contents of fivegrams_list from the Data_analysis notebook"
      ],
      "metadata": {
        "id": "Ejyb9TbWbzYg"
      }
    },
    {
      "cell_type": "code",
      "source": [
        "fivegrams_list = [('VERB', 'ADP', 'ADJ', 'NOUN', 'PUNCT'), ('PRON', 'VERB', 'ADP', 'NOUN', 'PUNCT'), ('VERB', 'ADP', 'NOUN', 'CCONJ', 'VERB'), ('PUNCT', 'VERB', 'ADP', 'NOUN', 'PUNCT'), ('X', 'X', 'X', 'X', 'X'), ('NOUN', 'ADP', 'ADJ', 'NOUN', 'PUNCT'), ('VERB', 'ADP', 'NOUN', 'PUNCT', 'PUNCT'), ('VERB', 'NOUN', 'ADP', 'NOUN', 'PUNCT'), ('NOUN', 'PUNCT', 'VERB', 'NOUN', 'PUNCT'), ('VERB', 'ADP', 'DET', 'NOUN', 'PUNCT'), ('NOUN', 'PUNCT', 'VERB', 'ADP', 'NOUN'), ('VERB', 'PUNCT', 'SCONJ', 'PRON', 'VERB')]\n",
        "print(len(fivegrams_list))"
      ],
      "metadata": {
        "colab": {
          "base_uri": "https://localhost:8080/"
        },
        "id": "9gJW3oCPbz-2",
        "outputId": "9467882c-1cb0-49ce-b14b-a487cab5be95"
      },
      "execution_count": 16,
      "outputs": [
        {
          "output_type": "stream",
          "name": "stdout",
          "text": [
            "12\n"
          ]
        }
      ]
    },
    {
      "cell_type": "code",
      "source": [
        "entity_types = ['PER', 'LOC', 'ORG']\n",
        "\n",
        "# We are creating a matrix with zero vectors for each review (in training set and test set)\n",
        "train_features_matrix = numpy.zeros((len(train_sentences), 3 + len(fivegrams_list)))\n",
        "print(train_features_matrix.shape)\n",
        "\n",
        "test_features_matrix = numpy.zeros((len(test_sentences), 3 + len(fivegrams_list)))\n",
        "print(test_features_matrix.shape)"
      ],
      "metadata": {
        "colab": {
          "base_uri": "https://localhost:8080/"
        },
        "id": "GJZrmBiruP_A",
        "outputId": "bbadfa75-e8a7-44b6-ed43-5c261561bf51"
      },
      "execution_count": 17,
      "outputs": [
        {
          "output_type": "stream",
          "name": "stdout",
          "text": [
            "(10000, 15)\n",
            "(1000, 15)\n"
          ]
        }
      ]
    },
    {
      "cell_type": "markdown",
      "source": [
        "# Modifying the feature vectors"
      ],
      "metadata": {
        "id": "y7rsBSy6uteo"
      }
    },
    {
      "cell_type": "markdown",
      "source": [
        "## Visualisation tests"
      ],
      "metadata": {
        "id": "ig7m2us2uzRs"
      }
    },
    {
      "cell_type": "code",
      "source": [
        "train_doc_sentences = nlp.pipe(train_sentences)\n",
        "\n",
        "counter = 0\n",
        "\n",
        "for sentence, author in zip(train_doc_sentences, train_authors):\n",
        "    print(author)\n",
        "    print(sentence)\n",
        "    NEs_in_sentence = [entity.label_ for entity in sentence.ents]\n",
        "    print(NEs_in_sentence)\n",
        "    for entity_type in entity_types:\n",
        "      if entity_type in NEs_in_sentence:\n",
        "        print(entity_type)\n",
        "    fivegram_pos_list = fivegram_pos_extractor_from_sentence(sentence)\n",
        "    print(fivegram_pos_list)\n",
        "    for fivegram in fivegrams_list:\n",
        "      if fivegram in fivegram_pos_list:\n",
        "        print(fivegram)\n",
        "        fivegram_id = fivegrams_list.index(fivegram)\n",
        "        print(fivegram_id)\n",
        "    print()\n",
        "    counter +=1\n",
        "    if counter == 5:\n",
        "        break"
      ],
      "metadata": {
        "colab": {
          "base_uri": "https://localhost:8080/"
        },
        "id": "G6C-0P__unAm",
        "outputId": "38e1b7da-ed05-49e9-bb1e-36d095b4f97f"
      },
      "execution_count": null,
      "outputs": [
        {
          "output_type": "stream",
          "name": "stdout",
          "text": [
            "Tolstoy\n",
            "Он старался не развлекаться и не портить себе впечатления, глядя на махание руками белогалстучного капельмейстера, всегда так неприятно развлекающее музыкальное внимание, на дам в шляпах, старательно для концерта завязавших себе уши лентами, и на все эти лица, или ничем не занятые, или занятые самыми разнообразными интересами, но только не музыкой.\n",
            "[]\n",
            "[('NOUN', 'PUNCT', 'ADP', 'VERB', 'ADP'), ('DET', 'DET', 'NOUN', 'PUNCT', 'CCONJ'), ('PART', 'VERB', 'PUNCT', 'CCONJ', 'VERB'), ('ADP', 'NOUN', 'VERB', 'PRON', 'NOUN'), ('ADP', 'DET', 'DET', 'NOUN', 'PUNCT'), ('CCONJ', 'PART', 'PART', 'NOUN', 'PUNCT'), ('PUNCT', 'CCONJ', 'PART', 'PART', 'NOUN'), ('CCONJ', 'PART', 'VERB', 'PRON', 'NOUN'), ('VERB', 'ADP', 'NOUN', 'NOUN', 'ADJ'), ('ADJ', 'VERB', 'ADJ', 'NOUN', 'PUNCT'), ('NOUN', 'NOUN', 'ADJ', 'NOUN', 'PUNCT'), ('ADV', 'ADP', 'NOUN', 'VERB', 'PRON'), ('PRON', 'PART', 'VERB', 'PUNCT', 'CCONJ'), ('PRON', 'VERB', 'PART', 'VERB', 'CCONJ'), ('ADJ', 'ADJ', 'NOUN', 'PUNCT', 'CCONJ'), ('PUNCT', 'ADV', 'ADP', 'NOUN', 'VERB'), ('PUNCT', 'CCONJ', 'VERB', 'ADJ', 'ADJ'), ('DET', 'NOUN', 'PUNCT', 'CCONJ', 'PRON'), ('PUNCT', 'VERB', 'ADP', 'NOUN', 'NOUN'), ('ADV', 'ADV', 'ADJ', 'VERB', 'ADJ'), ('NOUN', 'PUNCT', 'CCONJ', 'ADP', 'DET'), ('NOUN', 'PUNCT', 'VERB', 'ADP', 'NOUN'), ('NOUN', 'ADJ', 'NOUN', 'PUNCT', 'ADV'), ('PUNCT', 'ADP', 'VERB', 'ADP', 'NOUN'), ('PART', 'VERB', 'CCONJ', 'PART', 'VERB'), ('ADJ', 'NOUN', 'PUNCT', 'ADP', 'VERB'), ('VERB', 'ADJ', 'ADJ', 'NOUN', 'PUNCT'), ('PRON', 'NOUN', 'PUNCT', 'VERB', 'ADP'), ('CCONJ', 'ADP', 'DET', 'DET', 'NOUN'), ('PRON', 'NOUN', 'NOUN', 'PUNCT', 'CCONJ'), ('NOUN', 'PUNCT', 'ADV', 'ADV', 'ADJ'), ('NOUN', 'NOUN', 'PUNCT', 'CCONJ', 'ADP'), ('PUNCT', 'CCONJ', 'PRON', 'PART', 'VERB'), ('ADJ', 'NOUN', 'PUNCT', 'CCONJ', 'PART'), ('VERB', 'ADP', 'NOUN', 'PUNCT', 'ADV'), ('ADJ', 'NOUN', 'PUNCT', 'ADV', 'ADV'), ('NOUN', 'PUNCT', 'CCONJ', 'PART', 'PART'), ('VERB', 'PART', 'VERB', 'CCONJ', 'PART'), ('CCONJ', 'VERB', 'ADJ', 'ADJ', 'NOUN'), ('PUNCT', 'ADV', 'ADV', 'ADJ', 'VERB'), ('NOUN', 'PUNCT', 'CCONJ', 'PRON', 'PART'), ('NOUN', 'VERB', 'PRON', 'NOUN', 'NOUN'), ('VERB', 'ADJ', 'NOUN', 'PUNCT', 'ADP'), ('CCONJ', 'PRON', 'PART', 'VERB', 'PUNCT'), ('VERB', 'PRON', 'NOUN', 'PUNCT', 'VERB'), ('VERB', 'CCONJ', 'PART', 'VERB', 'PRON'), ('PUNCT', 'CCONJ', 'ADP', 'DET', 'DET'), ('PART', 'VERB', 'PRON', 'NOUN', 'PUNCT'), ('ADV', 'ADJ', 'VERB', 'ADJ', 'NOUN'), ('NOUN', 'PUNCT', 'ADV', 'ADP', 'NOUN'), ('VERB', 'PUNCT', 'CCONJ', 'VERB', 'ADJ'), ('ADP', 'VERB', 'ADP', 'NOUN', 'PUNCT'), ('ADP', 'NOUN', 'NOUN', 'ADJ', 'NOUN'), ('VERB', 'PRON', 'NOUN', 'NOUN', 'PUNCT'), ('ADP', 'NOUN', 'PUNCT', 'ADV', 'ADP')]\n",
            "('NOUN', 'PUNCT', 'VERB', 'ADP', 'NOUN')\n",
            "10\n",
            "\n",
            "Chekhov\n",
            "Всегда этак у меня перед припадком бывает.\n",
            "[]\n",
            "[('ADP', 'PRON', 'ADP', 'NOUN', 'VERB'), ('ADV', 'ADV', 'ADP', 'PRON', 'ADP'), ('PRON', 'ADP', 'NOUN', 'VERB', 'PUNCT'), ('ADV', 'ADP', 'PRON', 'ADP', 'NOUN')]\n",
            "\n",
            "Dostoevsky\n",
            "Катерина Николаевна тут же и.   отказала ему, без гнева, но и без колебаний.\n",
            "['PER']\n",
            "PER\n",
            "[('PUNCT', 'CCONJ', 'CCONJ', 'ADP', 'NOUN'), ('VERB', 'PRON', 'PUNCT', 'ADP', 'NOUN'), ('PROPN', 'PROPN', 'ADV', 'PART', 'CCONJ'), ('NOUN', 'PUNCT', 'CCONJ', 'CCONJ', 'ADP'), ('PART', 'CCONJ', 'PUNCT', 'SPACE', 'VERB'), ('ADP', 'NOUN', 'PUNCT', 'CCONJ', 'CCONJ'), ('PROPN', 'ADV', 'PART', 'CCONJ', 'PUNCT'), ('PRON', 'PUNCT', 'ADP', 'NOUN', 'PUNCT'), ('PUNCT', 'ADP', 'NOUN', 'PUNCT', 'CCONJ'), ('SPACE', 'VERB', 'PRON', 'PUNCT', 'ADP'), ('PUNCT', 'SPACE', 'VERB', 'PRON', 'PUNCT'), ('CCONJ', 'PUNCT', 'SPACE', 'VERB', 'PRON'), ('CCONJ', 'CCONJ', 'ADP', 'NOUN', 'PUNCT'), ('ADV', 'PART', 'CCONJ', 'PUNCT', 'SPACE')]\n",
            "\n",
            "Gogol\n",
            "Анна Андреевна.\n",
            "['PER']\n",
            "PER\n",
            "[]\n",
            "\n",
            "Chekhov\n",
            "— То, что я видел сейчас, хуже всякой простуды… Глаза эти, бледность… а!\n",
            "[]\n",
            "[('ADJ', 'DET', 'NOUN', 'PUNCT', 'NOUN'), ('PUNCT', 'NOUN', 'PUNCT', 'CCONJ', 'PUNCT'), ('DET', 'NOUN', 'PUNCT', 'NOUN', 'DET'), ('PRON', 'VERB', 'ADV', 'PUNCT', 'ADJ'), ('ADV', 'PUNCT', 'ADJ', 'DET', 'NOUN'), ('PUNCT', 'PRON', 'PRON', 'VERB', 'ADV'), ('PUNCT', 'PRON', 'PUNCT', 'PRON', 'PRON'), ('PRON', 'PUNCT', 'PRON', 'PRON', 'VERB'), ('NOUN', 'PUNCT', 'NOUN', 'DET', 'PUNCT'), ('PUNCT', 'NOUN', 'DET', 'PUNCT', 'NOUN'), ('NOUN', 'DET', 'PUNCT', 'NOUN', 'PUNCT'), ('PUNCT', 'ADJ', 'DET', 'NOUN', 'PUNCT'), ('VERB', 'ADV', 'PUNCT', 'ADJ', 'DET'), ('DET', 'PUNCT', 'NOUN', 'PUNCT', 'CCONJ'), ('PRON', 'PRON', 'VERB', 'ADV', 'PUNCT')]\n",
            "\n"
          ]
        }
      ]
    },
    {
      "cell_type": "markdown",
      "source": [
        "Visualisation test 2:"
      ],
      "metadata": {
        "id": "MhqxSCB4wBwn"
      }
    },
    {
      "cell_type": "code",
      "source": [
        "# Process a text\n",
        "train_features_matrix = numpy.zeros((len(train_sentences), 3 + len(fivegrams_list)))\n",
        "train_doc_sentences = nlp.pipe(train_sentences)\n",
        "\n",
        "counter = 0\n",
        "# loop over each review, label and feature vector at the same time (zip)\n",
        "for sentence, author, feature_vector in zip(train_doc_sentences, train_authors, train_features_matrix):\n",
        "    print('Author:', author)\n",
        "    print(sentence)\n",
        "    NEs_in_sentence = [entity.label_ for entity in sentence.ents]\n",
        "    #print(tokens_list)\n",
        "    for entity_type in entity_types:\n",
        "      if entity_type in NEs_in_sentence:\n",
        "        entity_id = entity_types.index(entity_type)\n",
        "        print(entity_type)\n",
        "        print(entity_id)\n",
        "        feature_vector[entity_id] = 1\n",
        "        print(feature_vector)\n",
        "    fivegram_pos_list = fivegram_pos_extractor_from_sentence(sentence)\n",
        "    print(fivegram_pos_list)\n",
        "    for fivegram in fivegrams_list:\n",
        "      if fivegram in fivegram_pos_list:\n",
        "        fivegram_id = fivegrams_list.index(fivegram) + 3\n",
        "        print(fivegram_id)\n",
        "        print(fivegram)\n",
        "        feature_vector[fivegram_id] = 1\n",
        "        print(feature_vector)\n",
        "    print()\n",
        "    counter +=1\n",
        "    if counter == 10:\n",
        "        break"
      ],
      "metadata": {
        "colab": {
          "base_uri": "https://localhost:8080/"
        },
        "id": "E7YpUbRnvWee",
        "outputId": "d3b0fe2e-f475-4847-80f9-e4ca6ab2c65e"
      },
      "execution_count": null,
      "outputs": [
        {
          "output_type": "stream",
          "name": "stdout",
          "text": [
            "Author: Tolstoy\n",
            "Он старался не развлекаться и не портить себе впечатления, глядя на махание руками белогалстучного капельмейстера, всегда так неприятно развлекающее музыкальное внимание, на дам в шляпах, старательно для концерта завязавших себе уши лентами, и на все эти лица, или ничем не занятые, или занятые самыми разнообразными интересами, но только не музыкой.\n",
            "[('NOUN', 'PUNCT', 'ADP', 'VERB', 'ADP'), ('DET', 'DET', 'NOUN', 'PUNCT', 'CCONJ'), ('PART', 'VERB', 'PUNCT', 'CCONJ', 'VERB'), ('ADP', 'NOUN', 'VERB', 'PRON', 'NOUN'), ('ADP', 'DET', 'DET', 'NOUN', 'PUNCT'), ('CCONJ', 'PART', 'PART', 'NOUN', 'PUNCT'), ('PUNCT', 'CCONJ', 'PART', 'PART', 'NOUN'), ('CCONJ', 'PART', 'VERB', 'PRON', 'NOUN'), ('VERB', 'ADP', 'NOUN', 'NOUN', 'ADJ'), ('ADJ', 'VERB', 'ADJ', 'NOUN', 'PUNCT'), ('NOUN', 'NOUN', 'ADJ', 'NOUN', 'PUNCT'), ('ADV', 'ADP', 'NOUN', 'VERB', 'PRON'), ('PRON', 'PART', 'VERB', 'PUNCT', 'CCONJ'), ('PRON', 'VERB', 'PART', 'VERB', 'CCONJ'), ('ADJ', 'ADJ', 'NOUN', 'PUNCT', 'CCONJ'), ('PUNCT', 'ADV', 'ADP', 'NOUN', 'VERB'), ('PUNCT', 'CCONJ', 'VERB', 'ADJ', 'ADJ'), ('DET', 'NOUN', 'PUNCT', 'CCONJ', 'PRON'), ('PUNCT', 'VERB', 'ADP', 'NOUN', 'NOUN'), ('ADV', 'ADV', 'ADJ', 'VERB', 'ADJ'), ('NOUN', 'PUNCT', 'CCONJ', 'ADP', 'DET'), ('NOUN', 'PUNCT', 'VERB', 'ADP', 'NOUN'), ('NOUN', 'ADJ', 'NOUN', 'PUNCT', 'ADV'), ('PUNCT', 'ADP', 'VERB', 'ADP', 'NOUN'), ('PART', 'VERB', 'CCONJ', 'PART', 'VERB'), ('ADJ', 'NOUN', 'PUNCT', 'ADP', 'VERB'), ('VERB', 'ADJ', 'ADJ', 'NOUN', 'PUNCT'), ('PRON', 'NOUN', 'PUNCT', 'VERB', 'ADP'), ('CCONJ', 'ADP', 'DET', 'DET', 'NOUN'), ('PRON', 'NOUN', 'NOUN', 'PUNCT', 'CCONJ'), ('NOUN', 'PUNCT', 'ADV', 'ADV', 'ADJ'), ('NOUN', 'NOUN', 'PUNCT', 'CCONJ', 'ADP'), ('PUNCT', 'CCONJ', 'PRON', 'PART', 'VERB'), ('ADJ', 'NOUN', 'PUNCT', 'CCONJ', 'PART'), ('VERB', 'ADP', 'NOUN', 'PUNCT', 'ADV'), ('ADJ', 'NOUN', 'PUNCT', 'ADV', 'ADV'), ('NOUN', 'PUNCT', 'CCONJ', 'PART', 'PART'), ('VERB', 'PART', 'VERB', 'CCONJ', 'PART'), ('CCONJ', 'VERB', 'ADJ', 'ADJ', 'NOUN'), ('PUNCT', 'ADV', 'ADV', 'ADJ', 'VERB'), ('NOUN', 'PUNCT', 'CCONJ', 'PRON', 'PART'), ('NOUN', 'VERB', 'PRON', 'NOUN', 'NOUN'), ('VERB', 'ADJ', 'NOUN', 'PUNCT', 'ADP'), ('CCONJ', 'PRON', 'PART', 'VERB', 'PUNCT'), ('VERB', 'PRON', 'NOUN', 'PUNCT', 'VERB'), ('VERB', 'CCONJ', 'PART', 'VERB', 'PRON'), ('PUNCT', 'CCONJ', 'ADP', 'DET', 'DET'), ('PART', 'VERB', 'PRON', 'NOUN', 'PUNCT'), ('ADV', 'ADJ', 'VERB', 'ADJ', 'NOUN'), ('NOUN', 'PUNCT', 'ADV', 'ADP', 'NOUN'), ('VERB', 'PUNCT', 'CCONJ', 'VERB', 'ADJ'), ('ADP', 'VERB', 'ADP', 'NOUN', 'PUNCT'), ('ADP', 'NOUN', 'NOUN', 'ADJ', 'NOUN'), ('VERB', 'PRON', 'NOUN', 'NOUN', 'PUNCT'), ('ADP', 'NOUN', 'PUNCT', 'ADV', 'ADP')]\n",
            "13\n",
            "('NOUN', 'PUNCT', 'VERB', 'ADP', 'NOUN')\n",
            "[0. 0. 0. 0. 0. 0. 0. 0. 0. 0. 0. 0. 0. 1. 0.]\n",
            "\n",
            "Author: Chekhov\n",
            "Всегда этак у меня перед припадком бывает.\n",
            "[('ADP', 'PRON', 'ADP', 'NOUN', 'VERB'), ('ADV', 'ADV', 'ADP', 'PRON', 'ADP'), ('PRON', 'ADP', 'NOUN', 'VERB', 'PUNCT'), ('ADV', 'ADP', 'PRON', 'ADP', 'NOUN')]\n",
            "\n",
            "Author: Dostoevsky\n",
            "Катерина Николаевна тут же и.   отказала ему, без гнева, но и без колебаний.\n",
            "PER\n",
            "0\n",
            "[1. 0. 0. 0. 0. 0. 0. 0. 0. 0. 0. 0. 0. 0. 0.]\n",
            "[('PUNCT', 'CCONJ', 'CCONJ', 'ADP', 'NOUN'), ('VERB', 'PRON', 'PUNCT', 'ADP', 'NOUN'), ('PROPN', 'PROPN', 'ADV', 'PART', 'CCONJ'), ('NOUN', 'PUNCT', 'CCONJ', 'CCONJ', 'ADP'), ('PART', 'CCONJ', 'PUNCT', 'SPACE', 'VERB'), ('ADP', 'NOUN', 'PUNCT', 'CCONJ', 'CCONJ'), ('PROPN', 'ADV', 'PART', 'CCONJ', 'PUNCT'), ('PRON', 'PUNCT', 'ADP', 'NOUN', 'PUNCT'), ('PUNCT', 'ADP', 'NOUN', 'PUNCT', 'CCONJ'), ('SPACE', 'VERB', 'PRON', 'PUNCT', 'ADP'), ('PUNCT', 'SPACE', 'VERB', 'PRON', 'PUNCT'), ('CCONJ', 'PUNCT', 'SPACE', 'VERB', 'PRON'), ('CCONJ', 'CCONJ', 'ADP', 'NOUN', 'PUNCT'), ('ADV', 'PART', 'CCONJ', 'PUNCT', 'SPACE')]\n",
            "\n",
            "Author: Gogol\n",
            "Анна Андреевна.\n",
            "PER\n",
            "0\n",
            "[1. 0. 0. 0. 0. 0. 0. 0. 0. 0. 0. 0. 0. 0. 0.]\n",
            "[]\n",
            "\n",
            "Author: Chekhov\n",
            "— То, что я видел сейчас, хуже всякой простуды… Глаза эти, бледность… а!\n",
            "[('ADJ', 'DET', 'NOUN', 'PUNCT', 'NOUN'), ('PUNCT', 'NOUN', 'PUNCT', 'CCONJ', 'PUNCT'), ('DET', 'NOUN', 'PUNCT', 'NOUN', 'DET'), ('PRON', 'VERB', 'ADV', 'PUNCT', 'ADJ'), ('ADV', 'PUNCT', 'ADJ', 'DET', 'NOUN'), ('PUNCT', 'PRON', 'PRON', 'VERB', 'ADV'), ('PUNCT', 'PRON', 'PUNCT', 'PRON', 'PRON'), ('PRON', 'PUNCT', 'PRON', 'PRON', 'VERB'), ('NOUN', 'PUNCT', 'NOUN', 'DET', 'PUNCT'), ('PUNCT', 'NOUN', 'DET', 'PUNCT', 'NOUN'), ('NOUN', 'DET', 'PUNCT', 'NOUN', 'PUNCT'), ('PUNCT', 'ADJ', 'DET', 'NOUN', 'PUNCT'), ('VERB', 'ADV', 'PUNCT', 'ADJ', 'DET'), ('DET', 'PUNCT', 'NOUN', 'PUNCT', 'CCONJ'), ('PRON', 'PRON', 'VERB', 'ADV', 'PUNCT')]\n",
            "\n",
            "Author: Gogol\n",
            "– сказал Плюшкин.\n",
            "PER\n",
            "0\n",
            "[1. 0. 0. 0. 0. 0. 0. 0. 0. 0. 0. 0. 0. 0. 0.]\n",
            "[]\n",
            "\n",
            "Author: Tolstoy\n",
            "Одни говорят: надо их дальше в горы услать, а старик говорит: «надо убить».\n",
            "[('PRON', 'ADV', 'ADP', 'NOUN', 'VERB'), ('VERB', 'PUNCT', 'CCONJ', 'NOUN', 'VERB'), ('ADV', 'ADP', 'NOUN', 'VERB', 'PUNCT'), ('PUNCT', 'PUNCT', 'ADV', 'VERB', 'PUNCT'), ('CCONJ', 'NOUN', 'VERB', 'PUNCT', 'PUNCT'), ('VERB', 'PUNCT', 'ADV', 'PRON', 'ADV'), ('PUNCT', 'ADV', 'PRON', 'ADV', 'ADP'), ('PUNCT', 'ADV', 'VERB', 'PUNCT', 'PUNCT'), ('NOUN', 'VERB', 'PUNCT', 'CCONJ', 'NOUN'), ('ADV', 'PRON', 'ADV', 'ADP', 'NOUN'), ('VERB', 'PUNCT', 'PUNCT', 'ADV', 'VERB'), ('ADP', 'NOUN', 'VERB', 'PUNCT', 'CCONJ'), ('NOUN', 'VERB', 'PUNCT', 'PUNCT', 'ADV'), ('PUNCT', 'CCONJ', 'NOUN', 'VERB', 'PUNCT'), ('DET', 'VERB', 'PUNCT', 'ADV', 'PRON')]\n",
            "\n",
            "Author: Gogol\n",
            "Только каким образом до того времени уберечь деньги, как сохранить их так, чтобы не узнал ни Джякомо, ни мастер Петручьо, точильщик, которые непременно попросят у него взаймы, потому что Джякомо заложил в Гету жидам все свое платье, а мастер Петручьо тоже заложил свое платье в Гету жидам и разорвал на себе юбку и последний платок жены, нарядясь женщиною… как сделать так, чтобы не дать им взаймы?\"\n",
            "PER\n",
            "0\n",
            "[1. 0. 0. 0. 0. 0. 0. 0. 0. 0. 0. 0. 0. 0. 0.]\n",
            "LOC\n",
            "1\n",
            "[1. 1. 0. 0. 0. 0. 0. 0. 0. 0. 0. 0. 0. 0. 0.]\n",
            "[('PROPN', 'PUNCT', 'CCONJ', 'NOUN', 'PROPN'), ('DET', 'DET', 'NOUN', 'PUNCT', 'CCONJ'), ('NOUN', 'PUNCT', 'ADV', 'VERB', 'PRON'), ('DET', 'NOUN', 'ADP', 'DET', 'NOUN'), ('CCONJ', 'PROPN', 'PUNCT', 'CCONJ', 'NOUN'), ('PROPN', 'VERB', 'ADP', 'PROPN', 'NOUN'), ('VERB', 'CCONJ', 'PROPN', 'PUNCT', 'CCONJ'), ('NOUN', 'ADP', 'DET', 'NOUN', 'VERB'), ('PUNCT', 'CCONJ', 'NOUN', 'PROPN', 'ADV'), ('ADV', 'VERB', 'PRON', 'ADV', 'PUNCT'), ('PROPN', 'PUNCT', 'NOUN', 'PUNCT', 'PRON'), ('NOUN', 'DET', 'DET', 'NOUN', 'PUNCT'), ('VERB', 'ADP', 'PRON', 'ADV', 'PUNCT'), ('DET', 'NOUN', 'ADP', 'PROPN', 'NOUN'), ('NOUN', 'ADP', 'PROPN', 'NOUN', 'CCONJ'), ('PROPN', 'NOUN', 'CCONJ', 'VERB', 'ADP'), ('NOUN', 'CCONJ', 'VERB', 'ADP', 'PRON'), ('NOUN', 'PUNCT', 'CCONJ', 'NOUN', 'PROPN'), ('PART', 'DET', 'NOUN', 'ADP', 'DET'), ('NOUN', 'PROPN', 'PUNCT', 'NOUN', 'PUNCT'), ('VERB', 'ADP', 'PROPN', 'NOUN', 'DET'), ('ADP', 'PROPN', 'NOUN', 'DET', 'DET'), ('ADV', 'VERB', 'DET', 'NOUN', 'ADP'), ('PUNCT', 'SCONJ', 'VERB', 'ADV', 'PUNCT'), ('SCONJ', 'VERB', 'ADV', 'PUNCT', 'SCONJ'), ('VERB', 'PRON', 'ADV', 'PUNCT', 'PUNCT'), ('PUNCT', 'CCONJ', 'NOUN', 'PROPN', 'PUNCT'), ('PUNCT', 'ADV', 'VERB', 'PRON', 'ADV'), ('NOUN', 'PROPN', 'ADV', 'VERB', 'DET'), ('SCONJ', 'PART', 'VERB', 'CCONJ', 'PROPN'), ('ADP', 'PRON', 'ADV', 'PUNCT', 'ADV'), ('ADV', 'SCONJ', 'PROPN', 'VERB', 'ADP'), ('NOUN', 'CCONJ', 'ADJ', 'NOUN', 'NOUN'), ('DET', 'NOUN', 'VERB', 'NOUN', 'PUNCT'), ('PUNCT', 'VERB', 'NOUN', 'PUNCT', 'SCONJ'), ('NOUN', 'PUNCT', 'SCONJ', 'VERB', 'ADV'), ('VERB', 'NOUN', 'PUNCT', 'SCONJ', 'VERB'), ('NOUN', 'NOUN', 'PUNCT', 'VERB', 'NOUN'), ('ADV', 'VERB', 'ADP', 'PRON', 'ADV'), ('NOUN', 'PUNCT', 'PRON', 'ADV', 'VERB'), ('PRON', 'ADV', 'PUNCT', 'SCONJ', 'PART'), ('PART', 'VERB', 'PRON', 'ADV', 'PUNCT'), ('PART', 'VERB', 'CCONJ', 'PROPN', 'PUNCT'), ('CCONJ', 'ADJ', 'NOUN', 'NOUN', 'PUNCT'), ('PRON', 'ADV', 'VERB', 'ADP', 'PRON'), ('NOUN', 'PUNCT', 'VERB', 'NOUN', 'PUNCT'), ('ADP', 'PROPN', 'NOUN', 'CCONJ', 'VERB'), ('PUNCT', 'SCONJ', 'PART', 'VERB', 'CCONJ'), ('VERB', 'DET', 'NOUN', 'ADP', 'PROPN'), ('PUNCT', 'PRON', 'ADV', 'VERB', 'ADP'), ('SCONJ', 'PROPN', 'VERB', 'ADP', 'PROPN'), ('PUNCT', 'ADV', 'SCONJ', 'PROPN', 'VERB'), ('PROPN', 'ADV', 'VERB', 'DET', 'NOUN'), ('PRON', 'NOUN', 'CCONJ', 'ADJ', 'NOUN'), ('SCONJ', 'PART', 'VERB', 'PRON', 'ADV'), ('PUNCT', 'SCONJ', 'PART', 'VERB', 'PRON'), ('ADV', 'PUNCT', 'ADV', 'SCONJ', 'PROPN'), ('CCONJ', 'NOUN', 'PROPN', 'PUNCT', 'NOUN'), ('VERB', 'ADV', 'PUNCT', 'SCONJ', 'PART'), ('NOUN', 'VERB', 'NOUN', 'PUNCT', 'ADV'), ('VERB', 'ADP', 'PRON', 'NOUN', 'CCONJ'), ('ADP', 'DET', 'NOUN', 'VERB', 'NOUN'), ('ADV', 'PUNCT', 'SCONJ', 'PART', 'VERB'), ('DET', 'NOUN', 'PUNCT', 'CCONJ', 'NOUN'), ('VERB', 'PRON', 'ADV', 'PUNCT', 'SCONJ'), ('PROPN', 'NOUN', 'DET', 'DET', 'NOUN'), ('CCONJ', 'VERB', 'ADP', 'PRON', 'NOUN'), ('VERB', 'NOUN', 'PUNCT', 'ADV', 'VERB'), ('ADJ', 'NOUN', 'NOUN', 'PUNCT', 'VERB'), ('ADP', 'PRON', 'NOUN', 'CCONJ', 'ADJ'), ('PRON', 'ADV', 'PUNCT', 'ADV', 'SCONJ'), ('CCONJ', 'NOUN', 'PROPN', 'ADV', 'VERB'), ('PUNCT', 'NOUN', 'PUNCT', 'PRON', 'ADV')]\n",
            "11\n",
            "('NOUN', 'PUNCT', 'VERB', 'NOUN', 'PUNCT')\n",
            "[1. 1. 0. 0. 0. 0. 0. 0. 0. 0. 0. 1. 0. 0. 0.]\n",
            "\n",
            "Author: Chekhov\n",
            "Бедность, говорят, страшная: есть нечего, за квартиру не заплачено.\n",
            "[('PUNCT', 'ADP', 'NOUN', 'PART', 'VERB'), ('VERB', 'VERB', 'PUNCT', 'ADP', 'NOUN'), ('VERB', 'PUNCT', 'ADP', 'NOUN', 'PART'), ('PUNCT', 'VERB', 'VERB', 'PUNCT', 'ADP'), ('NOUN', 'PUNCT', 'VERB', 'PUNCT', 'ADJ'), ('ADJ', 'PUNCT', 'VERB', 'VERB', 'PUNCT'), ('ADP', 'NOUN', 'PART', 'VERB', 'PUNCT'), ('PUNCT', 'VERB', 'PUNCT', 'ADJ', 'PUNCT'), ('VERB', 'PUNCT', 'ADJ', 'PUNCT', 'VERB'), ('PUNCT', 'ADJ', 'PUNCT', 'VERB', 'VERB')]\n",
            "\n",
            "Author: Gogol\n",
            "По движениям губ и рук их видно было, что они были заняты живым разговором; может быть, они тоже говорили о приезде нового генерал-губернатора и делали предположения насчет балов, какие он даст, и хлопотали о вечных своих фестончиках и нашивочках.\n",
            "[('VERB', 'ADP', 'NOUN', 'ADJ', 'NOUN'), ('ADJ', 'NOUN', 'NOUN', 'NOUN', 'CCONJ'), ('VERB', 'PUNCT', 'CCONJ', 'VERB', 'ADP'), ('VERB', 'ADJ', 'NOUN', 'PUNCT', 'VERB'), ('ADJ', 'NOUN', 'PUNCT', 'VERB', 'VERB'), ('VERB', 'NOUN', 'ADP', 'NOUN', 'PUNCT'), ('PRON', 'ADV', 'VERB', 'ADP', 'NOUN'), ('SCONJ', 'PRON', 'AUX', 'VERB', 'ADJ'), ('VERB', 'PUNCT', 'PRON', 'ADV', 'VERB'), ('CCONJ', 'VERB', 'NOUN', 'ADP', 'NOUN'), ('ADJ', 'DET', 'NOUN', 'CCONJ', 'NOUN'), ('PUNCT', 'VERB', 'VERB', 'PUNCT', 'PRON'), ('DET', 'PRON', 'VERB', 'PUNCT', 'CCONJ'), ('DET', 'NOUN', 'CCONJ', 'NOUN', 'PUNCT'), ('PUNCT', 'SCONJ', 'PRON', 'AUX', 'VERB'), ('NOUN', 'PUNCT', 'DET', 'PRON', 'VERB'), ('ADP', 'NOUN', 'NOUN', 'CCONJ', 'NOUN'), ('AUX', 'VERB', 'ADJ', 'NOUN', 'PUNCT'), ('NOUN', 'NOUN', 'NOUN', 'CCONJ', 'VERB'), ('CCONJ', 'NOUN', 'PRON', 'ADV', 'AUX'), ('NOUN', 'CCONJ', 'NOUN', 'PRON', 'ADV'), ('CCONJ', 'VERB', 'ADP', 'ADJ', 'DET'), ('VERB', 'ADP', 'ADJ', 'DET', 'NOUN'), ('ADV', 'VERB', 'ADP', 'NOUN', 'ADJ'), ('PUNCT', 'DET', 'PRON', 'VERB', 'PUNCT'), ('ADP', 'ADJ', 'DET', 'NOUN', 'CCONJ'), ('NOUN', 'PRON', 'ADV', 'AUX', 'PUNCT'), ('PUNCT', 'PRON', 'ADV', 'VERB', 'ADP'), ('AUX', 'PUNCT', 'SCONJ', 'PRON', 'AUX'), ('VERB', 'VERB', 'PUNCT', 'PRON', 'ADV'), ('PRON', 'VERB', 'PUNCT', 'CCONJ', 'VERB'), ('PRON', 'AUX', 'VERB', 'ADJ', 'NOUN'), ('ADP', 'NOUN', 'PUNCT', 'DET', 'PRON'), ('PRON', 'ADV', 'AUX', 'PUNCT', 'SCONJ'), ('ADV', 'AUX', 'PUNCT', 'SCONJ', 'PRON'), ('NOUN', 'NOUN', 'CCONJ', 'VERB', 'NOUN'), ('NOUN', 'CCONJ', 'VERB', 'NOUN', 'ADP'), ('ADP', 'NOUN', 'ADJ', 'NOUN', 'NOUN'), ('NOUN', 'ADJ', 'NOUN', 'NOUN', 'NOUN'), ('NOUN', 'ADP', 'NOUN', 'PUNCT', 'DET'), ('NOUN', 'NOUN', 'CCONJ', 'NOUN', 'PRON'), ('PUNCT', 'CCONJ', 'VERB', 'ADP', 'ADJ'), ('NOUN', 'PUNCT', 'VERB', 'VERB', 'PUNCT')]\n",
            "10\n",
            "('VERB', 'NOUN', 'ADP', 'NOUN', 'PUNCT')\n",
            "[0. 0. 0. 0. 0. 0. 0. 0. 0. 0. 1. 0. 0. 0. 0.]\n",
            "\n"
          ]
        }
      ]
    },
    {
      "cell_type": "markdown",
      "source": [
        "## Writing a function for feature vector modification"
      ],
      "metadata": {
        "id": "VVVGJxY2xWMV"
      }
    },
    {
      "cell_type": "code",
      "source": [
        "def modify_feature_vectors(doc_sentences, features_matrix):\n",
        "  for sentence, feature_vector in zip(doc_sentences, features_matrix):\n",
        "    NEs_in_sentence = [entity.label_ for entity in sentence.ents]\n",
        "    for entity_type in entity_types:\n",
        "      if entity_type in NEs_in_sentence:\n",
        "        entity_id = entity_types.index(entity_type)\n",
        "        feature_vector[entity_id] = 1\n",
        "\n",
        "    fivegram_pos_list = fivegram_pos_extractor_from_sentence(sentence)\n",
        "    for fivegram in fivegrams_list:\n",
        "      if fivegram in fivegram_pos_list:\n",
        "        fivegram_id = fivegrams_list.index(fivegram) + 3\n",
        "        feature_vector[fivegram_id] = 1\n",
        "\n",
        "  return features_matrix"
      ],
      "metadata": {
        "id": "y_iykAuiwWtW"
      },
      "execution_count": 18,
      "outputs": []
    },
    {
      "cell_type": "code",
      "source": [
        "train_features_matrix = numpy.zeros((len(train_sentences), 3 + len(fivegrams_list)))\n",
        "train_doc_sentences = nlp.pipe(train_sentences)\n",
        "\n",
        "train_features_matrix_final = modify_feature_vectors(train_doc_sentences, train_features_matrix)"
      ],
      "metadata": {
        "id": "t5FQiPUbxzbP"
      },
      "execution_count": 19,
      "outputs": []
    },
    {
      "cell_type": "markdown",
      "source": [
        "# Training"
      ],
      "metadata": {
        "id": "uCDUZxJwB6qD"
      }
    },
    {
      "cell_type": "code",
      "source": [
        "lr7_NER_and_common_5grams = LogisticRegression()\n",
        "\n",
        "# Train the model on the data, storing the information learned from the dat`a\n",
        "# Model is learning the relationship between digits (x_train) and labels (y_train)\n",
        "lr7_NER_and_common_5grams.fit(train_features_matrix_final, train_authors)\n",
        "\n",
        "print(lr7_NER_and_common_5grams.classes_)"
      ],
      "metadata": {
        "colab": {
          "base_uri": "https://localhost:8080/"
        },
        "id": "dqTj59hQx83a",
        "outputId": "0d387ead-5daa-4949-a027-af9d4b0d6bb6"
      },
      "execution_count": 20,
      "outputs": [
        {
          "output_type": "stream",
          "name": "stdout",
          "text": [
            "['Chekhov' 'Dostoevsky' 'Gogol' 'Tolstoy']\n"
          ]
        }
      ]
    },
    {
      "cell_type": "markdown",
      "source": [
        "# Modifying the test set feature vectors"
      ],
      "metadata": {
        "id": "MHcqawY7yU4z"
      }
    },
    {
      "cell_type": "code",
      "source": [
        "test_doc_sentences = nlp.pipe(test_sentences)\n",
        "test_features_matrix = numpy.zeros((len(test_sentences), 3 + len(fivegrams_list)))\n",
        "\n",
        "test_features_matrix_final = modify_feature_vectors(test_doc_sentences, test_features_matrix)"
      ],
      "metadata": {
        "id": "TYVmyjj6ya0_"
      },
      "execution_count": 21,
      "outputs": []
    },
    {
      "cell_type": "markdown",
      "source": [
        "# Making predictions"
      ],
      "metadata": {
        "id": "Bfyn0z7wykfO"
      }
    },
    {
      "cell_type": "code",
      "source": [
        "predict_data = [test_sentences, test_features_matrix_final, test_authors, lr7_NER_and_common_5grams]"
      ],
      "metadata": {
        "id": "4rs3H7z8Hr_9"
      },
      "execution_count": 22,
      "outputs": []
    },
    {
      "cell_type": "code",
      "source": [
        "predict_new(0, predict_data)\n",
        "predict_new(1, predict_data)\n",
        "predict_new(2, predict_data)\n",
        "predict_new(3, predict_data)\n",
        "predict_new(4, predict_data)\n",
        "predict_new(5, predict_data)"
      ],
      "metadata": {
        "colab": {
          "base_uri": "https://localhost:8080/"
        },
        "id": "pQAnyGzGHuD9",
        "outputId": "a5cd6fc3-b3df-450e-a20a-6934f743297e"
      },
      "execution_count": 23,
      "outputs": [
        {
          "output_type": "stream",
          "name": "stdout",
          "text": [
            "— Это мы понимаем… Мы ведь не все отвинчиваем… оставляем… Не без ума делаем… понимаем….\n",
            "[0. 0. 0. 0. 0. 0. 0. 0. 0. 0. 0. 0. 0. 0. 0.]\n",
            "Chekhov\n",
            "\n",
            "Prediction:\n",
            "['Dostoevsky']\n",
            "[[0.24466936 0.26670898 0.25764907 0.2309726 ]]\n",
            "--------------------------------------------------------\n",
            "\n",
            "Да что я?\n",
            "[0. 0. 0. 0. 0. 0. 0. 0. 0. 0. 0. 0. 0. 0. 0.]\n",
            "Gogol\n",
            "\n",
            "Prediction:\n",
            "['Dostoevsky']\n",
            "[[0.24466936 0.26670898 0.25764907 0.2309726 ]]\n",
            "--------------------------------------------------------\n",
            "\n",
            "Я думаю, у меня горло замерзло от проклятого морозу.\n",
            "[0. 0. 0. 1. 0. 0. 0. 0. 0. 0. 0. 0. 0. 0. 0.]\n",
            "Gogol\n",
            "\n",
            "Prediction:\n",
            "['Gogol']\n",
            "[[0.24897658 0.23538726 0.28700098 0.22863519]]\n",
            "--------------------------------------------------------\n",
            "\n",
            "На деда, несмотря на весь страх, смех напал, когда увидел, как черти с собачьими мордами, на немецких ножках, вертя хвостами, увивались около ведьм, будто парни около красных девушек; а музыканты тузили себя в щеки кулаками, словно в бубны, и свистали носами, как в валторны.\n",
            "[0. 0. 0. 0. 0. 0. 1. 0. 1. 0. 0. 1. 0. 1. 0.]\n",
            "Gogol\n",
            "\n",
            "Prediction:\n",
            "['Gogol']\n",
            "[[0.16585753 0.0470288  0.5027923  0.28432137]]\n",
            "--------------------------------------------------------\n",
            "\n",
            "Действительно, влияние товарищей оказало на него хорошее действие, и он совершенно здоров и учится хорошо.. .\n",
            "[0. 0. 0. 0. 0. 0. 0. 0. 0. 0. 0. 0. 0. 0. 0.]\n",
            "Tolstoy\n",
            "\n",
            "Prediction:\n",
            "['Dostoevsky']\n",
            "[[0.24466936 0.26670898 0.25764907 0.2309726 ]]\n",
            "--------------------------------------------------------\n",
            "\n",
            "68 г.: Натали к этому очень чувствительна..     Стр.\n",
            "[1. 0. 0. 0. 0. 0. 0. 0. 0. 0. 0. 0. 0. 0. 0.]\n",
            "Tolstoy\n",
            "\n",
            "Prediction:\n",
            "['Tolstoy']\n",
            "[[0.26358474 0.24680472 0.21265757 0.27695297]]\n",
            "--------------------------------------------------------\n",
            "\n"
          ]
        }
      ]
    },
    {
      "cell_type": "code",
      "source": [
        "test_predictions_NER_common_5grams = lr7_NER_and_common_5grams.predict(test_features_matrix_final)"
      ],
      "metadata": {
        "id": "0bfAbS7eY3kK"
      },
      "execution_count": 24,
      "outputs": []
    },
    {
      "cell_type": "code",
      "source": [
        "predict2(test_predictions_NER_common_5grams, test_authors)"
      ],
      "metadata": {
        "colab": {
          "base_uri": "https://localhost:8080/"
        },
        "id": "VdfN7bx5ZLoa",
        "outputId": "47a520b6-6f97-4450-e6d7-d91b014e94dd"
      },
      "execution_count": 25,
      "outputs": [
        {
          "output_type": "stream",
          "name": "stdout",
          "text": [
            "Dostoevsky (Incorrect:Chekhov)\n",
            "Dostoevsky (Incorrect:Gogol)\n",
            "Gogol (Correct:Gogol)\n",
            "Gogol (Correct:Gogol)\n",
            "Dostoevsky (Incorrect:Tolstoy)\n",
            "Tolstoy (Correct:Tolstoy)\n",
            "Dostoevsky (Incorrect:Chekhov)\n",
            "Dostoevsky (Incorrect:Tolstoy)\n",
            "Dostoevsky (Incorrect:Gogol)\n",
            "Dostoevsky (Incorrect:Tolstoy)\n"
          ]
        }
      ]
    },
    {
      "cell_type": "markdown",
      "source": [
        "#Analysing the model"
      ],
      "metadata": {
        "id": "9cPq7uQkcdPq"
      }
    },
    {
      "cell_type": "code",
      "source": [
        "features_list = entity_types + fivegrams_list\n",
        "model_analysis2(lr7_NER_and_common_5grams, features_list, top_n=20)"
      ],
      "metadata": {
        "id": "amBun3upciHg",
        "colab": {
          "base_uri": "https://localhost:8080/"
        },
        "outputId": "4470c8ed-a53c-430d-8605-5bb25e0ec851"
      },
      "execution_count": 26,
      "outputs": [
        {
          "output_type": "stream",
          "name": "stdout",
          "text": [
            "Class: Chekhov\n",
            "Feature: ('X', 'X', 'X', 'X', 'X'), Coefficient: -1.0036\n",
            "Feature: ('VERB', 'ADP', 'NOUN', 'CCONJ', 'VERB'), Coefficient: 0.9345\n",
            "Feature: ('VERB', 'ADP', 'NOUN', 'PUNCT', 'PUNCT'), Coefficient: 0.8803\n",
            "Feature: ORG, Coefficient: -0.5815\n",
            "Feature: ('VERB', 'NOUN', 'ADP', 'NOUN', 'PUNCT'), Coefficient: 0.4428\n",
            "Feature: LOC, Coefficient: -0.2767\n",
            "Feature: ('NOUN', 'PUNCT', 'VERB', 'NOUN', 'PUNCT'), Coefficient: 0.2490\n",
            "Feature: ('VERB', 'ADP', 'DET', 'NOUN', 'PUNCT'), Coefficient: -0.1674\n",
            "Feature: ('NOUN', 'PUNCT', 'VERB', 'ADP', 'NOUN'), Coefficient: -0.1335\n",
            "Feature: ('NOUN', 'ADP', 'ADJ', 'NOUN', 'PUNCT'), Coefficient: -0.0969\n",
            "Feature: ('PUNCT', 'VERB', 'ADP', 'NOUN', 'PUNCT'), Coefficient: -0.0954\n",
            "Feature: ('VERB', 'PUNCT', 'SCONJ', 'PRON', 'VERB'), Coefficient: -0.0917\n",
            "Feature: PER, Coefficient: 0.0778\n",
            "Feature: ('VERB', 'ADP', 'ADJ', 'NOUN', 'PUNCT'), Coefficient: 0.0199\n",
            "Feature: ('PRON', 'VERB', 'ADP', 'NOUN', 'PUNCT'), Coefficient: -0.0150\n",
            "Intercept: -0.0201\n",
            "\n",
            "Class: Dostoevsky\n",
            "Feature: ('VERB', 'NOUN', 'ADP', 'NOUN', 'PUNCT'), Coefficient: -0.6783\n",
            "Feature: ('VERB', 'ADP', 'NOUN', 'PUNCT', 'PUNCT'), Coefficient: -0.6539\n",
            "Feature: ('NOUN', 'PUNCT', 'VERB', 'NOUN', 'PUNCT'), Coefficient: -0.5389\n",
            "Feature: ('VERB', 'ADP', 'NOUN', 'CCONJ', 'VERB'), Coefficient: -0.4632\n",
            "Feature: ORG, Coefficient: 0.4358\n",
            "Feature: ('NOUN', 'ADP', 'ADJ', 'NOUN', 'PUNCT'), Coefficient: -0.3865\n",
            "Feature: ('NOUN', 'PUNCT', 'VERB', 'ADP', 'NOUN'), Coefficient: -0.3456\n",
            "Feature: ('X', 'X', 'X', 'X', 'X'), Coefficient: 0.1933\n",
            "Feature: ('PUNCT', 'VERB', 'ADP', 'NOUN', 'PUNCT'), Coefficient: -0.1524\n",
            "Feature: LOC, Coefficient: -0.1501\n",
            "Feature: ('VERB', 'PUNCT', 'SCONJ', 'PRON', 'VERB'), Coefficient: 0.1392\n",
            "Feature: ('VERB', 'ADP', 'ADJ', 'NOUN', 'PUNCT'), Coefficient: -0.1225\n",
            "Feature: PER, Coefficient: -0.0742\n",
            "Feature: ('PRON', 'VERB', 'ADP', 'NOUN', 'PUNCT'), Coefficient: -0.0116\n",
            "Feature: ('VERB', 'ADP', 'DET', 'NOUN', 'PUNCT'), Coefficient: 0.0010\n",
            "Intercept: 0.0662\n",
            "\n",
            "Class: Gogol\n",
            "Feature: ('X', 'X', 'X', 'X', 'X'), Coefficient: -1.0327\n",
            "Feature: ('VERB', 'ADP', 'NOUN', 'CCONJ', 'VERB'), Coefficient: -0.5869\n",
            "Feature: ('NOUN', 'PUNCT', 'VERB', 'NOUN', 'PUNCT'), Coefficient: 0.3731\n",
            "Feature: ('VERB', 'NOUN', 'ADP', 'NOUN', 'PUNCT'), Coefficient: 0.2995\n",
            "Feature: ('NOUN', 'ADP', 'ADJ', 'NOUN', 'PUNCT'), Coefficient: 0.2433\n",
            "Feature: ('PUNCT', 'VERB', 'ADP', 'NOUN', 'PUNCT'), Coefficient: 0.2289\n",
            "Feature: ORG, Coefficient: -0.2231\n",
            "Feature: PER, Coefficient: -0.1886\n",
            "Feature: ('VERB', 'ADP', 'DET', 'NOUN', 'PUNCT'), Coefficient: 0.1857\n",
            "Feature: LOC, Coefficient: 0.1415\n",
            "Feature: ('NOUN', 'PUNCT', 'VERB', 'ADP', 'NOUN'), Coefficient: 0.1353\n",
            "Feature: ('VERB', 'ADP', 'NOUN', 'PUNCT', 'PUNCT'), Coefficient: 0.1335\n",
            "Feature: ('VERB', 'PUNCT', 'SCONJ', 'PRON', 'VERB'), Coefficient: -0.1209\n",
            "Feature: ('VERB', 'ADP', 'ADJ', 'NOUN', 'PUNCT'), Coefficient: 0.1103\n",
            "Feature: ('PRON', 'VERB', 'ADP', 'NOUN', 'PUNCT'), Coefficient: -0.0054\n",
            "Intercept: 0.0316\n",
            "\n",
            "Class: Tolstoy\n",
            "Feature: ('X', 'X', 'X', 'X', 'X'), Coefficient: 1.8429\n",
            "Feature: ORG, Coefficient: 0.3688\n",
            "Feature: ('VERB', 'ADP', 'NOUN', 'PUNCT', 'PUNCT'), Coefficient: -0.3599\n",
            "Feature: ('NOUN', 'PUNCT', 'VERB', 'ADP', 'NOUN'), Coefficient: 0.3439\n",
            "Feature: LOC, Coefficient: 0.2853\n",
            "Feature: ('NOUN', 'ADP', 'ADJ', 'NOUN', 'PUNCT'), Coefficient: 0.2402\n",
            "Feature: PER, Coefficient: 0.1849\n",
            "Feature: ('VERB', 'ADP', 'NOUN', 'CCONJ', 'VERB'), Coefficient: 0.1156\n",
            "Feature: ('NOUN', 'PUNCT', 'VERB', 'NOUN', 'PUNCT'), Coefficient: -0.0832\n",
            "Feature: ('VERB', 'PUNCT', 'SCONJ', 'PRON', 'VERB'), Coefficient: 0.0735\n",
            "Feature: ('VERB', 'NOUN', 'ADP', 'NOUN', 'PUNCT'), Coefficient: -0.0641\n",
            "Feature: ('PRON', 'VERB', 'ADP', 'NOUN', 'PUNCT'), Coefficient: 0.0321\n",
            "Feature: ('VERB', 'ADP', 'DET', 'NOUN', 'PUNCT'), Coefficient: -0.0193\n",
            "Feature: ('PUNCT', 'VERB', 'ADP', 'NOUN', 'PUNCT'), Coefficient: 0.0189\n",
            "Feature: ('VERB', 'ADP', 'ADJ', 'NOUN', 'PUNCT'), Coefficient: -0.0077\n",
            "Intercept: -0.0777\n",
            "\n"
          ]
        }
      ]
    },
    {
      "cell_type": "markdown",
      "source": [
        "# Saving the model"
      ],
      "metadata": {
        "id": "Gm1l7bT8zEpB"
      }
    },
    {
      "cell_type": "code",
      "source": [
        "# Save to file in the current working directory\n",
        "pkl_filename = \"logreg_NER_and_common_5grams.pkl\"\n",
        "with open(pkl_filename, 'wb') as file:\n",
        "    pickle.dump(lr7_NER_and_common_5grams, file)"
      ],
      "metadata": {
        "id": "LveIaprty3w_"
      },
      "execution_count": 27,
      "outputs": []
    },
    {
      "cell_type": "markdown",
      "source": [
        "# Evaluating the model"
      ],
      "metadata": {
        "id": "aP0_aFPLzWhD"
      }
    },
    {
      "cell_type": "markdown",
      "source": [
        "## Dummy model"
      ],
      "metadata": {
        "id": "sODsi91uzYn9"
      }
    },
    {
      "cell_type": "code",
      "source": [
        "dummy_predictions = ['Dostoevsky'] * len(test_sentences)\n",
        "print(classification_report(test_authors, dummy_predictions))"
      ],
      "metadata": {
        "colab": {
          "base_uri": "https://localhost:8080/"
        },
        "id": "otw74QqgzO_I",
        "outputId": "34512894-43d8-4388-f2e6-8aeec3f3ede8"
      },
      "execution_count": null,
      "outputs": [
        {
          "output_type": "stream",
          "name": "stdout",
          "text": [
            "              precision    recall  f1-score   support\n",
            "\n",
            "     Chekhov       0.00      0.00      0.00       250\n",
            "  Dostoevsky       0.25      1.00      0.40       250\n",
            "       Gogol       0.00      0.00      0.00       250\n",
            "     Tolstoy       0.00      0.00      0.00       250\n",
            "\n",
            "    accuracy                           0.25      1000\n",
            "   macro avg       0.06      0.25      0.10      1000\n",
            "weighted avg       0.06      0.25      0.10      1000\n",
            "\n"
          ]
        },
        {
          "output_type": "stream",
          "name": "stderr",
          "text": [
            "/usr/local/lib/python3.10/dist-packages/sklearn/metrics/_classification.py:1344: UndefinedMetricWarning: Precision and F-score are ill-defined and being set to 0.0 in labels with no predicted samples. Use `zero_division` parameter to control this behavior.\n",
            "  _warn_prf(average, modifier, msg_start, len(result))\n",
            "/usr/local/lib/python3.10/dist-packages/sklearn/metrics/_classification.py:1344: UndefinedMetricWarning: Precision and F-score are ill-defined and being set to 0.0 in labels with no predicted samples. Use `zero_division` parameter to control this behavior.\n",
            "  _warn_prf(average, modifier, msg_start, len(result))\n",
            "/usr/local/lib/python3.10/dist-packages/sklearn/metrics/_classification.py:1344: UndefinedMetricWarning: Precision and F-score are ill-defined and being set to 0.0 in labels with no predicted samples. Use `zero_division` parameter to control this behavior.\n",
            "  _warn_prf(average, modifier, msg_start, len(result))\n"
          ]
        }
      ]
    },
    {
      "cell_type": "markdown",
      "source": [
        "## NER + Common POS Model"
      ],
      "metadata": {
        "id": "ZqfZEEL_zgZ3"
      }
    },
    {
      "cell_type": "code",
      "source": [
        "print(classification_report(test_authors, test_predictions_NER_common_5grams))"
      ],
      "metadata": {
        "colab": {
          "base_uri": "https://localhost:8080/"
        },
        "id": "C-507yfLzyoT",
        "outputId": "41f3d8b0-b895-4122-d262-1f3874f27769"
      },
      "execution_count": 28,
      "outputs": [
        {
          "output_type": "stream",
          "name": "stdout",
          "text": [
            "              precision    recall  f1-score   support\n",
            "\n",
            "     Chekhov       0.17      0.02      0.04       250\n",
            "  Dostoevsky       0.28      0.66      0.39       250\n",
            "       Gogol       0.28      0.06      0.10       250\n",
            "     Tolstoy       0.28      0.36      0.31       250\n",
            "\n",
            "    accuracy                           0.27      1000\n",
            "   macro avg       0.25      0.27      0.21      1000\n",
            "weighted avg       0.25      0.27      0.21      1000\n",
            "\n"
          ]
        }
      ]
    },
    {
      "cell_type": "code",
      "source": [],
      "metadata": {
        "id": "QjegeEh8ZW9A"
      },
      "execution_count": null,
      "outputs": []
    }
  ]
}